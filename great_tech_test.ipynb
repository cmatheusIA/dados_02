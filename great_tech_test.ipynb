{
  "nbformat": 4,
  "nbformat_minor": 0,
  "metadata": {
    "colab": {
      "provenance": [],
      "collapsed_sections": [
        "KPYQkxVKYfsm"
      ],
      "toc_visible": true,
      "mount_file_id": "1Yu14j19ScCteKq0Db9uOBIilkoxnDUXn",
      "authorship_tag": "ABX9TyO+NJcFhlyI2j78O03m925f",
      "include_colab_link": true
    },
    "kernelspec": {
      "name": "python3",
      "display_name": "Python 3"
    },
    "language_info": {
      "name": "python"
    }
  },
  "cells": [
    {
      "cell_type": "markdown",
      "metadata": {
        "id": "view-in-github",
        "colab_type": "text"
      },
      "source": [
        "<a href=\"https://colab.research.google.com/github/cmatheusIA/dados_02/blob/main/great_tech_test.ipynb\" target=\"_parent\"><img src=\"https://colab.research.google.com/assets/colab-badge.svg\" alt=\"Open In Colab\"/></a>"
      ]
    },
    {
      "cell_type": "markdown",
      "source": [
        "Autor : Carlos Matheus R. Martins\n",
        "\n",
        "Engenharia de Software\n",
        "\n",
        "Universidade Federal do Ceará Campus Russas\n"
      ],
      "metadata": {
        "id": "9XhhY0KfU2g3"
      }
    },
    {
      "cell_type": "markdown",
      "source": [
        "# Imports, Libs, metodos, configs"
      ],
      "metadata": {
        "id": "oDFT_JBbYUcC"
      }
    },
    {
      "cell_type": "code",
      "execution_count": 102,
      "metadata": {
        "id": "MHr8yx_mUxRO"
      },
      "outputs": [],
      "source": [
        "import pandas as pd\n",
        "import numpy as np\n",
        "import seaborn as  sns\n",
        "import plotly.express as px\n",
        "import matplotlib.pyplot as plt\n",
        "from math import sqrt\n",
        "import plotly.graph_objects as go\n",
        "import plotly.express as px\n",
        "import datetime as dt\n",
        "import plotly.colors as plc\n",
        "from pathlib import Path\n",
        "from scipy.stats import randint as sp_randint\n",
        "from imblearn.over_sampling import SMOTE\n",
        "from sklearn.model_selection import cross_val_score,RandomizedSearchCV\n",
        "from collections import Counter\n",
        "from sklearn.metrics import f1_score, make_scorer,recall_score,precision_score,accuracy_score\n",
        "from sklearn.tree import DecisionTreeClassifier\n",
        "from sklearn.ensemble import RandomForestClassifier, GradientBoostingClassifier,AdaBoostClassifier\n",
        "from sklearn.naive_bayes import MultinomialNB,GaussianNB\n",
        "from sklearn.linear_model import LogisticRegression\n",
        "from sklearn.model_selection import train_test_split\n",
        "from sklearn.preprocessing import OneHotEncoder, LabelEncoder\n",
        "from sklearn.svm import SVC\n",
        "from sklearn.metrics import classification_report\n",
        "from sklearn.metrics import log_loss\n",
        "import tensorflow as tf\n",
        "import warnings"
      ]
    },
    {
      "cell_type": "code",
      "source": [
        "path = \"https://raw.githubusercontent.com/cmatheusIA/dados_02/main/Use_Of_Force.csv\""
      ],
      "metadata": {
        "id": "kMqwyB0rfSoe"
      },
      "execution_count": 2,
      "outputs": []
    },
    {
      "cell_type": "code",
      "source": [
        "mapa_beat = {\n",
        "    \"E1\":\"E\",\n",
        "    \"E2\":\"E\",\n",
        "    \"E3\":\"E\",\n",
        "    \"K1\":\"K\",\n",
        "    \"K2\":\"K\",\n",
        "    \"K3\":\"K\",\n",
        "    \"N1\":\"N\",\n",
        "    \"N2\":\"N\",\n",
        "    \"N3\":\"N\",\n",
        "    'C1':\"C\",\n",
        "    'C2':\"C\",\n",
        "    'C3':\"C\",\n",
        "    'W1':\"W\",\n",
        "    'W2':\"W\",\n",
        "    'W3':\"W\",\n",
        "    'U1':'U',\n",
        "    'U2':'U',\n",
        "    'U3':'U',\n",
        "    'J1':'J',\n",
        "    'J2':'J',\n",
        "    'J3':'J',\n",
        "    'M1':'M',\n",
        "    'M2':'M',\n",
        "    'M3':'M',\n",
        "    'F1':'F',\n",
        "    'F2':'F',\n",
        "    'F3':'F',\n",
        "    'B1':'B',\n",
        "    'B2':'B',\n",
        "    'B3':'B',\n",
        "    'G1':'G',\n",
        "    'G2':'G',\n",
        "    'G3':'G',\n",
        "    'Q1':'Q',\n",
        "    'Q2':'Q',\n",
        "    'Q3':'Q',\n",
        "    'R1':\"R\",\n",
        "    'R2':\"R\",\n",
        "    'R3':\"R\",\n",
        "    'S1':'S',\n",
        "    'S2':'S',\n",
        "    'S3':'S',\n",
        "    'D1':'D',\n",
        "    'D2':'D',\n",
        "    'D3':'D',\n",
        "    'L1':'L',\n",
        "    'L2':'L',\n",
        "    'L3':'L',\n",
        "    'O1':'O',\n",
        "    'O2':'O',\n",
        "    'O3':'O'\n",
        "}"
      ],
      "metadata": {
        "id": "Djn_l1N7m7-t"
      },
      "execution_count": 3,
      "outputs": []
    },
    {
      "cell_type": "code",
      "source": [
        "warnings.simplefilter(\"ignore\")"
      ],
      "metadata": {
        "id": "6JBrUEfO45eh"
      },
      "execution_count": 4,
      "outputs": []
    },
    {
      "cell_type": "code",
      "source": [
        "###### configurations for image quality#######\n",
        "plt.rcParams[\"figure.figsize\"] = [16, 10]   ##\n",
        "#plt.rcParams['figure.dpi'] = 100          ## \n",
        "plt.rc('font', size=10)                    ## \n",
        "plt.rc('axes', titlesize=14)               ## \n",
        "plt.rc('axes', labelsize=14)               ##\n",
        "plt.rc('xtick', labelsize=10)              ##\n",
        "plt.rc('ytick', labelsize=10)              ##\n",
        "plt.rc('legend', fontsize=10)              ##\n",
        "plt.rc('figure', titlesize=12)             ## \n",
        "#############################################"
      ],
      "metadata": {
        "id": "9N3_KSF-AGuH"
      },
      "execution_count": 5,
      "outputs": []
    },
    {
      "cell_type": "code",
      "source": [
        "def run_models_compare(X,y,modelos=[]):\n",
        "  recall = []\n",
        "  precision = []\n",
        "  nome_modelos=[]\n",
        "  acc=[]\n",
        "\n",
        "  print(\"-\"*50)  \n",
        "  for model in modelos:\n",
        "      print(model.__class__.__name__)\n",
        "      nome_modelos.append(model.__class__.__name__)\n",
        "      for name,score in [(\"recall\",recall_score),(\"precision\",precision_score),(\"accuracy\",_)]:\n",
        "          if name is 'accuracy':\n",
        "            cvs = cross_val_score(model, X,y, scoring=name, cv=3)\n",
        "          else:\n",
        "            cvs = cross_val_score(model, X,y, scoring=make_scorer(score,average='weighted'), cv=3)\n",
        "          mean = cvs.mean()\n",
        "          std = cvs.std()\n",
        "          print(name + \" : \"+ str(round(mean,3)) + \" std : \"+ str(round(std,3)))\n",
        "          print(\"Intervalo :  [{:.2f}% ~ {:.2f}%]\".format((mean - 2*std)*100, (mean + 2*std)*100))\n",
        "          print()\n",
        "          if name == \"recall\":\n",
        "              recall.append(round(mean,3))\n",
        "          elif name == \"precision\":\n",
        "              precision.append(round(mean,3))\n",
        "          else:\n",
        "              acc.append(round(mean,3))\n",
        "      print()\n",
        "  df_models_train = pd.DataFrame(data=zip(recall,precision,acc), index=nome_modelos, columns=['recall','precision','acc'])\n",
        "  return df_models_train"
      ],
      "metadata": {
        "id": "Rn_wSdaW5Apj"
      },
      "execution_count": 6,
      "outputs": []
    },
    {
      "cell_type": "code",
      "source": [
        "def metricas(y_true,y_pred,model_name,target_names):\n",
        "  print(f\"model {model_name}\")\n",
        "  print(f\"Acuracia = {accuracy_score(y_true,y_pred) *100} %\")\n",
        "  print(f\"Precisao = {precision_score(y_true,y_pred, average='weighted') *100} %\")\n",
        "  print(f\"Recall = {recall_score(y_true,y_pred,average='weighted')* 100} %\")\n",
        "  print(\"=\"*50)\n",
        "  print(classification_report(y_true, y_pred, target_names=target_names))"
      ],
      "metadata": {
        "id": "54H4hcEZ5ygQ"
      },
      "execution_count": 112,
      "outputs": []
    },
    {
      "cell_type": "code",
      "source": [
        "def model(X_train, num_class):\n",
        "  model = tf.keras.Sequential([\n",
        "    tf.keras.layers.Dense(256, activation='relu', input_shape=(X_train.shape[1],)),\n",
        "    tf.keras.layers.BatchNormalization(),\n",
        "    tf.keras.layers.Dropout(0.5),\n",
        "    tf.keras.layers.Dense(128, activation='relu'),\n",
        "    tf.keras.layers.BatchNormalization(),\n",
        "    tf.keras.layers.Dropout(0.5),\n",
        "    tf.keras.layers.Dense(64, activation='relu'),\n",
        "    tf.keras.layers.BatchNormalization(),\n",
        "    tf.keras.layers.Dropout(0.5),\n",
        "    tf.keras.layers.Dense(32, activation='relu'),\n",
        "    tf.keras.layers.BatchNormalization(),\n",
        "    tf.keras.layers.Dropout(0.5),\n",
        "    tf.keras.layers.Dense(num_class, activation='softmax')\n",
        "])\n",
        "  return model"
      ],
      "metadata": {
        "id": "PL8c7EcO6MMp"
      },
      "execution_count": 8,
      "outputs": []
    },
    {
      "cell_type": "code",
      "source": [
        "def load_data(path):\n",
        "  return pd.read_csv(path)"
      ],
      "metadata": {
        "id": "TlxNm7gz6USz"
      },
      "execution_count": 9,
      "outputs": []
    },
    {
      "cell_type": "code",
      "source": [
        "def Smote(X,y,num_class):\n",
        "  smote = SMOTE(sampling_strategy='auto', k_neighbors=num_class, random_state=42)\n",
        "  X_train_res, y_train_res = smote.fit_resample(X, y)\n",
        "\n",
        "  return X_train_res, y_train_res\n"
      ],
      "metadata": {
        "id": "0T1PpiTMboUm"
      },
      "execution_count": 10,
      "outputs": []
    },
    {
      "cell_type": "code",
      "source": [
        "def plot_pie(data,name):\n",
        "  fig = go.Figure(data=[go.Pie(labels=data.index, values=data.values, hole=.3)])\n",
        "\n",
        "  # definindo o título do gráfico\n",
        "  fig.update_layout(\n",
        "      title={\n",
        "          'text': f\"Distribuição de {name}\",\n",
        "          'y':0.9,\n",
        "          'x':0.5,\n",
        "          'xanchor': 'center',\n",
        "          'yanchor': 'top'})\n",
        "\n",
        "  # retorno\n",
        "  return fig\n"
      ],
      "metadata": {
        "id": "DrFOOKF0cdTy"
      },
      "execution_count": 11,
      "outputs": []
    },
    {
      "cell_type": "code",
      "source": [
        "def plot_bar(data,x,y,color,titulo):\n",
        "  fig = px.bar(data, x=x, y=y, color=color)\n",
        "\n",
        "  # definindo o título do gráfico\n",
        "  fig.update_layout(\n",
        "      title={\n",
        "          'text': titulo,\n",
        "          'y':0.99,\n",
        "          'x':0.5,\n",
        "          'xanchor': 'center',\n",
        "          'yanchor': 'top',\n",
        "          })\n",
        "\n",
        "  # mostrando o gráfico\n",
        "  fig.show()"
      ],
      "metadata": {
        "id": "d7ZD0HajpSgF"
      },
      "execution_count": 27,
      "outputs": []
    },
    {
      "cell_type": "code",
      "source": [
        "def plot_line_TS(data,titulo,x_label,y_label):\n",
        "  plt.plot(data.index, data.values)\n",
        "  plt.xlabel(x_label)\n",
        "  plt.ylabel(y_label)\n",
        "  plt.title(titulo)\n",
        "  plt.show()"
      ],
      "metadata": {
        "id": "8EV8cuHZb9vU"
      },
      "execution_count": 40,
      "outputs": []
    },
    {
      "cell_type": "code",
      "source": [],
      "metadata": {
        "id": "M5UbXmgc6MEK"
      },
      "execution_count": 12,
      "outputs": []
    },
    {
      "cell_type": "code",
      "source": [],
      "metadata": {
        "id": "aFr3_r2M4Z_c"
      },
      "execution_count": 12,
      "outputs": []
    },
    {
      "cell_type": "markdown",
      "source": [
        "# Analise descritiva"
      ],
      "metadata": {
        "id": "3yOhcsZ_Yaga"
      }
    },
    {
      "cell_type": "code",
      "source": [
        "# carregando os dados\n",
        "df = load_data(path)\n",
        "df.head()"
      ],
      "metadata": {
        "id": "wsP5L4tFYclX",
        "colab": {
          "base_uri": "https://localhost:8080/",
          "height": 206
        },
        "outputId": "71e263b9-c253-4b7f-a5a4-6f36c7619fcb"
      },
      "execution_count": 63,
      "outputs": [
        {
          "output_type": "execute_result",
          "data": {
            "text/plain": [
              "                      ID  Incident_Num           Incident_Type  \\\n",
              "0  2014UOF-0001-1377-203           251  Level 1 - Use of Force   \n",
              "1  2014UOF-0002-1098-166           218  Level 1 - Use of Force   \n",
              "2  2014UOF-0003-1031-125           178  Level 1 - Use of Force   \n",
              "3   2014UOF-0004-767-126           179  Level 1 - Use of Force   \n",
              "4  2014UOF-0005-1473-172           223  Level 1 - Use of Force   \n",
              "\n",
              "        Occured_date_time Precinct   Sector Beat  Officer_ID  Subject_ID  \\\n",
              "0  06/07/2014 12:09:00 AM     East  CHARLIE   C2        1594         203   \n",
              "1  05/30/2014 02:06:00 PM     East   GEORGE   G1        1673         166   \n",
              "2  05/23/2014 05:24:00 PM     West     KING   K3        1690         125   \n",
              "3  05/26/2014 12:10:00 AM     East   EDWARD   E2         953         126   \n",
              "4  06/01/2014 04:03:00 PM    South   ROBERT   R1        1145         172   \n",
              "\n",
              "                Subject_Race Subject_Gender  \n",
              "0  Black or African American           Male  \n",
              "1                      White           Male  \n",
              "2                      Asian         Female  \n",
              "3  Black or African American           Male  \n",
              "4  Black or African American           Male  "
            ],
            "text/html": [
              "\n",
              "  <div id=\"df-03593204-c63b-4306-8701-df1c1b4a8d85\">\n",
              "    <div class=\"colab-df-container\">\n",
              "      <div>\n",
              "<style scoped>\n",
              "    .dataframe tbody tr th:only-of-type {\n",
              "        vertical-align: middle;\n",
              "    }\n",
              "\n",
              "    .dataframe tbody tr th {\n",
              "        vertical-align: top;\n",
              "    }\n",
              "\n",
              "    .dataframe thead th {\n",
              "        text-align: right;\n",
              "    }\n",
              "</style>\n",
              "<table border=\"1\" class=\"dataframe\">\n",
              "  <thead>\n",
              "    <tr style=\"text-align: right;\">\n",
              "      <th></th>\n",
              "      <th>ID</th>\n",
              "      <th>Incident_Num</th>\n",
              "      <th>Incident_Type</th>\n",
              "      <th>Occured_date_time</th>\n",
              "      <th>Precinct</th>\n",
              "      <th>Sector</th>\n",
              "      <th>Beat</th>\n",
              "      <th>Officer_ID</th>\n",
              "      <th>Subject_ID</th>\n",
              "      <th>Subject_Race</th>\n",
              "      <th>Subject_Gender</th>\n",
              "    </tr>\n",
              "  </thead>\n",
              "  <tbody>\n",
              "    <tr>\n",
              "      <th>0</th>\n",
              "      <td>2014UOF-0001-1377-203</td>\n",
              "      <td>251</td>\n",
              "      <td>Level 1 - Use of Force</td>\n",
              "      <td>06/07/2014 12:09:00 AM</td>\n",
              "      <td>East</td>\n",
              "      <td>CHARLIE</td>\n",
              "      <td>C2</td>\n",
              "      <td>1594</td>\n",
              "      <td>203</td>\n",
              "      <td>Black or African American</td>\n",
              "      <td>Male</td>\n",
              "    </tr>\n",
              "    <tr>\n",
              "      <th>1</th>\n",
              "      <td>2014UOF-0002-1098-166</td>\n",
              "      <td>218</td>\n",
              "      <td>Level 1 - Use of Force</td>\n",
              "      <td>05/30/2014 02:06:00 PM</td>\n",
              "      <td>East</td>\n",
              "      <td>GEORGE</td>\n",
              "      <td>G1</td>\n",
              "      <td>1673</td>\n",
              "      <td>166</td>\n",
              "      <td>White</td>\n",
              "      <td>Male</td>\n",
              "    </tr>\n",
              "    <tr>\n",
              "      <th>2</th>\n",
              "      <td>2014UOF-0003-1031-125</td>\n",
              "      <td>178</td>\n",
              "      <td>Level 1 - Use of Force</td>\n",
              "      <td>05/23/2014 05:24:00 PM</td>\n",
              "      <td>West</td>\n",
              "      <td>KING</td>\n",
              "      <td>K3</td>\n",
              "      <td>1690</td>\n",
              "      <td>125</td>\n",
              "      <td>Asian</td>\n",
              "      <td>Female</td>\n",
              "    </tr>\n",
              "    <tr>\n",
              "      <th>3</th>\n",
              "      <td>2014UOF-0004-767-126</td>\n",
              "      <td>179</td>\n",
              "      <td>Level 1 - Use of Force</td>\n",
              "      <td>05/26/2014 12:10:00 AM</td>\n",
              "      <td>East</td>\n",
              "      <td>EDWARD</td>\n",
              "      <td>E2</td>\n",
              "      <td>953</td>\n",
              "      <td>126</td>\n",
              "      <td>Black or African American</td>\n",
              "      <td>Male</td>\n",
              "    </tr>\n",
              "    <tr>\n",
              "      <th>4</th>\n",
              "      <td>2014UOF-0005-1473-172</td>\n",
              "      <td>223</td>\n",
              "      <td>Level 1 - Use of Force</td>\n",
              "      <td>06/01/2014 04:03:00 PM</td>\n",
              "      <td>South</td>\n",
              "      <td>ROBERT</td>\n",
              "      <td>R1</td>\n",
              "      <td>1145</td>\n",
              "      <td>172</td>\n",
              "      <td>Black or African American</td>\n",
              "      <td>Male</td>\n",
              "    </tr>\n",
              "  </tbody>\n",
              "</table>\n",
              "</div>\n",
              "      <button class=\"colab-df-convert\" onclick=\"convertToInteractive('df-03593204-c63b-4306-8701-df1c1b4a8d85')\"\n",
              "              title=\"Convert this dataframe to an interactive table.\"\n",
              "              style=\"display:none;\">\n",
              "        \n",
              "  <svg xmlns=\"http://www.w3.org/2000/svg\" height=\"24px\"viewBox=\"0 0 24 24\"\n",
              "       width=\"24px\">\n",
              "    <path d=\"M0 0h24v24H0V0z\" fill=\"none\"/>\n",
              "    <path d=\"M18.56 5.44l.94 2.06.94-2.06 2.06-.94-2.06-.94-.94-2.06-.94 2.06-2.06.94zm-11 1L8.5 8.5l.94-2.06 2.06-.94-2.06-.94L8.5 2.5l-.94 2.06-2.06.94zm10 10l.94 2.06.94-2.06 2.06-.94-2.06-.94-.94-2.06-.94 2.06-2.06.94z\"/><path d=\"M17.41 7.96l-1.37-1.37c-.4-.4-.92-.59-1.43-.59-.52 0-1.04.2-1.43.59L10.3 9.45l-7.72 7.72c-.78.78-.78 2.05 0 2.83L4 21.41c.39.39.9.59 1.41.59.51 0 1.02-.2 1.41-.59l7.78-7.78 2.81-2.81c.8-.78.8-2.07 0-2.86zM5.41 20L4 18.59l7.72-7.72 1.47 1.35L5.41 20z\"/>\n",
              "  </svg>\n",
              "      </button>\n",
              "      \n",
              "  <style>\n",
              "    .colab-df-container {\n",
              "      display:flex;\n",
              "      flex-wrap:wrap;\n",
              "      gap: 12px;\n",
              "    }\n",
              "\n",
              "    .colab-df-convert {\n",
              "      background-color: #E8F0FE;\n",
              "      border: none;\n",
              "      border-radius: 50%;\n",
              "      cursor: pointer;\n",
              "      display: none;\n",
              "      fill: #1967D2;\n",
              "      height: 32px;\n",
              "      padding: 0 0 0 0;\n",
              "      width: 32px;\n",
              "    }\n",
              "\n",
              "    .colab-df-convert:hover {\n",
              "      background-color: #E2EBFA;\n",
              "      box-shadow: 0px 1px 2px rgba(60, 64, 67, 0.3), 0px 1px 3px 1px rgba(60, 64, 67, 0.15);\n",
              "      fill: #174EA6;\n",
              "    }\n",
              "\n",
              "    [theme=dark] .colab-df-convert {\n",
              "      background-color: #3B4455;\n",
              "      fill: #D2E3FC;\n",
              "    }\n",
              "\n",
              "    [theme=dark] .colab-df-convert:hover {\n",
              "      background-color: #434B5C;\n",
              "      box-shadow: 0px 1px 3px 1px rgba(0, 0, 0, 0.15);\n",
              "      filter: drop-shadow(0px 1px 2px rgba(0, 0, 0, 0.3));\n",
              "      fill: #FFFFFF;\n",
              "    }\n",
              "  </style>\n",
              "\n",
              "      <script>\n",
              "        const buttonEl =\n",
              "          document.querySelector('#df-03593204-c63b-4306-8701-df1c1b4a8d85 button.colab-df-convert');\n",
              "        buttonEl.style.display =\n",
              "          google.colab.kernel.accessAllowed ? 'block' : 'none';\n",
              "\n",
              "        async function convertToInteractive(key) {\n",
              "          const element = document.querySelector('#df-03593204-c63b-4306-8701-df1c1b4a8d85');\n",
              "          const dataTable =\n",
              "            await google.colab.kernel.invokeFunction('convertToInteractive',\n",
              "                                                     [key], {});\n",
              "          if (!dataTable) return;\n",
              "\n",
              "          const docLinkHtml = 'Like what you see? Visit the ' +\n",
              "            '<a target=\"_blank\" href=https://colab.research.google.com/notebooks/data_table.ipynb>data table notebook</a>'\n",
              "            + ' to learn more about interactive tables.';\n",
              "          element.innerHTML = '';\n",
              "          dataTable['output_type'] = 'display_data';\n",
              "          await google.colab.output.renderOutput(dataTable, element);\n",
              "          const docLink = document.createElement('div');\n",
              "          docLink.innerHTML = docLinkHtml;\n",
              "          element.appendChild(docLink);\n",
              "        }\n",
              "      </script>\n",
              "    </div>\n",
              "  </div>\n",
              "  "
            ]
          },
          "metadata": {},
          "execution_count": 63
        }
      ]
    },
    {
      "cell_type": "markdown",
      "source": [
        "Inspecionando dados\n",
        "\n",
        "Aqui vamos visualizar os 5 primeiros dados do dataframe, informações sobre o dataframe tipo de variaveis dados Nulos, memoria usada para carregar o dataframe e dados únicos "
      ],
      "metadata": {
        "id": "DvFyg60ngjnz"
      }
    },
    {
      "cell_type": "code",
      "source": [
        "display(df.head())\n",
        "print(\"-\"*50)\n",
        "display(df.info())\n",
        "print(\"-\"*50)\n",
        "display(df.nunique())"
      ],
      "metadata": {
        "colab": {
          "base_uri": "https://localhost:8080/",
          "height": 779
        },
        "id": "sMJbZ9yAfMzl",
        "outputId": "93ada9b3-cdf1-4d9a-b2ec-8ece600c2ee8"
      },
      "execution_count": 64,
      "outputs": [
        {
          "output_type": "display_data",
          "data": {
            "text/plain": [
              "                      ID  Incident_Num           Incident_Type  \\\n",
              "0  2014UOF-0001-1377-203           251  Level 1 - Use of Force   \n",
              "1  2014UOF-0002-1098-166           218  Level 1 - Use of Force   \n",
              "2  2014UOF-0003-1031-125           178  Level 1 - Use of Force   \n",
              "3   2014UOF-0004-767-126           179  Level 1 - Use of Force   \n",
              "4  2014UOF-0005-1473-172           223  Level 1 - Use of Force   \n",
              "\n",
              "        Occured_date_time Precinct   Sector Beat  Officer_ID  Subject_ID  \\\n",
              "0  06/07/2014 12:09:00 AM     East  CHARLIE   C2        1594         203   \n",
              "1  05/30/2014 02:06:00 PM     East   GEORGE   G1        1673         166   \n",
              "2  05/23/2014 05:24:00 PM     West     KING   K3        1690         125   \n",
              "3  05/26/2014 12:10:00 AM     East   EDWARD   E2         953         126   \n",
              "4  06/01/2014 04:03:00 PM    South   ROBERT   R1        1145         172   \n",
              "\n",
              "                Subject_Race Subject_Gender  \n",
              "0  Black or African American           Male  \n",
              "1                      White           Male  \n",
              "2                      Asian         Female  \n",
              "3  Black or African American           Male  \n",
              "4  Black or African American           Male  "
            ],
            "text/html": [
              "\n",
              "  <div id=\"df-4ac9155c-fa5d-438b-81cb-73393164f2eb\">\n",
              "    <div class=\"colab-df-container\">\n",
              "      <div>\n",
              "<style scoped>\n",
              "    .dataframe tbody tr th:only-of-type {\n",
              "        vertical-align: middle;\n",
              "    }\n",
              "\n",
              "    .dataframe tbody tr th {\n",
              "        vertical-align: top;\n",
              "    }\n",
              "\n",
              "    .dataframe thead th {\n",
              "        text-align: right;\n",
              "    }\n",
              "</style>\n",
              "<table border=\"1\" class=\"dataframe\">\n",
              "  <thead>\n",
              "    <tr style=\"text-align: right;\">\n",
              "      <th></th>\n",
              "      <th>ID</th>\n",
              "      <th>Incident_Num</th>\n",
              "      <th>Incident_Type</th>\n",
              "      <th>Occured_date_time</th>\n",
              "      <th>Precinct</th>\n",
              "      <th>Sector</th>\n",
              "      <th>Beat</th>\n",
              "      <th>Officer_ID</th>\n",
              "      <th>Subject_ID</th>\n",
              "      <th>Subject_Race</th>\n",
              "      <th>Subject_Gender</th>\n",
              "    </tr>\n",
              "  </thead>\n",
              "  <tbody>\n",
              "    <tr>\n",
              "      <th>0</th>\n",
              "      <td>2014UOF-0001-1377-203</td>\n",
              "      <td>251</td>\n",
              "      <td>Level 1 - Use of Force</td>\n",
              "      <td>06/07/2014 12:09:00 AM</td>\n",
              "      <td>East</td>\n",
              "      <td>CHARLIE</td>\n",
              "      <td>C2</td>\n",
              "      <td>1594</td>\n",
              "      <td>203</td>\n",
              "      <td>Black or African American</td>\n",
              "      <td>Male</td>\n",
              "    </tr>\n",
              "    <tr>\n",
              "      <th>1</th>\n",
              "      <td>2014UOF-0002-1098-166</td>\n",
              "      <td>218</td>\n",
              "      <td>Level 1 - Use of Force</td>\n",
              "      <td>05/30/2014 02:06:00 PM</td>\n",
              "      <td>East</td>\n",
              "      <td>GEORGE</td>\n",
              "      <td>G1</td>\n",
              "      <td>1673</td>\n",
              "      <td>166</td>\n",
              "      <td>White</td>\n",
              "      <td>Male</td>\n",
              "    </tr>\n",
              "    <tr>\n",
              "      <th>2</th>\n",
              "      <td>2014UOF-0003-1031-125</td>\n",
              "      <td>178</td>\n",
              "      <td>Level 1 - Use of Force</td>\n",
              "      <td>05/23/2014 05:24:00 PM</td>\n",
              "      <td>West</td>\n",
              "      <td>KING</td>\n",
              "      <td>K3</td>\n",
              "      <td>1690</td>\n",
              "      <td>125</td>\n",
              "      <td>Asian</td>\n",
              "      <td>Female</td>\n",
              "    </tr>\n",
              "    <tr>\n",
              "      <th>3</th>\n",
              "      <td>2014UOF-0004-767-126</td>\n",
              "      <td>179</td>\n",
              "      <td>Level 1 - Use of Force</td>\n",
              "      <td>05/26/2014 12:10:00 AM</td>\n",
              "      <td>East</td>\n",
              "      <td>EDWARD</td>\n",
              "      <td>E2</td>\n",
              "      <td>953</td>\n",
              "      <td>126</td>\n",
              "      <td>Black or African American</td>\n",
              "      <td>Male</td>\n",
              "    </tr>\n",
              "    <tr>\n",
              "      <th>4</th>\n",
              "      <td>2014UOF-0005-1473-172</td>\n",
              "      <td>223</td>\n",
              "      <td>Level 1 - Use of Force</td>\n",
              "      <td>06/01/2014 04:03:00 PM</td>\n",
              "      <td>South</td>\n",
              "      <td>ROBERT</td>\n",
              "      <td>R1</td>\n",
              "      <td>1145</td>\n",
              "      <td>172</td>\n",
              "      <td>Black or African American</td>\n",
              "      <td>Male</td>\n",
              "    </tr>\n",
              "  </tbody>\n",
              "</table>\n",
              "</div>\n",
              "      <button class=\"colab-df-convert\" onclick=\"convertToInteractive('df-4ac9155c-fa5d-438b-81cb-73393164f2eb')\"\n",
              "              title=\"Convert this dataframe to an interactive table.\"\n",
              "              style=\"display:none;\">\n",
              "        \n",
              "  <svg xmlns=\"http://www.w3.org/2000/svg\" height=\"24px\"viewBox=\"0 0 24 24\"\n",
              "       width=\"24px\">\n",
              "    <path d=\"M0 0h24v24H0V0z\" fill=\"none\"/>\n",
              "    <path d=\"M18.56 5.44l.94 2.06.94-2.06 2.06-.94-2.06-.94-.94-2.06-.94 2.06-2.06.94zm-11 1L8.5 8.5l.94-2.06 2.06-.94-2.06-.94L8.5 2.5l-.94 2.06-2.06.94zm10 10l.94 2.06.94-2.06 2.06-.94-2.06-.94-.94-2.06-.94 2.06-2.06.94z\"/><path d=\"M17.41 7.96l-1.37-1.37c-.4-.4-.92-.59-1.43-.59-.52 0-1.04.2-1.43.59L10.3 9.45l-7.72 7.72c-.78.78-.78 2.05 0 2.83L4 21.41c.39.39.9.59 1.41.59.51 0 1.02-.2 1.41-.59l7.78-7.78 2.81-2.81c.8-.78.8-2.07 0-2.86zM5.41 20L4 18.59l7.72-7.72 1.47 1.35L5.41 20z\"/>\n",
              "  </svg>\n",
              "      </button>\n",
              "      \n",
              "  <style>\n",
              "    .colab-df-container {\n",
              "      display:flex;\n",
              "      flex-wrap:wrap;\n",
              "      gap: 12px;\n",
              "    }\n",
              "\n",
              "    .colab-df-convert {\n",
              "      background-color: #E8F0FE;\n",
              "      border: none;\n",
              "      border-radius: 50%;\n",
              "      cursor: pointer;\n",
              "      display: none;\n",
              "      fill: #1967D2;\n",
              "      height: 32px;\n",
              "      padding: 0 0 0 0;\n",
              "      width: 32px;\n",
              "    }\n",
              "\n",
              "    .colab-df-convert:hover {\n",
              "      background-color: #E2EBFA;\n",
              "      box-shadow: 0px 1px 2px rgba(60, 64, 67, 0.3), 0px 1px 3px 1px rgba(60, 64, 67, 0.15);\n",
              "      fill: #174EA6;\n",
              "    }\n",
              "\n",
              "    [theme=dark] .colab-df-convert {\n",
              "      background-color: #3B4455;\n",
              "      fill: #D2E3FC;\n",
              "    }\n",
              "\n",
              "    [theme=dark] .colab-df-convert:hover {\n",
              "      background-color: #434B5C;\n",
              "      box-shadow: 0px 1px 3px 1px rgba(0, 0, 0, 0.15);\n",
              "      filter: drop-shadow(0px 1px 2px rgba(0, 0, 0, 0.3));\n",
              "      fill: #FFFFFF;\n",
              "    }\n",
              "  </style>\n",
              "\n",
              "      <script>\n",
              "        const buttonEl =\n",
              "          document.querySelector('#df-4ac9155c-fa5d-438b-81cb-73393164f2eb button.colab-df-convert');\n",
              "        buttonEl.style.display =\n",
              "          google.colab.kernel.accessAllowed ? 'block' : 'none';\n",
              "\n",
              "        async function convertToInteractive(key) {\n",
              "          const element = document.querySelector('#df-4ac9155c-fa5d-438b-81cb-73393164f2eb');\n",
              "          const dataTable =\n",
              "            await google.colab.kernel.invokeFunction('convertToInteractive',\n",
              "                                                     [key], {});\n",
              "          if (!dataTable) return;\n",
              "\n",
              "          const docLinkHtml = 'Like what you see? Visit the ' +\n",
              "            '<a target=\"_blank\" href=https://colab.research.google.com/notebooks/data_table.ipynb>data table notebook</a>'\n",
              "            + ' to learn more about interactive tables.';\n",
              "          element.innerHTML = '';\n",
              "          dataTable['output_type'] = 'display_data';\n",
              "          await google.colab.output.renderOutput(dataTable, element);\n",
              "          const docLink = document.createElement('div');\n",
              "          docLink.innerHTML = docLinkHtml;\n",
              "          element.appendChild(docLink);\n",
              "        }\n",
              "      </script>\n",
              "    </div>\n",
              "  </div>\n",
              "  "
            ]
          },
          "metadata": {}
        },
        {
          "output_type": "stream",
          "name": "stdout",
          "text": [
            "--------------------------------------------------\n",
            "<class 'pandas.core.frame.DataFrame'>\n",
            "RangeIndex: 14264 entries, 0 to 14263\n",
            "Data columns (total 11 columns):\n",
            " #   Column             Non-Null Count  Dtype \n",
            "---  ------             --------------  ----- \n",
            " 0   ID                 14264 non-null  object\n",
            " 1   Incident_Num       14264 non-null  int64 \n",
            " 2   Incident_Type      14264 non-null  object\n",
            " 3   Occured_date_time  14264 non-null  object\n",
            " 4   Precinct           14264 non-null  object\n",
            " 5   Sector             13313 non-null  object\n",
            " 6   Beat               14264 non-null  object\n",
            " 7   Officer_ID         14264 non-null  int64 \n",
            " 8   Subject_ID         14264 non-null  int64 \n",
            " 9   Subject_Race       14264 non-null  object\n",
            " 10  Subject_Gender     14264 non-null  object\n",
            "dtypes: int64(3), object(8)\n",
            "memory usage: 1.2+ MB\n"
          ]
        },
        {
          "output_type": "display_data",
          "data": {
            "text/plain": [
              "None"
            ]
          },
          "metadata": {}
        },
        {
          "output_type": "stream",
          "name": "stdout",
          "text": [
            "--------------------------------------------------\n"
          ]
        },
        {
          "output_type": "display_data",
          "data": {
            "text/plain": [
              "ID                   14264\n",
              "Incident_Num         13488\n",
              "Incident_Type            4\n",
              "Occured_date_time    10699\n",
              "Precinct                 9\n",
              "Sector                  17\n",
              "Beat                    55\n",
              "Officer_ID            1323\n",
              "Subject_ID            7503\n",
              "Subject_Race             8\n",
              "Subject_Gender           9\n",
              "dtype: int64"
            ]
          },
          "metadata": {}
        }
      ]
    },
    {
      "cell_type": "code",
      "source": [
        "df.describe()"
      ],
      "metadata": {
        "colab": {
          "base_uri": "https://localhost:8080/",
          "height": 300
        },
        "id": "eOYOt0Z68eU2",
        "outputId": "de2e7c24-55cd-4190-ccb1-5a0073400f1b"
      },
      "execution_count": 66,
      "outputs": [
        {
          "output_type": "execute_result",
          "data": {
            "text/plain": [
              "       Incident_Num    Officer_ID    Subject_ID         hours\n",
              "count  14264.000000  14264.000000  14264.000000  14264.000000\n",
              "mean   28139.467330   1930.426248  12386.183188     13.456254\n",
              "std    22232.312987   1146.934687   8320.522755      7.203518\n",
              "min      178.000000      7.000000      4.000000      0.000000\n",
              "25%     8612.000000   1252.000000   4777.000000      8.000000\n",
              "50%    19011.500000   1736.000000  12093.500000     15.000000\n",
              "75%    51943.250000   2154.000000  18995.000000     20.000000\n",
              "max    68122.000000   6046.000000  29302.000000     23.000000"
            ],
            "text/html": [
              "\n",
              "  <div id=\"df-652a184c-353a-4412-901d-1ce917d09252\">\n",
              "    <div class=\"colab-df-container\">\n",
              "      <div>\n",
              "<style scoped>\n",
              "    .dataframe tbody tr th:only-of-type {\n",
              "        vertical-align: middle;\n",
              "    }\n",
              "\n",
              "    .dataframe tbody tr th {\n",
              "        vertical-align: top;\n",
              "    }\n",
              "\n",
              "    .dataframe thead th {\n",
              "        text-align: right;\n",
              "    }\n",
              "</style>\n",
              "<table border=\"1\" class=\"dataframe\">\n",
              "  <thead>\n",
              "    <tr style=\"text-align: right;\">\n",
              "      <th></th>\n",
              "      <th>Incident_Num</th>\n",
              "      <th>Officer_ID</th>\n",
              "      <th>Subject_ID</th>\n",
              "      <th>hours</th>\n",
              "    </tr>\n",
              "  </thead>\n",
              "  <tbody>\n",
              "    <tr>\n",
              "      <th>count</th>\n",
              "      <td>14264.000000</td>\n",
              "      <td>14264.000000</td>\n",
              "      <td>14264.000000</td>\n",
              "      <td>14264.000000</td>\n",
              "    </tr>\n",
              "    <tr>\n",
              "      <th>mean</th>\n",
              "      <td>28139.467330</td>\n",
              "      <td>1930.426248</td>\n",
              "      <td>12386.183188</td>\n",
              "      <td>13.456254</td>\n",
              "    </tr>\n",
              "    <tr>\n",
              "      <th>std</th>\n",
              "      <td>22232.312987</td>\n",
              "      <td>1146.934687</td>\n",
              "      <td>8320.522755</td>\n",
              "      <td>7.203518</td>\n",
              "    </tr>\n",
              "    <tr>\n",
              "      <th>min</th>\n",
              "      <td>178.000000</td>\n",
              "      <td>7.000000</td>\n",
              "      <td>4.000000</td>\n",
              "      <td>0.000000</td>\n",
              "    </tr>\n",
              "    <tr>\n",
              "      <th>25%</th>\n",
              "      <td>8612.000000</td>\n",
              "      <td>1252.000000</td>\n",
              "      <td>4777.000000</td>\n",
              "      <td>8.000000</td>\n",
              "    </tr>\n",
              "    <tr>\n",
              "      <th>50%</th>\n",
              "      <td>19011.500000</td>\n",
              "      <td>1736.000000</td>\n",
              "      <td>12093.500000</td>\n",
              "      <td>15.000000</td>\n",
              "    </tr>\n",
              "    <tr>\n",
              "      <th>75%</th>\n",
              "      <td>51943.250000</td>\n",
              "      <td>2154.000000</td>\n",
              "      <td>18995.000000</td>\n",
              "      <td>20.000000</td>\n",
              "    </tr>\n",
              "    <tr>\n",
              "      <th>max</th>\n",
              "      <td>68122.000000</td>\n",
              "      <td>6046.000000</td>\n",
              "      <td>29302.000000</td>\n",
              "      <td>23.000000</td>\n",
              "    </tr>\n",
              "  </tbody>\n",
              "</table>\n",
              "</div>\n",
              "      <button class=\"colab-df-convert\" onclick=\"convertToInteractive('df-652a184c-353a-4412-901d-1ce917d09252')\"\n",
              "              title=\"Convert this dataframe to an interactive table.\"\n",
              "              style=\"display:none;\">\n",
              "        \n",
              "  <svg xmlns=\"http://www.w3.org/2000/svg\" height=\"24px\"viewBox=\"0 0 24 24\"\n",
              "       width=\"24px\">\n",
              "    <path d=\"M0 0h24v24H0V0z\" fill=\"none\"/>\n",
              "    <path d=\"M18.56 5.44l.94 2.06.94-2.06 2.06-.94-2.06-.94-.94-2.06-.94 2.06-2.06.94zm-11 1L8.5 8.5l.94-2.06 2.06-.94-2.06-.94L8.5 2.5l-.94 2.06-2.06.94zm10 10l.94 2.06.94-2.06 2.06-.94-2.06-.94-.94-2.06-.94 2.06-2.06.94z\"/><path d=\"M17.41 7.96l-1.37-1.37c-.4-.4-.92-.59-1.43-.59-.52 0-1.04.2-1.43.59L10.3 9.45l-7.72 7.72c-.78.78-.78 2.05 0 2.83L4 21.41c.39.39.9.59 1.41.59.51 0 1.02-.2 1.41-.59l7.78-7.78 2.81-2.81c.8-.78.8-2.07 0-2.86zM5.41 20L4 18.59l7.72-7.72 1.47 1.35L5.41 20z\"/>\n",
              "  </svg>\n",
              "      </button>\n",
              "      \n",
              "  <style>\n",
              "    .colab-df-container {\n",
              "      display:flex;\n",
              "      flex-wrap:wrap;\n",
              "      gap: 12px;\n",
              "    }\n",
              "\n",
              "    .colab-df-convert {\n",
              "      background-color: #E8F0FE;\n",
              "      border: none;\n",
              "      border-radius: 50%;\n",
              "      cursor: pointer;\n",
              "      display: none;\n",
              "      fill: #1967D2;\n",
              "      height: 32px;\n",
              "      padding: 0 0 0 0;\n",
              "      width: 32px;\n",
              "    }\n",
              "\n",
              "    .colab-df-convert:hover {\n",
              "      background-color: #E2EBFA;\n",
              "      box-shadow: 0px 1px 2px rgba(60, 64, 67, 0.3), 0px 1px 3px 1px rgba(60, 64, 67, 0.15);\n",
              "      fill: #174EA6;\n",
              "    }\n",
              "\n",
              "    [theme=dark] .colab-df-convert {\n",
              "      background-color: #3B4455;\n",
              "      fill: #D2E3FC;\n",
              "    }\n",
              "\n",
              "    [theme=dark] .colab-df-convert:hover {\n",
              "      background-color: #434B5C;\n",
              "      box-shadow: 0px 1px 3px 1px rgba(0, 0, 0, 0.15);\n",
              "      filter: drop-shadow(0px 1px 2px rgba(0, 0, 0, 0.3));\n",
              "      fill: #FFFFFF;\n",
              "    }\n",
              "  </style>\n",
              "\n",
              "      <script>\n",
              "        const buttonEl =\n",
              "          document.querySelector('#df-652a184c-353a-4412-901d-1ce917d09252 button.colab-df-convert');\n",
              "        buttonEl.style.display =\n",
              "          google.colab.kernel.accessAllowed ? 'block' : 'none';\n",
              "\n",
              "        async function convertToInteractive(key) {\n",
              "          const element = document.querySelector('#df-652a184c-353a-4412-901d-1ce917d09252');\n",
              "          const dataTable =\n",
              "            await google.colab.kernel.invokeFunction('convertToInteractive',\n",
              "                                                     [key], {});\n",
              "          if (!dataTable) return;\n",
              "\n",
              "          const docLinkHtml = 'Like what you see? Visit the ' +\n",
              "            '<a target=\"_blank\" href=https://colab.research.google.com/notebooks/data_table.ipynb>data table notebook</a>'\n",
              "            + ' to learn more about interactive tables.';\n",
              "          element.innerHTML = '';\n",
              "          dataTable['output_type'] = 'display_data';\n",
              "          await google.colab.output.renderOutput(dataTable, element);\n",
              "          const docLink = document.createElement('div');\n",
              "          docLink.innerHTML = docLinkHtml;\n",
              "          element.appendChild(docLink);\n",
              "        }\n",
              "      </script>\n",
              "    </div>\n",
              "  </div>\n",
              "  "
            ]
          },
          "metadata": {},
          "execution_count": 66
        }
      ]
    },
    {
      "cell_type": "code",
      "source": [
        "df.describe(include='O')"
      ],
      "metadata": {
        "colab": {
          "base_uri": "https://localhost:8080/",
          "height": 175
        },
        "id": "CLB6b6wE8g3-",
        "outputId": "2e9efa78-c8dd-4fd6-991d-9afccdcc65c5"
      },
      "execution_count": 69,
      "outputs": [
        {
          "output_type": "execute_result",
          "data": {
            "text/plain": [
              "                           ID           Incident_Type Precinct  Sector   Beat  \\\n",
              "count                   14264                   14264    14264   13313  14264   \n",
              "unique                  14264                       4        9      17     55   \n",
              "top     2014UOF-0001-1377-203  Level 1 - Use of Force     West  EDWARD     E2   \n",
              "freq                        1                   10173     4061    1738   1117   \n",
              "\n",
              "       Subject_Race Subject_Gender      time  day_name  \n",
              "count         14264          14264     14264     14264  \n",
              "unique            8              9      1382         7  \n",
              "top           White           Male  16:00:00  Saturday  \n",
              "freq           5733          10658       137      2281  "
            ],
            "text/html": [
              "\n",
              "  <div id=\"df-8301fe91-545a-40f2-bfe0-042774649f08\">\n",
              "    <div class=\"colab-df-container\">\n",
              "      <div>\n",
              "<style scoped>\n",
              "    .dataframe tbody tr th:only-of-type {\n",
              "        vertical-align: middle;\n",
              "    }\n",
              "\n",
              "    .dataframe tbody tr th {\n",
              "        vertical-align: top;\n",
              "    }\n",
              "\n",
              "    .dataframe thead th {\n",
              "        text-align: right;\n",
              "    }\n",
              "</style>\n",
              "<table border=\"1\" class=\"dataframe\">\n",
              "  <thead>\n",
              "    <tr style=\"text-align: right;\">\n",
              "      <th></th>\n",
              "      <th>ID</th>\n",
              "      <th>Incident_Type</th>\n",
              "      <th>Precinct</th>\n",
              "      <th>Sector</th>\n",
              "      <th>Beat</th>\n",
              "      <th>Subject_Race</th>\n",
              "      <th>Subject_Gender</th>\n",
              "      <th>time</th>\n",
              "      <th>day_name</th>\n",
              "    </tr>\n",
              "  </thead>\n",
              "  <tbody>\n",
              "    <tr>\n",
              "      <th>count</th>\n",
              "      <td>14264</td>\n",
              "      <td>14264</td>\n",
              "      <td>14264</td>\n",
              "      <td>13313</td>\n",
              "      <td>14264</td>\n",
              "      <td>14264</td>\n",
              "      <td>14264</td>\n",
              "      <td>14264</td>\n",
              "      <td>14264</td>\n",
              "    </tr>\n",
              "    <tr>\n",
              "      <th>unique</th>\n",
              "      <td>14264</td>\n",
              "      <td>4</td>\n",
              "      <td>9</td>\n",
              "      <td>17</td>\n",
              "      <td>55</td>\n",
              "      <td>8</td>\n",
              "      <td>9</td>\n",
              "      <td>1382</td>\n",
              "      <td>7</td>\n",
              "    </tr>\n",
              "    <tr>\n",
              "      <th>top</th>\n",
              "      <td>2014UOF-0001-1377-203</td>\n",
              "      <td>Level 1 - Use of Force</td>\n",
              "      <td>West</td>\n",
              "      <td>EDWARD</td>\n",
              "      <td>E2</td>\n",
              "      <td>White</td>\n",
              "      <td>Male</td>\n",
              "      <td>16:00:00</td>\n",
              "      <td>Saturday</td>\n",
              "    </tr>\n",
              "    <tr>\n",
              "      <th>freq</th>\n",
              "      <td>1</td>\n",
              "      <td>10173</td>\n",
              "      <td>4061</td>\n",
              "      <td>1738</td>\n",
              "      <td>1117</td>\n",
              "      <td>5733</td>\n",
              "      <td>10658</td>\n",
              "      <td>137</td>\n",
              "      <td>2281</td>\n",
              "    </tr>\n",
              "  </tbody>\n",
              "</table>\n",
              "</div>\n",
              "      <button class=\"colab-df-convert\" onclick=\"convertToInteractive('df-8301fe91-545a-40f2-bfe0-042774649f08')\"\n",
              "              title=\"Convert this dataframe to an interactive table.\"\n",
              "              style=\"display:none;\">\n",
              "        \n",
              "  <svg xmlns=\"http://www.w3.org/2000/svg\" height=\"24px\"viewBox=\"0 0 24 24\"\n",
              "       width=\"24px\">\n",
              "    <path d=\"M0 0h24v24H0V0z\" fill=\"none\"/>\n",
              "    <path d=\"M18.56 5.44l.94 2.06.94-2.06 2.06-.94-2.06-.94-.94-2.06-.94 2.06-2.06.94zm-11 1L8.5 8.5l.94-2.06 2.06-.94-2.06-.94L8.5 2.5l-.94 2.06-2.06.94zm10 10l.94 2.06.94-2.06 2.06-.94-2.06-.94-.94-2.06-.94 2.06-2.06.94z\"/><path d=\"M17.41 7.96l-1.37-1.37c-.4-.4-.92-.59-1.43-.59-.52 0-1.04.2-1.43.59L10.3 9.45l-7.72 7.72c-.78.78-.78 2.05 0 2.83L4 21.41c.39.39.9.59 1.41.59.51 0 1.02-.2 1.41-.59l7.78-7.78 2.81-2.81c.8-.78.8-2.07 0-2.86zM5.41 20L4 18.59l7.72-7.72 1.47 1.35L5.41 20z\"/>\n",
              "  </svg>\n",
              "      </button>\n",
              "      \n",
              "  <style>\n",
              "    .colab-df-container {\n",
              "      display:flex;\n",
              "      flex-wrap:wrap;\n",
              "      gap: 12px;\n",
              "    }\n",
              "\n",
              "    .colab-df-convert {\n",
              "      background-color: #E8F0FE;\n",
              "      border: none;\n",
              "      border-radius: 50%;\n",
              "      cursor: pointer;\n",
              "      display: none;\n",
              "      fill: #1967D2;\n",
              "      height: 32px;\n",
              "      padding: 0 0 0 0;\n",
              "      width: 32px;\n",
              "    }\n",
              "\n",
              "    .colab-df-convert:hover {\n",
              "      background-color: #E2EBFA;\n",
              "      box-shadow: 0px 1px 2px rgba(60, 64, 67, 0.3), 0px 1px 3px 1px rgba(60, 64, 67, 0.15);\n",
              "      fill: #174EA6;\n",
              "    }\n",
              "\n",
              "    [theme=dark] .colab-df-convert {\n",
              "      background-color: #3B4455;\n",
              "      fill: #D2E3FC;\n",
              "    }\n",
              "\n",
              "    [theme=dark] .colab-df-convert:hover {\n",
              "      background-color: #434B5C;\n",
              "      box-shadow: 0px 1px 3px 1px rgba(0, 0, 0, 0.15);\n",
              "      filter: drop-shadow(0px 1px 2px rgba(0, 0, 0, 0.3));\n",
              "      fill: #FFFFFF;\n",
              "    }\n",
              "  </style>\n",
              "\n",
              "      <script>\n",
              "        const buttonEl =\n",
              "          document.querySelector('#df-8301fe91-545a-40f2-bfe0-042774649f08 button.colab-df-convert');\n",
              "        buttonEl.style.display =\n",
              "          google.colab.kernel.accessAllowed ? 'block' : 'none';\n",
              "\n",
              "        async function convertToInteractive(key) {\n",
              "          const element = document.querySelector('#df-8301fe91-545a-40f2-bfe0-042774649f08');\n",
              "          const dataTable =\n",
              "            await google.colab.kernel.invokeFunction('convertToInteractive',\n",
              "                                                     [key], {});\n",
              "          if (!dataTable) return;\n",
              "\n",
              "          const docLinkHtml = 'Like what you see? Visit the ' +\n",
              "            '<a target=\"_blank\" href=https://colab.research.google.com/notebooks/data_table.ipynb>data table notebook</a>'\n",
              "            + ' to learn more about interactive tables.';\n",
              "          element.innerHTML = '';\n",
              "          dataTable['output_type'] = 'display_data';\n",
              "          await google.colab.output.renderOutput(dataTable, element);\n",
              "          const docLink = document.createElement('div');\n",
              "          docLink.innerHTML = docLinkHtml;\n",
              "          element.appendChild(docLink);\n",
              "        }\n",
              "      </script>\n",
              "    </div>\n",
              "  </div>\n",
              "  "
            ]
          },
          "metadata": {},
          "execution_count": 69
        }
      ]
    },
    {
      "cell_type": "code",
      "source": [
        "# transformando coluna Occured_date_time\n",
        "df.Occured_date_time = pd.to_datetime(df.Occured_date_time)\n",
        "df[\"time\"] = df.Occured_date_time.dt.time\n",
        "df[\"hours\"] = df.Occured_date_time.dt.hour\n",
        "df[\"data\"] = pd.to_datetime(df.Occured_date_time.dt.date)\n",
        "df[\"ano\"] = df.Occured_date_time.dt.year\n",
        "df[\"day_name\"] = df.Occured_date_time.dt.day_name()"
      ],
      "metadata": {
        "id": "lFr3cr_-fMv3"
      },
      "execution_count": 191,
      "outputs": []
    },
    {
      "cell_type": "code",
      "source": [
        "df.head()"
      ],
      "metadata": {
        "colab": {
          "base_uri": "https://localhost:8080/",
          "height": 337
        },
        "id": "q8L2rNLGwVdQ",
        "outputId": "87b9fab0-982b-477f-c50a-bf58f9d622b1"
      },
      "execution_count": 192,
      "outputs": [
        {
          "output_type": "execute_result",
          "data": {
            "text/plain": [
              "                      ID  Incident_Num           Incident_Type  \\\n",
              "0  2014UOF-0001-1377-203           251  Level 1 - Use of Force   \n",
              "1  2014UOF-0002-1098-166           218  Level 1 - Use of Force   \n",
              "2  2014UOF-0003-1031-125           178  Level 1 - Use of Force   \n",
              "3   2014UOF-0004-767-126           179  Level 1 - Use of Force   \n",
              "4  2014UOF-0005-1473-172           223  Level 1 - Use of Force   \n",
              "\n",
              "    Occured_date_time Precinct   Sector Beat  Officer_ID  Subject_ID  \\\n",
              "0 2014-06-07 00:09:00     East  CHARLIE   C2        1594         203   \n",
              "1 2014-05-30 14:06:00     East   GEORGE   G1        1673         166   \n",
              "2 2014-05-23 17:24:00     West     KING   K3        1690         125   \n",
              "3 2014-05-26 00:10:00     East   EDWARD   E2         953         126   \n",
              "4 2014-06-01 16:03:00    South   ROBERT   R1        1145         172   \n",
              "\n",
              "                Subject_Race Subject_Gender      time  hours       data  \\\n",
              "0  Black or African American           Male  00:09:00      0 2014-06-07   \n",
              "1                      White           Male  14:06:00     14 2014-05-30   \n",
              "2                      Asian         Female  17:24:00     17 2014-05-23   \n",
              "3  Black or African American           Male  00:10:00      0 2014-05-26   \n",
              "4  Black or African American           Male  16:03:00     16 2014-06-01   \n",
              "\n",
              "   day_name   ano  \n",
              "0  Saturday  2014  \n",
              "1    Friday  2014  \n",
              "2    Friday  2014  \n",
              "3    Monday  2014  \n",
              "4    Sunday  2014  "
            ],
            "text/html": [
              "\n",
              "  <div id=\"df-52b73c05-4c14-4fca-aaaf-84296c44a9a0\">\n",
              "    <div class=\"colab-df-container\">\n",
              "      <div>\n",
              "<style scoped>\n",
              "    .dataframe tbody tr th:only-of-type {\n",
              "        vertical-align: middle;\n",
              "    }\n",
              "\n",
              "    .dataframe tbody tr th {\n",
              "        vertical-align: top;\n",
              "    }\n",
              "\n",
              "    .dataframe thead th {\n",
              "        text-align: right;\n",
              "    }\n",
              "</style>\n",
              "<table border=\"1\" class=\"dataframe\">\n",
              "  <thead>\n",
              "    <tr style=\"text-align: right;\">\n",
              "      <th></th>\n",
              "      <th>ID</th>\n",
              "      <th>Incident_Num</th>\n",
              "      <th>Incident_Type</th>\n",
              "      <th>Occured_date_time</th>\n",
              "      <th>Precinct</th>\n",
              "      <th>Sector</th>\n",
              "      <th>Beat</th>\n",
              "      <th>Officer_ID</th>\n",
              "      <th>Subject_ID</th>\n",
              "      <th>Subject_Race</th>\n",
              "      <th>Subject_Gender</th>\n",
              "      <th>time</th>\n",
              "      <th>hours</th>\n",
              "      <th>data</th>\n",
              "      <th>day_name</th>\n",
              "      <th>ano</th>\n",
              "    </tr>\n",
              "  </thead>\n",
              "  <tbody>\n",
              "    <tr>\n",
              "      <th>0</th>\n",
              "      <td>2014UOF-0001-1377-203</td>\n",
              "      <td>251</td>\n",
              "      <td>Level 1 - Use of Force</td>\n",
              "      <td>2014-06-07 00:09:00</td>\n",
              "      <td>East</td>\n",
              "      <td>CHARLIE</td>\n",
              "      <td>C2</td>\n",
              "      <td>1594</td>\n",
              "      <td>203</td>\n",
              "      <td>Black or African American</td>\n",
              "      <td>Male</td>\n",
              "      <td>00:09:00</td>\n",
              "      <td>0</td>\n",
              "      <td>2014-06-07</td>\n",
              "      <td>Saturday</td>\n",
              "      <td>2014</td>\n",
              "    </tr>\n",
              "    <tr>\n",
              "      <th>1</th>\n",
              "      <td>2014UOF-0002-1098-166</td>\n",
              "      <td>218</td>\n",
              "      <td>Level 1 - Use of Force</td>\n",
              "      <td>2014-05-30 14:06:00</td>\n",
              "      <td>East</td>\n",
              "      <td>GEORGE</td>\n",
              "      <td>G1</td>\n",
              "      <td>1673</td>\n",
              "      <td>166</td>\n",
              "      <td>White</td>\n",
              "      <td>Male</td>\n",
              "      <td>14:06:00</td>\n",
              "      <td>14</td>\n",
              "      <td>2014-05-30</td>\n",
              "      <td>Friday</td>\n",
              "      <td>2014</td>\n",
              "    </tr>\n",
              "    <tr>\n",
              "      <th>2</th>\n",
              "      <td>2014UOF-0003-1031-125</td>\n",
              "      <td>178</td>\n",
              "      <td>Level 1 - Use of Force</td>\n",
              "      <td>2014-05-23 17:24:00</td>\n",
              "      <td>West</td>\n",
              "      <td>KING</td>\n",
              "      <td>K3</td>\n",
              "      <td>1690</td>\n",
              "      <td>125</td>\n",
              "      <td>Asian</td>\n",
              "      <td>Female</td>\n",
              "      <td>17:24:00</td>\n",
              "      <td>17</td>\n",
              "      <td>2014-05-23</td>\n",
              "      <td>Friday</td>\n",
              "      <td>2014</td>\n",
              "    </tr>\n",
              "    <tr>\n",
              "      <th>3</th>\n",
              "      <td>2014UOF-0004-767-126</td>\n",
              "      <td>179</td>\n",
              "      <td>Level 1 - Use of Force</td>\n",
              "      <td>2014-05-26 00:10:00</td>\n",
              "      <td>East</td>\n",
              "      <td>EDWARD</td>\n",
              "      <td>E2</td>\n",
              "      <td>953</td>\n",
              "      <td>126</td>\n",
              "      <td>Black or African American</td>\n",
              "      <td>Male</td>\n",
              "      <td>00:10:00</td>\n",
              "      <td>0</td>\n",
              "      <td>2014-05-26</td>\n",
              "      <td>Monday</td>\n",
              "      <td>2014</td>\n",
              "    </tr>\n",
              "    <tr>\n",
              "      <th>4</th>\n",
              "      <td>2014UOF-0005-1473-172</td>\n",
              "      <td>223</td>\n",
              "      <td>Level 1 - Use of Force</td>\n",
              "      <td>2014-06-01 16:03:00</td>\n",
              "      <td>South</td>\n",
              "      <td>ROBERT</td>\n",
              "      <td>R1</td>\n",
              "      <td>1145</td>\n",
              "      <td>172</td>\n",
              "      <td>Black or African American</td>\n",
              "      <td>Male</td>\n",
              "      <td>16:03:00</td>\n",
              "      <td>16</td>\n",
              "      <td>2014-06-01</td>\n",
              "      <td>Sunday</td>\n",
              "      <td>2014</td>\n",
              "    </tr>\n",
              "  </tbody>\n",
              "</table>\n",
              "</div>\n",
              "      <button class=\"colab-df-convert\" onclick=\"convertToInteractive('df-52b73c05-4c14-4fca-aaaf-84296c44a9a0')\"\n",
              "              title=\"Convert this dataframe to an interactive table.\"\n",
              "              style=\"display:none;\">\n",
              "        \n",
              "  <svg xmlns=\"http://www.w3.org/2000/svg\" height=\"24px\"viewBox=\"0 0 24 24\"\n",
              "       width=\"24px\">\n",
              "    <path d=\"M0 0h24v24H0V0z\" fill=\"none\"/>\n",
              "    <path d=\"M18.56 5.44l.94 2.06.94-2.06 2.06-.94-2.06-.94-.94-2.06-.94 2.06-2.06.94zm-11 1L8.5 8.5l.94-2.06 2.06-.94-2.06-.94L8.5 2.5l-.94 2.06-2.06.94zm10 10l.94 2.06.94-2.06 2.06-.94-2.06-.94-.94-2.06-.94 2.06-2.06.94z\"/><path d=\"M17.41 7.96l-1.37-1.37c-.4-.4-.92-.59-1.43-.59-.52 0-1.04.2-1.43.59L10.3 9.45l-7.72 7.72c-.78.78-.78 2.05 0 2.83L4 21.41c.39.39.9.59 1.41.59.51 0 1.02-.2 1.41-.59l7.78-7.78 2.81-2.81c.8-.78.8-2.07 0-2.86zM5.41 20L4 18.59l7.72-7.72 1.47 1.35L5.41 20z\"/>\n",
              "  </svg>\n",
              "      </button>\n",
              "      \n",
              "  <style>\n",
              "    .colab-df-container {\n",
              "      display:flex;\n",
              "      flex-wrap:wrap;\n",
              "      gap: 12px;\n",
              "    }\n",
              "\n",
              "    .colab-df-convert {\n",
              "      background-color: #E8F0FE;\n",
              "      border: none;\n",
              "      border-radius: 50%;\n",
              "      cursor: pointer;\n",
              "      display: none;\n",
              "      fill: #1967D2;\n",
              "      height: 32px;\n",
              "      padding: 0 0 0 0;\n",
              "      width: 32px;\n",
              "    }\n",
              "\n",
              "    .colab-df-convert:hover {\n",
              "      background-color: #E2EBFA;\n",
              "      box-shadow: 0px 1px 2px rgba(60, 64, 67, 0.3), 0px 1px 3px 1px rgba(60, 64, 67, 0.15);\n",
              "      fill: #174EA6;\n",
              "    }\n",
              "\n",
              "    [theme=dark] .colab-df-convert {\n",
              "      background-color: #3B4455;\n",
              "      fill: #D2E3FC;\n",
              "    }\n",
              "\n",
              "    [theme=dark] .colab-df-convert:hover {\n",
              "      background-color: #434B5C;\n",
              "      box-shadow: 0px 1px 3px 1px rgba(0, 0, 0, 0.15);\n",
              "      filter: drop-shadow(0px 1px 2px rgba(0, 0, 0, 0.3));\n",
              "      fill: #FFFFFF;\n",
              "    }\n",
              "  </style>\n",
              "\n",
              "      <script>\n",
              "        const buttonEl =\n",
              "          document.querySelector('#df-52b73c05-4c14-4fca-aaaf-84296c44a9a0 button.colab-df-convert');\n",
              "        buttonEl.style.display =\n",
              "          google.colab.kernel.accessAllowed ? 'block' : 'none';\n",
              "\n",
              "        async function convertToInteractive(key) {\n",
              "          const element = document.querySelector('#df-52b73c05-4c14-4fca-aaaf-84296c44a9a0');\n",
              "          const dataTable =\n",
              "            await google.colab.kernel.invokeFunction('convertToInteractive',\n",
              "                                                     [key], {});\n",
              "          if (!dataTable) return;\n",
              "\n",
              "          const docLinkHtml = 'Like what you see? Visit the ' +\n",
              "            '<a target=\"_blank\" href=https://colab.research.google.com/notebooks/data_table.ipynb>data table notebook</a>'\n",
              "            + ' to learn more about interactive tables.';\n",
              "          element.innerHTML = '';\n",
              "          dataTable['output_type'] = 'display_data';\n",
              "          await google.colab.output.renderOutput(dataTable, element);\n",
              "          const docLink = document.createElement('div');\n",
              "          docLink.innerHTML = docLinkHtml;\n",
              "          element.appendChild(docLink);\n",
              "        }\n",
              "      </script>\n",
              "    </div>\n",
              "  </div>\n",
              "  "
            ]
          },
          "metadata": {},
          "execution_count": 192
        }
      ]
    },
    {
      "cell_type": "markdown",
      "source": [
        "### Analise Univariada"
      ],
      "metadata": {
        "id": "f8fREoxNnIRw"
      }
    },
    {
      "cell_type": "markdown",
      "source": [
        "checando percentual de algumas colunas"
      ],
      "metadata": {
        "id": "0WLysJrSlFIU"
      }
    },
    {
      "cell_type": "code",
      "source": [
        "df.Subject_Gender.replace(\"m\",\"Other\",inplace=True)\n",
        "df.Subject_Gender.replace(\"-\",\"Other\",inplace=True)"
      ],
      "metadata": {
        "id": "rTWCMG7alBes"
      },
      "execution_count": 16,
      "outputs": []
    },
    {
      "cell_type": "code",
      "source": [
        "genero = df.Subject_Gender.value_counts(normalize=True)"
      ],
      "metadata": {
        "id": "ibkLCnsikw7f"
      },
      "execution_count": 17,
      "outputs": []
    },
    {
      "cell_type": "code",
      "source": [
        "fig = plot_pie(genero,\"Genero\")\n",
        "fig.show()"
      ],
      "metadata": {
        "colab": {
          "base_uri": "https://localhost:8080/",
          "height": 542
        },
        "id": "XEfHHz_SlpIa",
        "outputId": "c4805072-c8ab-4a74-be65-ed1823abb23b"
      },
      "execution_count": 18,
      "outputs": [
        {
          "output_type": "display_data",
          "data": {
            "text/html": [
              "<html>\n",
              "<head><meta charset=\"utf-8\" /></head>\n",
              "<body>\n",
              "    <div>            <script src=\"https://cdnjs.cloudflare.com/ajax/libs/mathjax/2.7.5/MathJax.js?config=TeX-AMS-MML_SVG\"></script><script type=\"text/javascript\">if (window.MathJax && window.MathJax.Hub && window.MathJax.Hub.Config) {window.MathJax.Hub.Config({SVG: {font: \"STIX-Web\"}});}</script>                <script type=\"text/javascript\">window.PlotlyConfig = {MathJaxConfig: 'local'};</script>\n",
              "        <script src=\"https://cdn.plot.ly/plotly-2.18.2.min.js\"></script>                <div id=\"00c2aab9-d156-4d2e-a8db-6b9d0adde01b\" class=\"plotly-graph-div\" style=\"height:525px; width:100%;\"></div>            <script type=\"text/javascript\">                                    window.PLOTLYENV=window.PLOTLYENV || {};                                    if (document.getElementById(\"00c2aab9-d156-4d2e-a8db-6b9d0adde01b\")) {                    Plotly.newPlot(                        \"00c2aab9-d156-4d2e-a8db-6b9d0adde01b\",                        [{\"hole\":0.3,\"labels\":[\"Male\",\"Female\",\"Unknown\",\"Other\",\"Transgender Female\",\"Non-binary\",\"Transgender Male\"],\"values\":[0.747195737521032,0.21193213684800896,0.03252944475602917,0.006519910263600673,0.0011918115535614134,0.00035053280987100394,0.00028042624789680314],\"type\":\"pie\"}],                        {\"template\":{\"data\":{\"histogram2dcontour\":[{\"type\":\"histogram2dcontour\",\"colorbar\":{\"outlinewidth\":0,\"ticks\":\"\"},\"colorscale\":[[0.0,\"#0d0887\"],[0.1111111111111111,\"#46039f\"],[0.2222222222222222,\"#7201a8\"],[0.3333333333333333,\"#9c179e\"],[0.4444444444444444,\"#bd3786\"],[0.5555555555555556,\"#d8576b\"],[0.6666666666666666,\"#ed7953\"],[0.7777777777777778,\"#fb9f3a\"],[0.8888888888888888,\"#fdca26\"],[1.0,\"#f0f921\"]]}],\"choropleth\":[{\"type\":\"choropleth\",\"colorbar\":{\"outlinewidth\":0,\"ticks\":\"\"}}],\"histogram2d\":[{\"type\":\"histogram2d\",\"colorbar\":{\"outlinewidth\":0,\"ticks\":\"\"},\"colorscale\":[[0.0,\"#0d0887\"],[0.1111111111111111,\"#46039f\"],[0.2222222222222222,\"#7201a8\"],[0.3333333333333333,\"#9c179e\"],[0.4444444444444444,\"#bd3786\"],[0.5555555555555556,\"#d8576b\"],[0.6666666666666666,\"#ed7953\"],[0.7777777777777778,\"#fb9f3a\"],[0.8888888888888888,\"#fdca26\"],[1.0,\"#f0f921\"]]}],\"heatmap\":[{\"type\":\"heatmap\",\"colorbar\":{\"outlinewidth\":0,\"ticks\":\"\"},\"colorscale\":[[0.0,\"#0d0887\"],[0.1111111111111111,\"#46039f\"],[0.2222222222222222,\"#7201a8\"],[0.3333333333333333,\"#9c179e\"],[0.4444444444444444,\"#bd3786\"],[0.5555555555555556,\"#d8576b\"],[0.6666666666666666,\"#ed7953\"],[0.7777777777777778,\"#fb9f3a\"],[0.8888888888888888,\"#fdca26\"],[1.0,\"#f0f921\"]]}],\"heatmapgl\":[{\"type\":\"heatmapgl\",\"colorbar\":{\"outlinewidth\":0,\"ticks\":\"\"},\"colorscale\":[[0.0,\"#0d0887\"],[0.1111111111111111,\"#46039f\"],[0.2222222222222222,\"#7201a8\"],[0.3333333333333333,\"#9c179e\"],[0.4444444444444444,\"#bd3786\"],[0.5555555555555556,\"#d8576b\"],[0.6666666666666666,\"#ed7953\"],[0.7777777777777778,\"#fb9f3a\"],[0.8888888888888888,\"#fdca26\"],[1.0,\"#f0f921\"]]}],\"contourcarpet\":[{\"type\":\"contourcarpet\",\"colorbar\":{\"outlinewidth\":0,\"ticks\":\"\"}}],\"contour\":[{\"type\":\"contour\",\"colorbar\":{\"outlinewidth\":0,\"ticks\":\"\"},\"colorscale\":[[0.0,\"#0d0887\"],[0.1111111111111111,\"#46039f\"],[0.2222222222222222,\"#7201a8\"],[0.3333333333333333,\"#9c179e\"],[0.4444444444444444,\"#bd3786\"],[0.5555555555555556,\"#d8576b\"],[0.6666666666666666,\"#ed7953\"],[0.7777777777777778,\"#fb9f3a\"],[0.8888888888888888,\"#fdca26\"],[1.0,\"#f0f921\"]]}],\"surface\":[{\"type\":\"surface\",\"colorbar\":{\"outlinewidth\":0,\"ticks\":\"\"},\"colorscale\":[[0.0,\"#0d0887\"],[0.1111111111111111,\"#46039f\"],[0.2222222222222222,\"#7201a8\"],[0.3333333333333333,\"#9c179e\"],[0.4444444444444444,\"#bd3786\"],[0.5555555555555556,\"#d8576b\"],[0.6666666666666666,\"#ed7953\"],[0.7777777777777778,\"#fb9f3a\"],[0.8888888888888888,\"#fdca26\"],[1.0,\"#f0f921\"]]}],\"mesh3d\":[{\"type\":\"mesh3d\",\"colorbar\":{\"outlinewidth\":0,\"ticks\":\"\"}}],\"scatter\":[{\"fillpattern\":{\"fillmode\":\"overlay\",\"size\":10,\"solidity\":0.2},\"type\":\"scatter\"}],\"parcoords\":[{\"type\":\"parcoords\",\"line\":{\"colorbar\":{\"outlinewidth\":0,\"ticks\":\"\"}}}],\"scatterpolargl\":[{\"type\":\"scatterpolargl\",\"marker\":{\"colorbar\":{\"outlinewidth\":0,\"ticks\":\"\"}}}],\"bar\":[{\"error_x\":{\"color\":\"#2a3f5f\"},\"error_y\":{\"color\":\"#2a3f5f\"},\"marker\":{\"line\":{\"color\":\"#E5ECF6\",\"width\":0.5},\"pattern\":{\"fillmode\":\"overlay\",\"size\":10,\"solidity\":0.2}},\"type\":\"bar\"}],\"scattergeo\":[{\"type\":\"scattergeo\",\"marker\":{\"colorbar\":{\"outlinewidth\":0,\"ticks\":\"\"}}}],\"scatterpolar\":[{\"type\":\"scatterpolar\",\"marker\":{\"colorbar\":{\"outlinewidth\":0,\"ticks\":\"\"}}}],\"histogram\":[{\"marker\":{\"pattern\":{\"fillmode\":\"overlay\",\"size\":10,\"solidity\":0.2}},\"type\":\"histogram\"}],\"scattergl\":[{\"type\":\"scattergl\",\"marker\":{\"colorbar\":{\"outlinewidth\":0,\"ticks\":\"\"}}}],\"scatter3d\":[{\"type\":\"scatter3d\",\"line\":{\"colorbar\":{\"outlinewidth\":0,\"ticks\":\"\"}},\"marker\":{\"colorbar\":{\"outlinewidth\":0,\"ticks\":\"\"}}}],\"scattermapbox\":[{\"type\":\"scattermapbox\",\"marker\":{\"colorbar\":{\"outlinewidth\":0,\"ticks\":\"\"}}}],\"scatterternary\":[{\"type\":\"scatterternary\",\"marker\":{\"colorbar\":{\"outlinewidth\":0,\"ticks\":\"\"}}}],\"scattercarpet\":[{\"type\":\"scattercarpet\",\"marker\":{\"colorbar\":{\"outlinewidth\":0,\"ticks\":\"\"}}}],\"carpet\":[{\"aaxis\":{\"endlinecolor\":\"#2a3f5f\",\"gridcolor\":\"white\",\"linecolor\":\"white\",\"minorgridcolor\":\"white\",\"startlinecolor\":\"#2a3f5f\"},\"baxis\":{\"endlinecolor\":\"#2a3f5f\",\"gridcolor\":\"white\",\"linecolor\":\"white\",\"minorgridcolor\":\"white\",\"startlinecolor\":\"#2a3f5f\"},\"type\":\"carpet\"}],\"table\":[{\"cells\":{\"fill\":{\"color\":\"#EBF0F8\"},\"line\":{\"color\":\"white\"}},\"header\":{\"fill\":{\"color\":\"#C8D4E3\"},\"line\":{\"color\":\"white\"}},\"type\":\"table\"}],\"barpolar\":[{\"marker\":{\"line\":{\"color\":\"#E5ECF6\",\"width\":0.5},\"pattern\":{\"fillmode\":\"overlay\",\"size\":10,\"solidity\":0.2}},\"type\":\"barpolar\"}],\"pie\":[{\"automargin\":true,\"type\":\"pie\"}]},\"layout\":{\"autotypenumbers\":\"strict\",\"colorway\":[\"#636efa\",\"#EF553B\",\"#00cc96\",\"#ab63fa\",\"#FFA15A\",\"#19d3f3\",\"#FF6692\",\"#B6E880\",\"#FF97FF\",\"#FECB52\"],\"font\":{\"color\":\"#2a3f5f\"},\"hovermode\":\"closest\",\"hoverlabel\":{\"align\":\"left\"},\"paper_bgcolor\":\"white\",\"plot_bgcolor\":\"#E5ECF6\",\"polar\":{\"bgcolor\":\"#E5ECF6\",\"angularaxis\":{\"gridcolor\":\"white\",\"linecolor\":\"white\",\"ticks\":\"\"},\"radialaxis\":{\"gridcolor\":\"white\",\"linecolor\":\"white\",\"ticks\":\"\"}},\"ternary\":{\"bgcolor\":\"#E5ECF6\",\"aaxis\":{\"gridcolor\":\"white\",\"linecolor\":\"white\",\"ticks\":\"\"},\"baxis\":{\"gridcolor\":\"white\",\"linecolor\":\"white\",\"ticks\":\"\"},\"caxis\":{\"gridcolor\":\"white\",\"linecolor\":\"white\",\"ticks\":\"\"}},\"coloraxis\":{\"colorbar\":{\"outlinewidth\":0,\"ticks\":\"\"}},\"colorscale\":{\"sequential\":[[0.0,\"#0d0887\"],[0.1111111111111111,\"#46039f\"],[0.2222222222222222,\"#7201a8\"],[0.3333333333333333,\"#9c179e\"],[0.4444444444444444,\"#bd3786\"],[0.5555555555555556,\"#d8576b\"],[0.6666666666666666,\"#ed7953\"],[0.7777777777777778,\"#fb9f3a\"],[0.8888888888888888,\"#fdca26\"],[1.0,\"#f0f921\"]],\"sequentialminus\":[[0.0,\"#0d0887\"],[0.1111111111111111,\"#46039f\"],[0.2222222222222222,\"#7201a8\"],[0.3333333333333333,\"#9c179e\"],[0.4444444444444444,\"#bd3786\"],[0.5555555555555556,\"#d8576b\"],[0.6666666666666666,\"#ed7953\"],[0.7777777777777778,\"#fb9f3a\"],[0.8888888888888888,\"#fdca26\"],[1.0,\"#f0f921\"]],\"diverging\":[[0,\"#8e0152\"],[0.1,\"#c51b7d\"],[0.2,\"#de77ae\"],[0.3,\"#f1b6da\"],[0.4,\"#fde0ef\"],[0.5,\"#f7f7f7\"],[0.6,\"#e6f5d0\"],[0.7,\"#b8e186\"],[0.8,\"#7fbc41\"],[0.9,\"#4d9221\"],[1,\"#276419\"]]},\"xaxis\":{\"gridcolor\":\"white\",\"linecolor\":\"white\",\"ticks\":\"\",\"title\":{\"standoff\":15},\"zerolinecolor\":\"white\",\"automargin\":true,\"zerolinewidth\":2},\"yaxis\":{\"gridcolor\":\"white\",\"linecolor\":\"white\",\"ticks\":\"\",\"title\":{\"standoff\":15},\"zerolinecolor\":\"white\",\"automargin\":true,\"zerolinewidth\":2},\"scene\":{\"xaxis\":{\"backgroundcolor\":\"#E5ECF6\",\"gridcolor\":\"white\",\"linecolor\":\"white\",\"showbackground\":true,\"ticks\":\"\",\"zerolinecolor\":\"white\",\"gridwidth\":2},\"yaxis\":{\"backgroundcolor\":\"#E5ECF6\",\"gridcolor\":\"white\",\"linecolor\":\"white\",\"showbackground\":true,\"ticks\":\"\",\"zerolinecolor\":\"white\",\"gridwidth\":2},\"zaxis\":{\"backgroundcolor\":\"#E5ECF6\",\"gridcolor\":\"white\",\"linecolor\":\"white\",\"showbackground\":true,\"ticks\":\"\",\"zerolinecolor\":\"white\",\"gridwidth\":2}},\"shapedefaults\":{\"line\":{\"color\":\"#2a3f5f\"}},\"annotationdefaults\":{\"arrowcolor\":\"#2a3f5f\",\"arrowhead\":0,\"arrowwidth\":1},\"geo\":{\"bgcolor\":\"white\",\"landcolor\":\"#E5ECF6\",\"subunitcolor\":\"white\",\"showland\":true,\"showlakes\":true,\"lakecolor\":\"white\"},\"title\":{\"x\":0.05},\"mapbox\":{\"style\":\"light\"}}},\"title\":{\"text\":\"Distribui\\u00e7\\u00e3o de Genero\",\"y\":0.9,\"x\":0.5,\"xanchor\":\"center\",\"yanchor\":\"top\"}},                        {\"responsive\": true}                    ).then(function(){\n",
              "                            \n",
              "var gd = document.getElementById('00c2aab9-d156-4d2e-a8db-6b9d0adde01b');\n",
              "var x = new MutationObserver(function (mutations, observer) {{\n",
              "        var display = window.getComputedStyle(gd).display;\n",
              "        if (!display || display === 'none') {{\n",
              "            console.log([gd, 'removed!']);\n",
              "            Plotly.purge(gd);\n",
              "            observer.disconnect();\n",
              "        }}\n",
              "}});\n",
              "\n",
              "// Listen for the removal of the full notebook cells\n",
              "var notebookContainer = gd.closest('#notebook-container');\n",
              "if (notebookContainer) {{\n",
              "    x.observe(notebookContainer, {childList: true});\n",
              "}}\n",
              "\n",
              "// Listen for the clearing of the current output cell\n",
              "var outputEl = gd.closest('.output');\n",
              "if (outputEl) {{\n",
              "    x.observe(outputEl, {childList: true});\n",
              "}}\n",
              "\n",
              "                        })                };                            </script>        </div>\n",
              "</body>\n",
              "</html>"
            ]
          },
          "metadata": {}
        }
      ]
    },
    {
      "cell_type": "code",
      "source": [
        "raca = df.Subject_Race.value_counts(normalize=True)"
      ],
      "metadata": {
        "id": "tf4B0IHhlJ7s"
      },
      "execution_count": 19,
      "outputs": []
    },
    {
      "cell_type": "code",
      "source": [
        "figure = plot_pie(raca,\"Etnias\")\n",
        "figure.show()"
      ],
      "metadata": {
        "colab": {
          "base_uri": "https://localhost:8080/",
          "height": 542
        },
        "id": "jm2oFVOukw46",
        "outputId": "71072dde-1cf6-4df1-f968-b85c75030b37"
      },
      "execution_count": 20,
      "outputs": [
        {
          "output_type": "display_data",
          "data": {
            "text/html": [
              "<html>\n",
              "<head><meta charset=\"utf-8\" /></head>\n",
              "<body>\n",
              "    <div>            <script src=\"https://cdnjs.cloudflare.com/ajax/libs/mathjax/2.7.5/MathJax.js?config=TeX-AMS-MML_SVG\"></script><script type=\"text/javascript\">if (window.MathJax && window.MathJax.Hub && window.MathJax.Hub.Config) {window.MathJax.Hub.Config({SVG: {font: \"STIX-Web\"}});}</script>                <script type=\"text/javascript\">window.PlotlyConfig = {MathJaxConfig: 'local'};</script>\n",
              "        <script src=\"https://cdn.plot.ly/plotly-2.18.2.min.js\"></script>                <div id=\"728342d4-829d-4f9e-a70d-f773536a562d\" class=\"plotly-graph-div\" style=\"height:525px; width:100%;\"></div>            <script type=\"text/javascript\">                                    window.PLOTLYENV=window.PLOTLYENV || {};                                    if (document.getElementById(\"728342d4-829d-4f9e-a70d-f773536a562d\")) {                    Plotly.newPlot(                        \"728342d4-829d-4f9e-a70d-f773536a562d\",                        [{\"hole\":0.3,\"labels\":[\"White\",\"Black or African American\",\"Not Specified\",\"Hispanic or Latino\",\"Asian\",\"American Indian/Alaska Native\",\"Nat Hawaiian/Oth Pac Islander\",\"Two or More Races\"],\"values\":[0.4019209197980931,0.3317442512619181,0.1600532809871004,0.04535894559730791,0.034492428491306786,0.014862591138530567,0.008693213684800897,0.002874369040942232],\"type\":\"pie\"}],                        {\"template\":{\"data\":{\"histogram2dcontour\":[{\"type\":\"histogram2dcontour\",\"colorbar\":{\"outlinewidth\":0,\"ticks\":\"\"},\"colorscale\":[[0.0,\"#0d0887\"],[0.1111111111111111,\"#46039f\"],[0.2222222222222222,\"#7201a8\"],[0.3333333333333333,\"#9c179e\"],[0.4444444444444444,\"#bd3786\"],[0.5555555555555556,\"#d8576b\"],[0.6666666666666666,\"#ed7953\"],[0.7777777777777778,\"#fb9f3a\"],[0.8888888888888888,\"#fdca26\"],[1.0,\"#f0f921\"]]}],\"choropleth\":[{\"type\":\"choropleth\",\"colorbar\":{\"outlinewidth\":0,\"ticks\":\"\"}}],\"histogram2d\":[{\"type\":\"histogram2d\",\"colorbar\":{\"outlinewidth\":0,\"ticks\":\"\"},\"colorscale\":[[0.0,\"#0d0887\"],[0.1111111111111111,\"#46039f\"],[0.2222222222222222,\"#7201a8\"],[0.3333333333333333,\"#9c179e\"],[0.4444444444444444,\"#bd3786\"],[0.5555555555555556,\"#d8576b\"],[0.6666666666666666,\"#ed7953\"],[0.7777777777777778,\"#fb9f3a\"],[0.8888888888888888,\"#fdca26\"],[1.0,\"#f0f921\"]]}],\"heatmap\":[{\"type\":\"heatmap\",\"colorbar\":{\"outlinewidth\":0,\"ticks\":\"\"},\"colorscale\":[[0.0,\"#0d0887\"],[0.1111111111111111,\"#46039f\"],[0.2222222222222222,\"#7201a8\"],[0.3333333333333333,\"#9c179e\"],[0.4444444444444444,\"#bd3786\"],[0.5555555555555556,\"#d8576b\"],[0.6666666666666666,\"#ed7953\"],[0.7777777777777778,\"#fb9f3a\"],[0.8888888888888888,\"#fdca26\"],[1.0,\"#f0f921\"]]}],\"heatmapgl\":[{\"type\":\"heatmapgl\",\"colorbar\":{\"outlinewidth\":0,\"ticks\":\"\"},\"colorscale\":[[0.0,\"#0d0887\"],[0.1111111111111111,\"#46039f\"],[0.2222222222222222,\"#7201a8\"],[0.3333333333333333,\"#9c179e\"],[0.4444444444444444,\"#bd3786\"],[0.5555555555555556,\"#d8576b\"],[0.6666666666666666,\"#ed7953\"],[0.7777777777777778,\"#fb9f3a\"],[0.8888888888888888,\"#fdca26\"],[1.0,\"#f0f921\"]]}],\"contourcarpet\":[{\"type\":\"contourcarpet\",\"colorbar\":{\"outlinewidth\":0,\"ticks\":\"\"}}],\"contour\":[{\"type\":\"contour\",\"colorbar\":{\"outlinewidth\":0,\"ticks\":\"\"},\"colorscale\":[[0.0,\"#0d0887\"],[0.1111111111111111,\"#46039f\"],[0.2222222222222222,\"#7201a8\"],[0.3333333333333333,\"#9c179e\"],[0.4444444444444444,\"#bd3786\"],[0.5555555555555556,\"#d8576b\"],[0.6666666666666666,\"#ed7953\"],[0.7777777777777778,\"#fb9f3a\"],[0.8888888888888888,\"#fdca26\"],[1.0,\"#f0f921\"]]}],\"surface\":[{\"type\":\"surface\",\"colorbar\":{\"outlinewidth\":0,\"ticks\":\"\"},\"colorscale\":[[0.0,\"#0d0887\"],[0.1111111111111111,\"#46039f\"],[0.2222222222222222,\"#7201a8\"],[0.3333333333333333,\"#9c179e\"],[0.4444444444444444,\"#bd3786\"],[0.5555555555555556,\"#d8576b\"],[0.6666666666666666,\"#ed7953\"],[0.7777777777777778,\"#fb9f3a\"],[0.8888888888888888,\"#fdca26\"],[1.0,\"#f0f921\"]]}],\"mesh3d\":[{\"type\":\"mesh3d\",\"colorbar\":{\"outlinewidth\":0,\"ticks\":\"\"}}],\"scatter\":[{\"fillpattern\":{\"fillmode\":\"overlay\",\"size\":10,\"solidity\":0.2},\"type\":\"scatter\"}],\"parcoords\":[{\"type\":\"parcoords\",\"line\":{\"colorbar\":{\"outlinewidth\":0,\"ticks\":\"\"}}}],\"scatterpolargl\":[{\"type\":\"scatterpolargl\",\"marker\":{\"colorbar\":{\"outlinewidth\":0,\"ticks\":\"\"}}}],\"bar\":[{\"error_x\":{\"color\":\"#2a3f5f\"},\"error_y\":{\"color\":\"#2a3f5f\"},\"marker\":{\"line\":{\"color\":\"#E5ECF6\",\"width\":0.5},\"pattern\":{\"fillmode\":\"overlay\",\"size\":10,\"solidity\":0.2}},\"type\":\"bar\"}],\"scattergeo\":[{\"type\":\"scattergeo\",\"marker\":{\"colorbar\":{\"outlinewidth\":0,\"ticks\":\"\"}}}],\"scatterpolar\":[{\"type\":\"scatterpolar\",\"marker\":{\"colorbar\":{\"outlinewidth\":0,\"ticks\":\"\"}}}],\"histogram\":[{\"marker\":{\"pattern\":{\"fillmode\":\"overlay\",\"size\":10,\"solidity\":0.2}},\"type\":\"histogram\"}],\"scattergl\":[{\"type\":\"scattergl\",\"marker\":{\"colorbar\":{\"outlinewidth\":0,\"ticks\":\"\"}}}],\"scatter3d\":[{\"type\":\"scatter3d\",\"line\":{\"colorbar\":{\"outlinewidth\":0,\"ticks\":\"\"}},\"marker\":{\"colorbar\":{\"outlinewidth\":0,\"ticks\":\"\"}}}],\"scattermapbox\":[{\"type\":\"scattermapbox\",\"marker\":{\"colorbar\":{\"outlinewidth\":0,\"ticks\":\"\"}}}],\"scatterternary\":[{\"type\":\"scatterternary\",\"marker\":{\"colorbar\":{\"outlinewidth\":0,\"ticks\":\"\"}}}],\"scattercarpet\":[{\"type\":\"scattercarpet\",\"marker\":{\"colorbar\":{\"outlinewidth\":0,\"ticks\":\"\"}}}],\"carpet\":[{\"aaxis\":{\"endlinecolor\":\"#2a3f5f\",\"gridcolor\":\"white\",\"linecolor\":\"white\",\"minorgridcolor\":\"white\",\"startlinecolor\":\"#2a3f5f\"},\"baxis\":{\"endlinecolor\":\"#2a3f5f\",\"gridcolor\":\"white\",\"linecolor\":\"white\",\"minorgridcolor\":\"white\",\"startlinecolor\":\"#2a3f5f\"},\"type\":\"carpet\"}],\"table\":[{\"cells\":{\"fill\":{\"color\":\"#EBF0F8\"},\"line\":{\"color\":\"white\"}},\"header\":{\"fill\":{\"color\":\"#C8D4E3\"},\"line\":{\"color\":\"white\"}},\"type\":\"table\"}],\"barpolar\":[{\"marker\":{\"line\":{\"color\":\"#E5ECF6\",\"width\":0.5},\"pattern\":{\"fillmode\":\"overlay\",\"size\":10,\"solidity\":0.2}},\"type\":\"barpolar\"}],\"pie\":[{\"automargin\":true,\"type\":\"pie\"}]},\"layout\":{\"autotypenumbers\":\"strict\",\"colorway\":[\"#636efa\",\"#EF553B\",\"#00cc96\",\"#ab63fa\",\"#FFA15A\",\"#19d3f3\",\"#FF6692\",\"#B6E880\",\"#FF97FF\",\"#FECB52\"],\"font\":{\"color\":\"#2a3f5f\"},\"hovermode\":\"closest\",\"hoverlabel\":{\"align\":\"left\"},\"paper_bgcolor\":\"white\",\"plot_bgcolor\":\"#E5ECF6\",\"polar\":{\"bgcolor\":\"#E5ECF6\",\"angularaxis\":{\"gridcolor\":\"white\",\"linecolor\":\"white\",\"ticks\":\"\"},\"radialaxis\":{\"gridcolor\":\"white\",\"linecolor\":\"white\",\"ticks\":\"\"}},\"ternary\":{\"bgcolor\":\"#E5ECF6\",\"aaxis\":{\"gridcolor\":\"white\",\"linecolor\":\"white\",\"ticks\":\"\"},\"baxis\":{\"gridcolor\":\"white\",\"linecolor\":\"white\",\"ticks\":\"\"},\"caxis\":{\"gridcolor\":\"white\",\"linecolor\":\"white\",\"ticks\":\"\"}},\"coloraxis\":{\"colorbar\":{\"outlinewidth\":0,\"ticks\":\"\"}},\"colorscale\":{\"sequential\":[[0.0,\"#0d0887\"],[0.1111111111111111,\"#46039f\"],[0.2222222222222222,\"#7201a8\"],[0.3333333333333333,\"#9c179e\"],[0.4444444444444444,\"#bd3786\"],[0.5555555555555556,\"#d8576b\"],[0.6666666666666666,\"#ed7953\"],[0.7777777777777778,\"#fb9f3a\"],[0.8888888888888888,\"#fdca26\"],[1.0,\"#f0f921\"]],\"sequentialminus\":[[0.0,\"#0d0887\"],[0.1111111111111111,\"#46039f\"],[0.2222222222222222,\"#7201a8\"],[0.3333333333333333,\"#9c179e\"],[0.4444444444444444,\"#bd3786\"],[0.5555555555555556,\"#d8576b\"],[0.6666666666666666,\"#ed7953\"],[0.7777777777777778,\"#fb9f3a\"],[0.8888888888888888,\"#fdca26\"],[1.0,\"#f0f921\"]],\"diverging\":[[0,\"#8e0152\"],[0.1,\"#c51b7d\"],[0.2,\"#de77ae\"],[0.3,\"#f1b6da\"],[0.4,\"#fde0ef\"],[0.5,\"#f7f7f7\"],[0.6,\"#e6f5d0\"],[0.7,\"#b8e186\"],[0.8,\"#7fbc41\"],[0.9,\"#4d9221\"],[1,\"#276419\"]]},\"xaxis\":{\"gridcolor\":\"white\",\"linecolor\":\"white\",\"ticks\":\"\",\"title\":{\"standoff\":15},\"zerolinecolor\":\"white\",\"automargin\":true,\"zerolinewidth\":2},\"yaxis\":{\"gridcolor\":\"white\",\"linecolor\":\"white\",\"ticks\":\"\",\"title\":{\"standoff\":15},\"zerolinecolor\":\"white\",\"automargin\":true,\"zerolinewidth\":2},\"scene\":{\"xaxis\":{\"backgroundcolor\":\"#E5ECF6\",\"gridcolor\":\"white\",\"linecolor\":\"white\",\"showbackground\":true,\"ticks\":\"\",\"zerolinecolor\":\"white\",\"gridwidth\":2},\"yaxis\":{\"backgroundcolor\":\"#E5ECF6\",\"gridcolor\":\"white\",\"linecolor\":\"white\",\"showbackground\":true,\"ticks\":\"\",\"zerolinecolor\":\"white\",\"gridwidth\":2},\"zaxis\":{\"backgroundcolor\":\"#E5ECF6\",\"gridcolor\":\"white\",\"linecolor\":\"white\",\"showbackground\":true,\"ticks\":\"\",\"zerolinecolor\":\"white\",\"gridwidth\":2}},\"shapedefaults\":{\"line\":{\"color\":\"#2a3f5f\"}},\"annotationdefaults\":{\"arrowcolor\":\"#2a3f5f\",\"arrowhead\":0,\"arrowwidth\":1},\"geo\":{\"bgcolor\":\"white\",\"landcolor\":\"#E5ECF6\",\"subunitcolor\":\"white\",\"showland\":true,\"showlakes\":true,\"lakecolor\":\"white\"},\"title\":{\"x\":0.05},\"mapbox\":{\"style\":\"light\"}}},\"title\":{\"text\":\"Distribui\\u00e7\\u00e3o de Etnias\",\"y\":0.9,\"x\":0.5,\"xanchor\":\"center\",\"yanchor\":\"top\"}},                        {\"responsive\": true}                    ).then(function(){\n",
              "                            \n",
              "var gd = document.getElementById('728342d4-829d-4f9e-a70d-f773536a562d');\n",
              "var x = new MutationObserver(function (mutations, observer) {{\n",
              "        var display = window.getComputedStyle(gd).display;\n",
              "        if (!display || display === 'none') {{\n",
              "            console.log([gd, 'removed!']);\n",
              "            Plotly.purge(gd);\n",
              "            observer.disconnect();\n",
              "        }}\n",
              "}});\n",
              "\n",
              "// Listen for the removal of the full notebook cells\n",
              "var notebookContainer = gd.closest('#notebook-container');\n",
              "if (notebookContainer) {{\n",
              "    x.observe(notebookContainer, {childList: true});\n",
              "}}\n",
              "\n",
              "// Listen for the clearing of the current output cell\n",
              "var outputEl = gd.closest('.output');\n",
              "if (outputEl) {{\n",
              "    x.observe(outputEl, {childList: true});\n",
              "}}\n",
              "\n",
              "                        })                };                            </script>        </div>\n",
              "</body>\n",
              "</html>"
            ]
          },
          "metadata": {}
        }
      ]
    },
    {
      "cell_type": "code",
      "source": [
        "sector = df.Sector.value_counts(normalize=True)\n",
        "figure = plot_pie(sector,\"Setores\")\n",
        "figure.show()"
      ],
      "metadata": {
        "colab": {
          "base_uri": "https://localhost:8080/",
          "height": 542
        },
        "id": "c20rJ2yEkw2J",
        "outputId": "05d9a966-bf58-4e79-a233-878e5e8ba99f"
      },
      "execution_count": 21,
      "outputs": [
        {
          "output_type": "display_data",
          "data": {
            "text/html": [
              "<html>\n",
              "<head><meta charset=\"utf-8\" /></head>\n",
              "<body>\n",
              "    <div>            <script src=\"https://cdnjs.cloudflare.com/ajax/libs/mathjax/2.7.5/MathJax.js?config=TeX-AMS-MML_SVG\"></script><script type=\"text/javascript\">if (window.MathJax && window.MathJax.Hub && window.MathJax.Hub.Config) {window.MathJax.Hub.Config({SVG: {font: \"STIX-Web\"}});}</script>                <script type=\"text/javascript\">window.PlotlyConfig = {MathJaxConfig: 'local'};</script>\n",
              "        <script src=\"https://cdn.plot.ly/plotly-2.18.2.min.js\"></script>                <div id=\"62e7063a-bc88-4c96-a6d9-aec43ef11972\" class=\"plotly-graph-div\" style=\"height:525px; width:100%;\"></div>            <script type=\"text/javascript\">                                    window.PLOTLYENV=window.PLOTLYENV || {};                                    if (document.getElementById(\"62e7063a-bc88-4c96-a6d9-aec43ef11972\")) {                    Plotly.newPlot(                        \"62e7063a-bc88-4c96-a6d9-aec43ef11972\",                        [{\"hole\":0.3,\"labels\":[\"EDWARD\",\"KING\",\"DAVID\",\"MARY\",\"SAM\",\"NORA\",\"ROBERT\",\"UNION\",\"GEORGE\",\"LINCOLN\",\"OCEAN\",\"BOY\",\"QUEEN\",\"FRANK\",\"JOHN\",\"CHARLIE\",\"WILLIAM\"],\"values\":[0.1305490873582213,0.1130473972808533,0.07879516262300007,0.07496432058889807,0.07113347855479607,0.06857958386539473,0.06587546007661683,0.051829039284909485,0.051678810185532935,0.048373769999248854,0.04138811687823932,0.039435138586344176,0.03823330579133178,0.035378952903177344,0.03312551641252911,0.03192368361751671,0.02568917599338992],\"type\":\"pie\"}],                        {\"template\":{\"data\":{\"histogram2dcontour\":[{\"type\":\"histogram2dcontour\",\"colorbar\":{\"outlinewidth\":0,\"ticks\":\"\"},\"colorscale\":[[0.0,\"#0d0887\"],[0.1111111111111111,\"#46039f\"],[0.2222222222222222,\"#7201a8\"],[0.3333333333333333,\"#9c179e\"],[0.4444444444444444,\"#bd3786\"],[0.5555555555555556,\"#d8576b\"],[0.6666666666666666,\"#ed7953\"],[0.7777777777777778,\"#fb9f3a\"],[0.8888888888888888,\"#fdca26\"],[1.0,\"#f0f921\"]]}],\"choropleth\":[{\"type\":\"choropleth\",\"colorbar\":{\"outlinewidth\":0,\"ticks\":\"\"}}],\"histogram2d\":[{\"type\":\"histogram2d\",\"colorbar\":{\"outlinewidth\":0,\"ticks\":\"\"},\"colorscale\":[[0.0,\"#0d0887\"],[0.1111111111111111,\"#46039f\"],[0.2222222222222222,\"#7201a8\"],[0.3333333333333333,\"#9c179e\"],[0.4444444444444444,\"#bd3786\"],[0.5555555555555556,\"#d8576b\"],[0.6666666666666666,\"#ed7953\"],[0.7777777777777778,\"#fb9f3a\"],[0.8888888888888888,\"#fdca26\"],[1.0,\"#f0f921\"]]}],\"heatmap\":[{\"type\":\"heatmap\",\"colorbar\":{\"outlinewidth\":0,\"ticks\":\"\"},\"colorscale\":[[0.0,\"#0d0887\"],[0.1111111111111111,\"#46039f\"],[0.2222222222222222,\"#7201a8\"],[0.3333333333333333,\"#9c179e\"],[0.4444444444444444,\"#bd3786\"],[0.5555555555555556,\"#d8576b\"],[0.6666666666666666,\"#ed7953\"],[0.7777777777777778,\"#fb9f3a\"],[0.8888888888888888,\"#fdca26\"],[1.0,\"#f0f921\"]]}],\"heatmapgl\":[{\"type\":\"heatmapgl\",\"colorbar\":{\"outlinewidth\":0,\"ticks\":\"\"},\"colorscale\":[[0.0,\"#0d0887\"],[0.1111111111111111,\"#46039f\"],[0.2222222222222222,\"#7201a8\"],[0.3333333333333333,\"#9c179e\"],[0.4444444444444444,\"#bd3786\"],[0.5555555555555556,\"#d8576b\"],[0.6666666666666666,\"#ed7953\"],[0.7777777777777778,\"#fb9f3a\"],[0.8888888888888888,\"#fdca26\"],[1.0,\"#f0f921\"]]}],\"contourcarpet\":[{\"type\":\"contourcarpet\",\"colorbar\":{\"outlinewidth\":0,\"ticks\":\"\"}}],\"contour\":[{\"type\":\"contour\",\"colorbar\":{\"outlinewidth\":0,\"ticks\":\"\"},\"colorscale\":[[0.0,\"#0d0887\"],[0.1111111111111111,\"#46039f\"],[0.2222222222222222,\"#7201a8\"],[0.3333333333333333,\"#9c179e\"],[0.4444444444444444,\"#bd3786\"],[0.5555555555555556,\"#d8576b\"],[0.6666666666666666,\"#ed7953\"],[0.7777777777777778,\"#fb9f3a\"],[0.8888888888888888,\"#fdca26\"],[1.0,\"#f0f921\"]]}],\"surface\":[{\"type\":\"surface\",\"colorbar\":{\"outlinewidth\":0,\"ticks\":\"\"},\"colorscale\":[[0.0,\"#0d0887\"],[0.1111111111111111,\"#46039f\"],[0.2222222222222222,\"#7201a8\"],[0.3333333333333333,\"#9c179e\"],[0.4444444444444444,\"#bd3786\"],[0.5555555555555556,\"#d8576b\"],[0.6666666666666666,\"#ed7953\"],[0.7777777777777778,\"#fb9f3a\"],[0.8888888888888888,\"#fdca26\"],[1.0,\"#f0f921\"]]}],\"mesh3d\":[{\"type\":\"mesh3d\",\"colorbar\":{\"outlinewidth\":0,\"ticks\":\"\"}}],\"scatter\":[{\"fillpattern\":{\"fillmode\":\"overlay\",\"size\":10,\"solidity\":0.2},\"type\":\"scatter\"}],\"parcoords\":[{\"type\":\"parcoords\",\"line\":{\"colorbar\":{\"outlinewidth\":0,\"ticks\":\"\"}}}],\"scatterpolargl\":[{\"type\":\"scatterpolargl\",\"marker\":{\"colorbar\":{\"outlinewidth\":0,\"ticks\":\"\"}}}],\"bar\":[{\"error_x\":{\"color\":\"#2a3f5f\"},\"error_y\":{\"color\":\"#2a3f5f\"},\"marker\":{\"line\":{\"color\":\"#E5ECF6\",\"width\":0.5},\"pattern\":{\"fillmode\":\"overlay\",\"size\":10,\"solidity\":0.2}},\"type\":\"bar\"}],\"scattergeo\":[{\"type\":\"scattergeo\",\"marker\":{\"colorbar\":{\"outlinewidth\":0,\"ticks\":\"\"}}}],\"scatterpolar\":[{\"type\":\"scatterpolar\",\"marker\":{\"colorbar\":{\"outlinewidth\":0,\"ticks\":\"\"}}}],\"histogram\":[{\"marker\":{\"pattern\":{\"fillmode\":\"overlay\",\"size\":10,\"solidity\":0.2}},\"type\":\"histogram\"}],\"scattergl\":[{\"type\":\"scattergl\",\"marker\":{\"colorbar\":{\"outlinewidth\":0,\"ticks\":\"\"}}}],\"scatter3d\":[{\"type\":\"scatter3d\",\"line\":{\"colorbar\":{\"outlinewidth\":0,\"ticks\":\"\"}},\"marker\":{\"colorbar\":{\"outlinewidth\":0,\"ticks\":\"\"}}}],\"scattermapbox\":[{\"type\":\"scattermapbox\",\"marker\":{\"colorbar\":{\"outlinewidth\":0,\"ticks\":\"\"}}}],\"scatterternary\":[{\"type\":\"scatterternary\",\"marker\":{\"colorbar\":{\"outlinewidth\":0,\"ticks\":\"\"}}}],\"scattercarpet\":[{\"type\":\"scattercarpet\",\"marker\":{\"colorbar\":{\"outlinewidth\":0,\"ticks\":\"\"}}}],\"carpet\":[{\"aaxis\":{\"endlinecolor\":\"#2a3f5f\",\"gridcolor\":\"white\",\"linecolor\":\"white\",\"minorgridcolor\":\"white\",\"startlinecolor\":\"#2a3f5f\"},\"baxis\":{\"endlinecolor\":\"#2a3f5f\",\"gridcolor\":\"white\",\"linecolor\":\"white\",\"minorgridcolor\":\"white\",\"startlinecolor\":\"#2a3f5f\"},\"type\":\"carpet\"}],\"table\":[{\"cells\":{\"fill\":{\"color\":\"#EBF0F8\"},\"line\":{\"color\":\"white\"}},\"header\":{\"fill\":{\"color\":\"#C8D4E3\"},\"line\":{\"color\":\"white\"}},\"type\":\"table\"}],\"barpolar\":[{\"marker\":{\"line\":{\"color\":\"#E5ECF6\",\"width\":0.5},\"pattern\":{\"fillmode\":\"overlay\",\"size\":10,\"solidity\":0.2}},\"type\":\"barpolar\"}],\"pie\":[{\"automargin\":true,\"type\":\"pie\"}]},\"layout\":{\"autotypenumbers\":\"strict\",\"colorway\":[\"#636efa\",\"#EF553B\",\"#00cc96\",\"#ab63fa\",\"#FFA15A\",\"#19d3f3\",\"#FF6692\",\"#B6E880\",\"#FF97FF\",\"#FECB52\"],\"font\":{\"color\":\"#2a3f5f\"},\"hovermode\":\"closest\",\"hoverlabel\":{\"align\":\"left\"},\"paper_bgcolor\":\"white\",\"plot_bgcolor\":\"#E5ECF6\",\"polar\":{\"bgcolor\":\"#E5ECF6\",\"angularaxis\":{\"gridcolor\":\"white\",\"linecolor\":\"white\",\"ticks\":\"\"},\"radialaxis\":{\"gridcolor\":\"white\",\"linecolor\":\"white\",\"ticks\":\"\"}},\"ternary\":{\"bgcolor\":\"#E5ECF6\",\"aaxis\":{\"gridcolor\":\"white\",\"linecolor\":\"white\",\"ticks\":\"\"},\"baxis\":{\"gridcolor\":\"white\",\"linecolor\":\"white\",\"ticks\":\"\"},\"caxis\":{\"gridcolor\":\"white\",\"linecolor\":\"white\",\"ticks\":\"\"}},\"coloraxis\":{\"colorbar\":{\"outlinewidth\":0,\"ticks\":\"\"}},\"colorscale\":{\"sequential\":[[0.0,\"#0d0887\"],[0.1111111111111111,\"#46039f\"],[0.2222222222222222,\"#7201a8\"],[0.3333333333333333,\"#9c179e\"],[0.4444444444444444,\"#bd3786\"],[0.5555555555555556,\"#d8576b\"],[0.6666666666666666,\"#ed7953\"],[0.7777777777777778,\"#fb9f3a\"],[0.8888888888888888,\"#fdca26\"],[1.0,\"#f0f921\"]],\"sequentialminus\":[[0.0,\"#0d0887\"],[0.1111111111111111,\"#46039f\"],[0.2222222222222222,\"#7201a8\"],[0.3333333333333333,\"#9c179e\"],[0.4444444444444444,\"#bd3786\"],[0.5555555555555556,\"#d8576b\"],[0.6666666666666666,\"#ed7953\"],[0.7777777777777778,\"#fb9f3a\"],[0.8888888888888888,\"#fdca26\"],[1.0,\"#f0f921\"]],\"diverging\":[[0,\"#8e0152\"],[0.1,\"#c51b7d\"],[0.2,\"#de77ae\"],[0.3,\"#f1b6da\"],[0.4,\"#fde0ef\"],[0.5,\"#f7f7f7\"],[0.6,\"#e6f5d0\"],[0.7,\"#b8e186\"],[0.8,\"#7fbc41\"],[0.9,\"#4d9221\"],[1,\"#276419\"]]},\"xaxis\":{\"gridcolor\":\"white\",\"linecolor\":\"white\",\"ticks\":\"\",\"title\":{\"standoff\":15},\"zerolinecolor\":\"white\",\"automargin\":true,\"zerolinewidth\":2},\"yaxis\":{\"gridcolor\":\"white\",\"linecolor\":\"white\",\"ticks\":\"\",\"title\":{\"standoff\":15},\"zerolinecolor\":\"white\",\"automargin\":true,\"zerolinewidth\":2},\"scene\":{\"xaxis\":{\"backgroundcolor\":\"#E5ECF6\",\"gridcolor\":\"white\",\"linecolor\":\"white\",\"showbackground\":true,\"ticks\":\"\",\"zerolinecolor\":\"white\",\"gridwidth\":2},\"yaxis\":{\"backgroundcolor\":\"#E5ECF6\",\"gridcolor\":\"white\",\"linecolor\":\"white\",\"showbackground\":true,\"ticks\":\"\",\"zerolinecolor\":\"white\",\"gridwidth\":2},\"zaxis\":{\"backgroundcolor\":\"#E5ECF6\",\"gridcolor\":\"white\",\"linecolor\":\"white\",\"showbackground\":true,\"ticks\":\"\",\"zerolinecolor\":\"white\",\"gridwidth\":2}},\"shapedefaults\":{\"line\":{\"color\":\"#2a3f5f\"}},\"annotationdefaults\":{\"arrowcolor\":\"#2a3f5f\",\"arrowhead\":0,\"arrowwidth\":1},\"geo\":{\"bgcolor\":\"white\",\"landcolor\":\"#E5ECF6\",\"subunitcolor\":\"white\",\"showland\":true,\"showlakes\":true,\"lakecolor\":\"white\"},\"title\":{\"x\":0.05},\"mapbox\":{\"style\":\"light\"}}},\"title\":{\"text\":\"Distribui\\u00e7\\u00e3o de Setores\",\"y\":0.9,\"x\":0.5,\"xanchor\":\"center\",\"yanchor\":\"top\"}},                        {\"responsive\": true}                    ).then(function(){\n",
              "                            \n",
              "var gd = document.getElementById('62e7063a-bc88-4c96-a6d9-aec43ef11972');\n",
              "var x = new MutationObserver(function (mutations, observer) {{\n",
              "        var display = window.getComputedStyle(gd).display;\n",
              "        if (!display || display === 'none') {{\n",
              "            console.log([gd, 'removed!']);\n",
              "            Plotly.purge(gd);\n",
              "            observer.disconnect();\n",
              "        }}\n",
              "}});\n",
              "\n",
              "// Listen for the removal of the full notebook cells\n",
              "var notebookContainer = gd.closest('#notebook-container');\n",
              "if (notebookContainer) {{\n",
              "    x.observe(notebookContainer, {childList: true});\n",
              "}}\n",
              "\n",
              "// Listen for the clearing of the current output cell\n",
              "var outputEl = gd.closest('.output');\n",
              "if (outputEl) {{\n",
              "    x.observe(outputEl, {childList: true});\n",
              "}}\n",
              "\n",
              "                        })                };                            </script>        </div>\n",
              "</body>\n",
              "</html>"
            ]
          },
          "metadata": {}
        }
      ]
    },
    {
      "cell_type": "markdown",
      "source": [
        "### Análise Multivariada"
      ],
      "metadata": {
        "id": "oqHVFXOxogmT"
      }
    },
    {
      "cell_type": "code",
      "source": [
        "incident_race = df.groupby(\"Incident_Type\",as_index=False)[\"Subject_Race\"].value_counts()\n",
        "incident_race.head()"
      ],
      "metadata": {
        "colab": {
          "base_uri": "https://localhost:8080/",
          "height": 206
        },
        "id": "kHWa5ACykwww",
        "outputId": "ca26cad3-1a05-4cfd-e9b2-dac09cf9e933"
      },
      "execution_count": 22,
      "outputs": [
        {
          "output_type": "execute_result",
          "data": {
            "text/plain": [
              "            Incident_Type               Subject_Race  count\n",
              "0  Level 1 - Use of Force                      White   4058\n",
              "1  Level 1 - Use of Force  Black or African American   3588\n",
              "2  Level 1 - Use of Force              Not Specified   1355\n",
              "3  Level 1 - Use of Force         Hispanic or Latino    514\n",
              "4  Level 1 - Use of Force                      Asian    375"
            ],
            "text/html": [
              "\n",
              "  <div id=\"df-77c1dd0f-97f2-4938-890a-ccbd3e53464d\">\n",
              "    <div class=\"colab-df-container\">\n",
              "      <div>\n",
              "<style scoped>\n",
              "    .dataframe tbody tr th:only-of-type {\n",
              "        vertical-align: middle;\n",
              "    }\n",
              "\n",
              "    .dataframe tbody tr th {\n",
              "        vertical-align: top;\n",
              "    }\n",
              "\n",
              "    .dataframe thead th {\n",
              "        text-align: right;\n",
              "    }\n",
              "</style>\n",
              "<table border=\"1\" class=\"dataframe\">\n",
              "  <thead>\n",
              "    <tr style=\"text-align: right;\">\n",
              "      <th></th>\n",
              "      <th>Incident_Type</th>\n",
              "      <th>Subject_Race</th>\n",
              "      <th>count</th>\n",
              "    </tr>\n",
              "  </thead>\n",
              "  <tbody>\n",
              "    <tr>\n",
              "      <th>0</th>\n",
              "      <td>Level 1 - Use of Force</td>\n",
              "      <td>White</td>\n",
              "      <td>4058</td>\n",
              "    </tr>\n",
              "    <tr>\n",
              "      <th>1</th>\n",
              "      <td>Level 1 - Use of Force</td>\n",
              "      <td>Black or African American</td>\n",
              "      <td>3588</td>\n",
              "    </tr>\n",
              "    <tr>\n",
              "      <th>2</th>\n",
              "      <td>Level 1 - Use of Force</td>\n",
              "      <td>Not Specified</td>\n",
              "      <td>1355</td>\n",
              "    </tr>\n",
              "    <tr>\n",
              "      <th>3</th>\n",
              "      <td>Level 1 - Use of Force</td>\n",
              "      <td>Hispanic or Latino</td>\n",
              "      <td>514</td>\n",
              "    </tr>\n",
              "    <tr>\n",
              "      <th>4</th>\n",
              "      <td>Level 1 - Use of Force</td>\n",
              "      <td>Asian</td>\n",
              "      <td>375</td>\n",
              "    </tr>\n",
              "  </tbody>\n",
              "</table>\n",
              "</div>\n",
              "      <button class=\"colab-df-convert\" onclick=\"convertToInteractive('df-77c1dd0f-97f2-4938-890a-ccbd3e53464d')\"\n",
              "              title=\"Convert this dataframe to an interactive table.\"\n",
              "              style=\"display:none;\">\n",
              "        \n",
              "  <svg xmlns=\"http://www.w3.org/2000/svg\" height=\"24px\"viewBox=\"0 0 24 24\"\n",
              "       width=\"24px\">\n",
              "    <path d=\"M0 0h24v24H0V0z\" fill=\"none\"/>\n",
              "    <path d=\"M18.56 5.44l.94 2.06.94-2.06 2.06-.94-2.06-.94-.94-2.06-.94 2.06-2.06.94zm-11 1L8.5 8.5l.94-2.06 2.06-.94-2.06-.94L8.5 2.5l-.94 2.06-2.06.94zm10 10l.94 2.06.94-2.06 2.06-.94-2.06-.94-.94-2.06-.94 2.06-2.06.94z\"/><path d=\"M17.41 7.96l-1.37-1.37c-.4-.4-.92-.59-1.43-.59-.52 0-1.04.2-1.43.59L10.3 9.45l-7.72 7.72c-.78.78-.78 2.05 0 2.83L4 21.41c.39.39.9.59 1.41.59.51 0 1.02-.2 1.41-.59l7.78-7.78 2.81-2.81c.8-.78.8-2.07 0-2.86zM5.41 20L4 18.59l7.72-7.72 1.47 1.35L5.41 20z\"/>\n",
              "  </svg>\n",
              "      </button>\n",
              "      \n",
              "  <style>\n",
              "    .colab-df-container {\n",
              "      display:flex;\n",
              "      flex-wrap:wrap;\n",
              "      gap: 12px;\n",
              "    }\n",
              "\n",
              "    .colab-df-convert {\n",
              "      background-color: #E8F0FE;\n",
              "      border: none;\n",
              "      border-radius: 50%;\n",
              "      cursor: pointer;\n",
              "      display: none;\n",
              "      fill: #1967D2;\n",
              "      height: 32px;\n",
              "      padding: 0 0 0 0;\n",
              "      width: 32px;\n",
              "    }\n",
              "\n",
              "    .colab-df-convert:hover {\n",
              "      background-color: #E2EBFA;\n",
              "      box-shadow: 0px 1px 2px rgba(60, 64, 67, 0.3), 0px 1px 3px 1px rgba(60, 64, 67, 0.15);\n",
              "      fill: #174EA6;\n",
              "    }\n",
              "\n",
              "    [theme=dark] .colab-df-convert {\n",
              "      background-color: #3B4455;\n",
              "      fill: #D2E3FC;\n",
              "    }\n",
              "\n",
              "    [theme=dark] .colab-df-convert:hover {\n",
              "      background-color: #434B5C;\n",
              "      box-shadow: 0px 1px 3px 1px rgba(0, 0, 0, 0.15);\n",
              "      filter: drop-shadow(0px 1px 2px rgba(0, 0, 0, 0.3));\n",
              "      fill: #FFFFFF;\n",
              "    }\n",
              "  </style>\n",
              "\n",
              "      <script>\n",
              "        const buttonEl =\n",
              "          document.querySelector('#df-77c1dd0f-97f2-4938-890a-ccbd3e53464d button.colab-df-convert');\n",
              "        buttonEl.style.display =\n",
              "          google.colab.kernel.accessAllowed ? 'block' : 'none';\n",
              "\n",
              "        async function convertToInteractive(key) {\n",
              "          const element = document.querySelector('#df-77c1dd0f-97f2-4938-890a-ccbd3e53464d');\n",
              "          const dataTable =\n",
              "            await google.colab.kernel.invokeFunction('convertToInteractive',\n",
              "                                                     [key], {});\n",
              "          if (!dataTable) return;\n",
              "\n",
              "          const docLinkHtml = 'Like what you see? Visit the ' +\n",
              "            '<a target=\"_blank\" href=https://colab.research.google.com/notebooks/data_table.ipynb>data table notebook</a>'\n",
              "            + ' to learn more about interactive tables.';\n",
              "          element.innerHTML = '';\n",
              "          dataTable['output_type'] = 'display_data';\n",
              "          await google.colab.output.renderOutput(dataTable, element);\n",
              "          const docLink = document.createElement('div');\n",
              "          docLink.innerHTML = docLinkHtml;\n",
              "          element.appendChild(docLink);\n",
              "        }\n",
              "      </script>\n",
              "    </div>\n",
              "  </div>\n",
              "  "
            ]
          },
          "metadata": {},
          "execution_count": 22
        }
      ]
    },
    {
      "cell_type": "code",
      "source": [
        "plot_bar(incident_race,\"Subject_Race\",\"count\",\"Incident_Type\",\"Contagem da força policial por Raça\")\n"
      ],
      "metadata": {
        "id": "QCxE8JjBkwtt",
        "colab": {
          "base_uri": "https://localhost:8080/",
          "height": 542
        },
        "outputId": "e847f81d-5242-43c8-9a8d-a1bda6457404"
      },
      "execution_count": 28,
      "outputs": [
        {
          "output_type": "display_data",
          "data": {
            "text/html": [
              "<html>\n",
              "<head><meta charset=\"utf-8\" /></head>\n",
              "<body>\n",
              "    <div>            <script src=\"https://cdnjs.cloudflare.com/ajax/libs/mathjax/2.7.5/MathJax.js?config=TeX-AMS-MML_SVG\"></script><script type=\"text/javascript\">if (window.MathJax && window.MathJax.Hub && window.MathJax.Hub.Config) {window.MathJax.Hub.Config({SVG: {font: \"STIX-Web\"}});}</script>                <script type=\"text/javascript\">window.PlotlyConfig = {MathJaxConfig: 'local'};</script>\n",
              "        <script src=\"https://cdn.plot.ly/plotly-2.18.2.min.js\"></script>                <div id=\"ea1973eb-1fc8-4d4a-a722-4297970418f7\" class=\"plotly-graph-div\" style=\"height:525px; width:100%;\"></div>            <script type=\"text/javascript\">                                    window.PLOTLYENV=window.PLOTLYENV || {};                                    if (document.getElementById(\"ea1973eb-1fc8-4d4a-a722-4297970418f7\")) {                    Plotly.newPlot(                        \"ea1973eb-1fc8-4d4a-a722-4297970418f7\",                        [{\"alignmentgroup\":\"True\",\"hovertemplate\":\"Incident_Type=Level 1 - Use of Force<br>Subject_Race=%{x}<br>count=%{y}<extra></extra>\",\"legendgroup\":\"Level 1 - Use of Force\",\"marker\":{\"color\":\"#636efa\",\"pattern\":{\"shape\":\"\"}},\"name\":\"Level 1 - Use of Force\",\"offsetgroup\":\"Level 1 - Use of Force\",\"orientation\":\"v\",\"showlegend\":true,\"textposition\":\"auto\",\"x\":[\"White\",\"Black or African American\",\"Not Specified\",\"Hispanic or Latino\",\"Asian\",\"American Indian/Alaska Native\",\"Nat Hawaiian/Oth Pac Islander\",\"Two or More Races\"],\"xaxis\":\"x\",\"y\":[4058,3588,1355,514,375,159,88,36],\"yaxis\":\"y\",\"type\":\"bar\"},{\"alignmentgroup\":\"True\",\"hovertemplate\":\"Incident_Type=Level 2 - Use of Force<br>Subject_Race=%{x}<br>count=%{y}<extra></extra>\",\"legendgroup\":\"Level 2 - Use of Force\",\"marker\":{\"color\":\"#EF553B\",\"pattern\":{\"shape\":\"\"}},\"name\":\"Level 2 - Use of Force\",\"offsetgroup\":\"Level 2 - Use of Force\",\"orientation\":\"v\",\"showlegend\":true,\"textposition\":\"auto\",\"x\":[\"White\",\"Black or African American\",\"Not Specified\",\"Hispanic or Latino\",\"Asian\",\"American Indian/Alaska Native\",\"Nat Hawaiian/Oth Pac Islander\",\"Two or More Races\"],\"xaxis\":\"x\",\"y\":[1579,1062,900,127,104,48,33,3],\"yaxis\":\"y\",\"type\":\"bar\"},{\"alignmentgroup\":\"True\",\"hovertemplate\":\"Incident_Type=Level 3 - OIS<br>Subject_Race=%{x}<br>count=%{y}<extra></extra>\",\"legendgroup\":\"Level 3 - OIS\",\"marker\":{\"color\":\"#00cc96\",\"pattern\":{\"shape\":\"\"}},\"name\":\"Level 3 - OIS\",\"offsetgroup\":\"Level 3 - OIS\",\"orientation\":\"v\",\"showlegend\":true,\"textposition\":\"auto\",\"x\":[\"White\",\"Black or African American\",\"Not Specified\",\"Asian\",\"Two or More Races\",\"Hispanic or Latino\",\"Nat Hawaiian/Oth Pac Islander\"],\"xaxis\":\"x\",\"y\":[45,40,10,7,2,2,1],\"yaxis\":\"y\",\"type\":\"bar\"},{\"alignmentgroup\":\"True\",\"hovertemplate\":\"Incident_Type=Level 3 - Use of Force<br>Subject_Race=%{x}<br>count=%{y}<extra></extra>\",\"legendgroup\":\"Level 3 - Use of Force\",\"marker\":{\"color\":\"#ab63fa\",\"pattern\":{\"shape\":\"\"}},\"name\":\"Level 3 - Use of Force\",\"offsetgroup\":\"Level 3 - Use of Force\",\"orientation\":\"v\",\"showlegend\":true,\"textposition\":\"auto\",\"x\":[\"White\",\"Black or African American\",\"Not Specified\",\"Asian\",\"American Indian/Alaska Native\",\"Hispanic or Latino\",\"Nat Hawaiian/Oth Pac Islander\"],\"xaxis\":\"x\",\"y\":[51,42,18,6,5,4,2],\"yaxis\":\"y\",\"type\":\"bar\"}],                        {\"template\":{\"data\":{\"histogram2dcontour\":[{\"type\":\"histogram2dcontour\",\"colorbar\":{\"outlinewidth\":0,\"ticks\":\"\"},\"colorscale\":[[0.0,\"#0d0887\"],[0.1111111111111111,\"#46039f\"],[0.2222222222222222,\"#7201a8\"],[0.3333333333333333,\"#9c179e\"],[0.4444444444444444,\"#bd3786\"],[0.5555555555555556,\"#d8576b\"],[0.6666666666666666,\"#ed7953\"],[0.7777777777777778,\"#fb9f3a\"],[0.8888888888888888,\"#fdca26\"],[1.0,\"#f0f921\"]]}],\"choropleth\":[{\"type\":\"choropleth\",\"colorbar\":{\"outlinewidth\":0,\"ticks\":\"\"}}],\"histogram2d\":[{\"type\":\"histogram2d\",\"colorbar\":{\"outlinewidth\":0,\"ticks\":\"\"},\"colorscale\":[[0.0,\"#0d0887\"],[0.1111111111111111,\"#46039f\"],[0.2222222222222222,\"#7201a8\"],[0.3333333333333333,\"#9c179e\"],[0.4444444444444444,\"#bd3786\"],[0.5555555555555556,\"#d8576b\"],[0.6666666666666666,\"#ed7953\"],[0.7777777777777778,\"#fb9f3a\"],[0.8888888888888888,\"#fdca26\"],[1.0,\"#f0f921\"]]}],\"heatmap\":[{\"type\":\"heatmap\",\"colorbar\":{\"outlinewidth\":0,\"ticks\":\"\"},\"colorscale\":[[0.0,\"#0d0887\"],[0.1111111111111111,\"#46039f\"],[0.2222222222222222,\"#7201a8\"],[0.3333333333333333,\"#9c179e\"],[0.4444444444444444,\"#bd3786\"],[0.5555555555555556,\"#d8576b\"],[0.6666666666666666,\"#ed7953\"],[0.7777777777777778,\"#fb9f3a\"],[0.8888888888888888,\"#fdca26\"],[1.0,\"#f0f921\"]]}],\"heatmapgl\":[{\"type\":\"heatmapgl\",\"colorbar\":{\"outlinewidth\":0,\"ticks\":\"\"},\"colorscale\":[[0.0,\"#0d0887\"],[0.1111111111111111,\"#46039f\"],[0.2222222222222222,\"#7201a8\"],[0.3333333333333333,\"#9c179e\"],[0.4444444444444444,\"#bd3786\"],[0.5555555555555556,\"#d8576b\"],[0.6666666666666666,\"#ed7953\"],[0.7777777777777778,\"#fb9f3a\"],[0.8888888888888888,\"#fdca26\"],[1.0,\"#f0f921\"]]}],\"contourcarpet\":[{\"type\":\"contourcarpet\",\"colorbar\":{\"outlinewidth\":0,\"ticks\":\"\"}}],\"contour\":[{\"type\":\"contour\",\"colorbar\":{\"outlinewidth\":0,\"ticks\":\"\"},\"colorscale\":[[0.0,\"#0d0887\"],[0.1111111111111111,\"#46039f\"],[0.2222222222222222,\"#7201a8\"],[0.3333333333333333,\"#9c179e\"],[0.4444444444444444,\"#bd3786\"],[0.5555555555555556,\"#d8576b\"],[0.6666666666666666,\"#ed7953\"],[0.7777777777777778,\"#fb9f3a\"],[0.8888888888888888,\"#fdca26\"],[1.0,\"#f0f921\"]]}],\"surface\":[{\"type\":\"surface\",\"colorbar\":{\"outlinewidth\":0,\"ticks\":\"\"},\"colorscale\":[[0.0,\"#0d0887\"],[0.1111111111111111,\"#46039f\"],[0.2222222222222222,\"#7201a8\"],[0.3333333333333333,\"#9c179e\"],[0.4444444444444444,\"#bd3786\"],[0.5555555555555556,\"#d8576b\"],[0.6666666666666666,\"#ed7953\"],[0.7777777777777778,\"#fb9f3a\"],[0.8888888888888888,\"#fdca26\"],[1.0,\"#f0f921\"]]}],\"mesh3d\":[{\"type\":\"mesh3d\",\"colorbar\":{\"outlinewidth\":0,\"ticks\":\"\"}}],\"scatter\":[{\"fillpattern\":{\"fillmode\":\"overlay\",\"size\":10,\"solidity\":0.2},\"type\":\"scatter\"}],\"parcoords\":[{\"type\":\"parcoords\",\"line\":{\"colorbar\":{\"outlinewidth\":0,\"ticks\":\"\"}}}],\"scatterpolargl\":[{\"type\":\"scatterpolargl\",\"marker\":{\"colorbar\":{\"outlinewidth\":0,\"ticks\":\"\"}}}],\"bar\":[{\"error_x\":{\"color\":\"#2a3f5f\"},\"error_y\":{\"color\":\"#2a3f5f\"},\"marker\":{\"line\":{\"color\":\"#E5ECF6\",\"width\":0.5},\"pattern\":{\"fillmode\":\"overlay\",\"size\":10,\"solidity\":0.2}},\"type\":\"bar\"}],\"scattergeo\":[{\"type\":\"scattergeo\",\"marker\":{\"colorbar\":{\"outlinewidth\":0,\"ticks\":\"\"}}}],\"scatterpolar\":[{\"type\":\"scatterpolar\",\"marker\":{\"colorbar\":{\"outlinewidth\":0,\"ticks\":\"\"}}}],\"histogram\":[{\"marker\":{\"pattern\":{\"fillmode\":\"overlay\",\"size\":10,\"solidity\":0.2}},\"type\":\"histogram\"}],\"scattergl\":[{\"type\":\"scattergl\",\"marker\":{\"colorbar\":{\"outlinewidth\":0,\"ticks\":\"\"}}}],\"scatter3d\":[{\"type\":\"scatter3d\",\"line\":{\"colorbar\":{\"outlinewidth\":0,\"ticks\":\"\"}},\"marker\":{\"colorbar\":{\"outlinewidth\":0,\"ticks\":\"\"}}}],\"scattermapbox\":[{\"type\":\"scattermapbox\",\"marker\":{\"colorbar\":{\"outlinewidth\":0,\"ticks\":\"\"}}}],\"scatterternary\":[{\"type\":\"scatterternary\",\"marker\":{\"colorbar\":{\"outlinewidth\":0,\"ticks\":\"\"}}}],\"scattercarpet\":[{\"type\":\"scattercarpet\",\"marker\":{\"colorbar\":{\"outlinewidth\":0,\"ticks\":\"\"}}}],\"carpet\":[{\"aaxis\":{\"endlinecolor\":\"#2a3f5f\",\"gridcolor\":\"white\",\"linecolor\":\"white\",\"minorgridcolor\":\"white\",\"startlinecolor\":\"#2a3f5f\"},\"baxis\":{\"endlinecolor\":\"#2a3f5f\",\"gridcolor\":\"white\",\"linecolor\":\"white\",\"minorgridcolor\":\"white\",\"startlinecolor\":\"#2a3f5f\"},\"type\":\"carpet\"}],\"table\":[{\"cells\":{\"fill\":{\"color\":\"#EBF0F8\"},\"line\":{\"color\":\"white\"}},\"header\":{\"fill\":{\"color\":\"#C8D4E3\"},\"line\":{\"color\":\"white\"}},\"type\":\"table\"}],\"barpolar\":[{\"marker\":{\"line\":{\"color\":\"#E5ECF6\",\"width\":0.5},\"pattern\":{\"fillmode\":\"overlay\",\"size\":10,\"solidity\":0.2}},\"type\":\"barpolar\"}],\"pie\":[{\"automargin\":true,\"type\":\"pie\"}]},\"layout\":{\"autotypenumbers\":\"strict\",\"colorway\":[\"#636efa\",\"#EF553B\",\"#00cc96\",\"#ab63fa\",\"#FFA15A\",\"#19d3f3\",\"#FF6692\",\"#B6E880\",\"#FF97FF\",\"#FECB52\"],\"font\":{\"color\":\"#2a3f5f\"},\"hovermode\":\"closest\",\"hoverlabel\":{\"align\":\"left\"},\"paper_bgcolor\":\"white\",\"plot_bgcolor\":\"#E5ECF6\",\"polar\":{\"bgcolor\":\"#E5ECF6\",\"angularaxis\":{\"gridcolor\":\"white\",\"linecolor\":\"white\",\"ticks\":\"\"},\"radialaxis\":{\"gridcolor\":\"white\",\"linecolor\":\"white\",\"ticks\":\"\"}},\"ternary\":{\"bgcolor\":\"#E5ECF6\",\"aaxis\":{\"gridcolor\":\"white\",\"linecolor\":\"white\",\"ticks\":\"\"},\"baxis\":{\"gridcolor\":\"white\",\"linecolor\":\"white\",\"ticks\":\"\"},\"caxis\":{\"gridcolor\":\"white\",\"linecolor\":\"white\",\"ticks\":\"\"}},\"coloraxis\":{\"colorbar\":{\"outlinewidth\":0,\"ticks\":\"\"}},\"colorscale\":{\"sequential\":[[0.0,\"#0d0887\"],[0.1111111111111111,\"#46039f\"],[0.2222222222222222,\"#7201a8\"],[0.3333333333333333,\"#9c179e\"],[0.4444444444444444,\"#bd3786\"],[0.5555555555555556,\"#d8576b\"],[0.6666666666666666,\"#ed7953\"],[0.7777777777777778,\"#fb9f3a\"],[0.8888888888888888,\"#fdca26\"],[1.0,\"#f0f921\"]],\"sequentialminus\":[[0.0,\"#0d0887\"],[0.1111111111111111,\"#46039f\"],[0.2222222222222222,\"#7201a8\"],[0.3333333333333333,\"#9c179e\"],[0.4444444444444444,\"#bd3786\"],[0.5555555555555556,\"#d8576b\"],[0.6666666666666666,\"#ed7953\"],[0.7777777777777778,\"#fb9f3a\"],[0.8888888888888888,\"#fdca26\"],[1.0,\"#f0f921\"]],\"diverging\":[[0,\"#8e0152\"],[0.1,\"#c51b7d\"],[0.2,\"#de77ae\"],[0.3,\"#f1b6da\"],[0.4,\"#fde0ef\"],[0.5,\"#f7f7f7\"],[0.6,\"#e6f5d0\"],[0.7,\"#b8e186\"],[0.8,\"#7fbc41\"],[0.9,\"#4d9221\"],[1,\"#276419\"]]},\"xaxis\":{\"gridcolor\":\"white\",\"linecolor\":\"white\",\"ticks\":\"\",\"title\":{\"standoff\":15},\"zerolinecolor\":\"white\",\"automargin\":true,\"zerolinewidth\":2},\"yaxis\":{\"gridcolor\":\"white\",\"linecolor\":\"white\",\"ticks\":\"\",\"title\":{\"standoff\":15},\"zerolinecolor\":\"white\",\"automargin\":true,\"zerolinewidth\":2},\"scene\":{\"xaxis\":{\"backgroundcolor\":\"#E5ECF6\",\"gridcolor\":\"white\",\"linecolor\":\"white\",\"showbackground\":true,\"ticks\":\"\",\"zerolinecolor\":\"white\",\"gridwidth\":2},\"yaxis\":{\"backgroundcolor\":\"#E5ECF6\",\"gridcolor\":\"white\",\"linecolor\":\"white\",\"showbackground\":true,\"ticks\":\"\",\"zerolinecolor\":\"white\",\"gridwidth\":2},\"zaxis\":{\"backgroundcolor\":\"#E5ECF6\",\"gridcolor\":\"white\",\"linecolor\":\"white\",\"showbackground\":true,\"ticks\":\"\",\"zerolinecolor\":\"white\",\"gridwidth\":2}},\"shapedefaults\":{\"line\":{\"color\":\"#2a3f5f\"}},\"annotationdefaults\":{\"arrowcolor\":\"#2a3f5f\",\"arrowhead\":0,\"arrowwidth\":1},\"geo\":{\"bgcolor\":\"white\",\"landcolor\":\"#E5ECF6\",\"subunitcolor\":\"white\",\"showland\":true,\"showlakes\":true,\"lakecolor\":\"white\"},\"title\":{\"x\":0.05},\"mapbox\":{\"style\":\"light\"}}},\"xaxis\":{\"anchor\":\"y\",\"domain\":[0.0,1.0],\"title\":{\"text\":\"Subject_Race\"}},\"yaxis\":{\"anchor\":\"x\",\"domain\":[0.0,1.0],\"title\":{\"text\":\"count\"}},\"legend\":{\"title\":{\"text\":\"Incident_Type\"},\"tracegroupgap\":0},\"margin\":{\"t\":60},\"barmode\":\"relative\",\"title\":{\"text\":\"Contagem da for\\u00e7a policial por Ra\\u00e7a\",\"y\":0.99,\"x\":0.5,\"xanchor\":\"center\",\"yanchor\":\"top\"}},                        {\"responsive\": true}                    ).then(function(){\n",
              "                            \n",
              "var gd = document.getElementById('ea1973eb-1fc8-4d4a-a722-4297970418f7');\n",
              "var x = new MutationObserver(function (mutations, observer) {{\n",
              "        var display = window.getComputedStyle(gd).display;\n",
              "        if (!display || display === 'none') {{\n",
              "            console.log([gd, 'removed!']);\n",
              "            Plotly.purge(gd);\n",
              "            observer.disconnect();\n",
              "        }}\n",
              "}});\n",
              "\n",
              "// Listen for the removal of the full notebook cells\n",
              "var notebookContainer = gd.closest('#notebook-container');\n",
              "if (notebookContainer) {{\n",
              "    x.observe(notebookContainer, {childList: true});\n",
              "}}\n",
              "\n",
              "// Listen for the clearing of the current output cell\n",
              "var outputEl = gd.closest('.output');\n",
              "if (outputEl) {{\n",
              "    x.observe(outputEl, {childList: true});\n",
              "}}\n",
              "\n",
              "                        })                };                            </script>        </div>\n",
              "</body>\n",
              "</html>"
            ]
          },
          "metadata": {}
        }
      ]
    },
    {
      "cell_type": "markdown",
      "source": [
        "Gráfico deixa claro  que o LvL 1 é a força principal usada em todas as categorias de raça existentes no dataframe"
      ],
      "metadata": {
        "id": "IlF7gjT32WuS"
      }
    },
    {
      "cell_type": "code",
      "source": [
        "incident_hour = df.groupby(df['hours'])['Incident_Num'].count()\n",
        "incident_hour"
      ],
      "metadata": {
        "id": "bvTdviTAkwq5",
        "colab": {
          "base_uri": "https://localhost:8080/"
        },
        "outputId": "ff164795-5c2d-4d73-947f-a6308742dd76"
      },
      "execution_count": 43,
      "outputs": [
        {
          "output_type": "execute_result",
          "data": {
            "text/plain": [
              "hours\n",
              "0      792\n",
              "1      685\n",
              "2      562\n",
              "3      319\n",
              "4      314\n",
              "5      268\n",
              "6      245\n",
              "7      226\n",
              "8      233\n",
              "9      241\n",
              "10     333\n",
              "11     375\n",
              "12     591\n",
              "13     741\n",
              "14     777\n",
              "15     822\n",
              "16     902\n",
              "17     750\n",
              "18     684\n",
              "19     690\n",
              "20    1056\n",
              "21     920\n",
              "22     913\n",
              "23     825\n",
              "Name: Incident_Num, dtype: int64"
            ]
          },
          "metadata": {},
          "execution_count": 43
        }
      ]
    },
    {
      "cell_type": "code",
      "source": [
        "plot_line_TS(incident_hour,\"Contatem de casos por hora\",\"Hora\",\"Contagem de casos\")"
      ],
      "metadata": {
        "id": "-h9kYFCkfMsF",
        "colab": {
          "base_uri": "https://localhost:8080/",
          "height": 878
        },
        "outputId": "f17633b7-272c-4865-b954-b518c3f72a98"
      },
      "execution_count": 45,
      "outputs": [
        {
          "output_type": "display_data",
          "data": {
            "text/plain": [
              "<Figure size 1600x1000 with 1 Axes>"
            ],
            "image/png": "[encoded data removed]"
          },
          "metadata": {}
        }
      ]
    },
    {
      "cell_type": "code",
      "source": [
        "incident_ano = df.groupby(df['ano'])['Incident_Num'].count()\n",
        "incident_ano"
      ],
      "metadata": {
        "colab": {
          "base_uri": "https://localhost:8080/"
        },
        "id": "UgMf-eLlwbyX",
        "outputId": "2bbfa667-5d85-4b1f-92e6-bb30a6c93c10"
      },
      "execution_count": 193,
      "outputs": [
        {
          "output_type": "execute_result",
          "data": {
            "text/plain": [
              "ano\n",
              "2014    1671\n",
              "2015    1993\n",
              "2016    1527\n",
              "2017    1582\n",
              "2018    2182\n",
              "2019    1318\n",
              "2020    1977\n",
              "2021     981\n",
              "2022      82\n",
              "Name: Incident_Num, dtype: int64"
            ]
          },
          "metadata": {},
          "execution_count": 193
        }
      ]
    },
    {
      "cell_type": "code",
      "source": [
        "plot_line_TS(incident_ano,\"Contatem de casos por ano\",\"Ano\",\"Contagem de casos\")"
      ],
      "metadata": {
        "colab": {
          "base_uri": "https://localhost:8080/",
          "height": 878
        },
        "id": "1yCPaFb2wcWx",
        "outputId": "86a705bb-be61-48b6-cfc5-d4ddb7a77d5a"
      },
      "execution_count": 194,
      "outputs": [
        {
          "output_type": "display_data",
          "data": {
            "text/plain": [
              "<Figure size 1600x1000 with 1 Axes>"
            ],
            "image/png": "[encoded data removed]"
          },
          "metadata": {}
        }
      ]
    },
    {
      "cell_type": "markdown",
      "source": [
        "Entre 5 e 10 horas é o horário em que é registrado o menor número de casos, enquanto a partir das 20 horas ocorre um aumento no número de casos. Já em relação aos anos, nota-se que o ano de 2018 apresentou o maior número de casos, enquanto nos anos de 2020 a 2022, houve uma redução nos registros de casos."
      ],
      "metadata": {
        "id": "E5VaEKzu-LMS"
      }
    },
    {
      "cell_type": "code",
      "source": [
        "df.Beat = df.Beat.map(mapa_beat)"
      ],
      "metadata": {
        "id": "kPQLk-m26_MR"
      },
      "execution_count": 50,
      "outputs": []
    },
    {
      "cell_type": "code",
      "source": [
        "df.Beat.unique()"
      ],
      "metadata": {
        "colab": {
          "base_uri": "https://localhost:8080/"
        },
        "id": "9nKzoKEI7T43",
        "outputId": "bc7547c9-57ae-4407-86c9-1b88807e0706"
      },
      "execution_count": 58,
      "outputs": [
        {
          "output_type": "execute_result",
          "data": {
            "text/plain": [
              "array(['C', 'G', 'K', 'E', 'R', 'S', 'L', 'U', 'D', 'F', 'J', 'N', nan,\n",
              "       'B', 'O', 'Q', 'W', 'M'], dtype=object)"
            ]
          },
          "metadata": {},
          "execution_count": 58
        }
      ]
    },
    {
      "cell_type": "code",
      "source": [
        "df.Beat.fillna('Other',inplace=True)"
      ],
      "metadata": {
        "id": "4ORRcIWY7bIz"
      },
      "execution_count": 59,
      "outputs": []
    },
    {
      "cell_type": "code",
      "source": [
        "incident_Beat = df.groupby(df['Beat'],as_index=False)['Incident_Num'].count()\n",
        "incident_Beat"
      ],
      "metadata": {
        "colab": {
          "base_uri": "https://localhost:8080/",
          "height": 582
        },
        "id": "MBWSUpyO6Yom",
        "outputId": "9f520ecb-6ee0-49d4-db85-5ea346ef5bc2"
      },
      "execution_count": 61,
      "outputs": [
        {
          "output_type": "execute_result",
          "data": {
            "text/plain": [
              "   Beat  Incident_Num\n",
              "0     B           525\n",
              "1     C           425\n",
              "2     D          1049\n",
              "3     E          2689\n",
              "4     F           471\n",
              "5     G           688\n",
              "6     J           441\n",
              "7     K          1505\n",
              "8     L           644\n",
              "9     M           998\n",
              "10    N           913\n",
              "11    O           551\n",
              "12    Q           509\n",
              "13    R           877\n",
              "14    S           947\n",
              "15    U           690\n",
              "16    W           342"
            ],
            "text/html": [
              "\n",
              "  <div id=\"df-cd8f6d80-abb2-4ad4-b89b-2db8912c9fd4\">\n",
              "    <div class=\"colab-df-container\">\n",
              "      <div>\n",
              "<style scoped>\n",
              "    .dataframe tbody tr th:only-of-type {\n",
              "        vertical-align: middle;\n",
              "    }\n",
              "\n",
              "    .dataframe tbody tr th {\n",
              "        vertical-align: top;\n",
              "    }\n",
              "\n",
              "    .dataframe thead th {\n",
              "        text-align: right;\n",
              "    }\n",
              "</style>\n",
              "<table border=\"1\" class=\"dataframe\">\n",
              "  <thead>\n",
              "    <tr style=\"text-align: right;\">\n",
              "      <th></th>\n",
              "      <th>Beat</th>\n",
              "      <th>Incident_Num</th>\n",
              "    </tr>\n",
              "  </thead>\n",
              "  <tbody>\n",
              "    <tr>\n",
              "      <th>0</th>\n",
              "      <td>B</td>\n",
              "      <td>525</td>\n",
              "    </tr>\n",
              "    <tr>\n",
              "      <th>1</th>\n",
              "      <td>C</td>\n",
              "      <td>425</td>\n",
              "    </tr>\n",
              "    <tr>\n",
              "      <th>2</th>\n",
              "      <td>D</td>\n",
              "      <td>1049</td>\n",
              "    </tr>\n",
              "    <tr>\n",
              "      <th>3</th>\n",
              "      <td>E</td>\n",
              "      <td>2689</td>\n",
              "    </tr>\n",
              "    <tr>\n",
              "      <th>4</th>\n",
              "      <td>F</td>\n",
              "      <td>471</td>\n",
              "    </tr>\n",
              "    <tr>\n",
              "      <th>5</th>\n",
              "      <td>G</td>\n",
              "      <td>688</td>\n",
              "    </tr>\n",
              "    <tr>\n",
              "      <th>6</th>\n",
              "      <td>J</td>\n",
              "      <td>441</td>\n",
              "    </tr>\n",
              "    <tr>\n",
              "      <th>7</th>\n",
              "      <td>K</td>\n",
              "      <td>1505</td>\n",
              "    </tr>\n",
              "    <tr>\n",
              "      <th>8</th>\n",
              "      <td>L</td>\n",
              "      <td>644</td>\n",
              "    </tr>\n",
              "    <tr>\n",
              "      <th>9</th>\n",
              "      <td>M</td>\n",
              "      <td>998</td>\n",
              "    </tr>\n",
              "    <tr>\n",
              "      <th>10</th>\n",
              "      <td>N</td>\n",
              "      <td>913</td>\n",
              "    </tr>\n",
              "    <tr>\n",
              "      <th>11</th>\n",
              "      <td>O</td>\n",
              "      <td>551</td>\n",
              "    </tr>\n",
              "    <tr>\n",
              "      <th>12</th>\n",
              "      <td>Q</td>\n",
              "      <td>509</td>\n",
              "    </tr>\n",
              "    <tr>\n",
              "      <th>13</th>\n",
              "      <td>R</td>\n",
              "      <td>877</td>\n",
              "    </tr>\n",
              "    <tr>\n",
              "      <th>14</th>\n",
              "      <td>S</td>\n",
              "      <td>947</td>\n",
              "    </tr>\n",
              "    <tr>\n",
              "      <th>15</th>\n",
              "      <td>U</td>\n",
              "      <td>690</td>\n",
              "    </tr>\n",
              "    <tr>\n",
              "      <th>16</th>\n",
              "      <td>W</td>\n",
              "      <td>342</td>\n",
              "    </tr>\n",
              "  </tbody>\n",
              "</table>\n",
              "</div>\n",
              "      <button class=\"colab-df-convert\" onclick=\"convertToInteractive('df-cd8f6d80-abb2-4ad4-b89b-2db8912c9fd4')\"\n",
              "              title=\"Convert this dataframe to an interactive table.\"\n",
              "              style=\"display:none;\">\n",
              "        \n",
              "  <svg xmlns=\"http://www.w3.org/2000/svg\" height=\"24px\"viewBox=\"0 0 24 24\"\n",
              "       width=\"24px\">\n",
              "    <path d=\"M0 0h24v24H0V0z\" fill=\"none\"/>\n",
              "    <path d=\"M18.56 5.44l.94 2.06.94-2.06 2.06-.94-2.06-.94-.94-2.06-.94 2.06-2.06.94zm-11 1L8.5 8.5l.94-2.06 2.06-.94-2.06-.94L8.5 2.5l-.94 2.06-2.06.94zm10 10l.94 2.06.94-2.06 2.06-.94-2.06-.94-.94-2.06-.94 2.06-2.06.94z\"/><path d=\"M17.41 7.96l-1.37-1.37c-.4-.4-.92-.59-1.43-.59-.52 0-1.04.2-1.43.59L10.3 9.45l-7.72 7.72c-.78.78-.78 2.05 0 2.83L4 21.41c.39.39.9.59 1.41.59.51 0 1.02-.2 1.41-.59l7.78-7.78 2.81-2.81c.8-.78.8-2.07 0-2.86zM5.41 20L4 18.59l7.72-7.72 1.47 1.35L5.41 20z\"/>\n",
              "  </svg>\n",
              "      </button>\n",
              "      \n",
              "  <style>\n",
              "    .colab-df-container {\n",
              "      display:flex;\n",
              "      flex-wrap:wrap;\n",
              "      gap: 12px;\n",
              "    }\n",
              "\n",
              "    .colab-df-convert {\n",
              "      background-color: #E8F0FE;\n",
              "      border: none;\n",
              "      border-radius: 50%;\n",
              "      cursor: pointer;\n",
              "      display: none;\n",
              "      fill: #1967D2;\n",
              "      height: 32px;\n",
              "      padding: 0 0 0 0;\n",
              "      width: 32px;\n",
              "    }\n",
              "\n",
              "    .colab-df-convert:hover {\n",
              "      background-color: #E2EBFA;\n",
              "      box-shadow: 0px 1px 2px rgba(60, 64, 67, 0.3), 0px 1px 3px 1px rgba(60, 64, 67, 0.15);\n",
              "      fill: #174EA6;\n",
              "    }\n",
              "\n",
              "    [theme=dark] .colab-df-convert {\n",
              "      background-color: #3B4455;\n",
              "      fill: #D2E3FC;\n",
              "    }\n",
              "\n",
              "    [theme=dark] .colab-df-convert:hover {\n",
              "      background-color: #434B5C;\n",
              "      box-shadow: 0px 1px 3px 1px rgba(0, 0, 0, 0.15);\n",
              "      filter: drop-shadow(0px 1px 2px rgba(0, 0, 0, 0.3));\n",
              "      fill: #FFFFFF;\n",
              "    }\n",
              "  </style>\n",
              "\n",
              "      <script>\n",
              "        const buttonEl =\n",
              "          document.querySelector('#df-cd8f6d80-abb2-4ad4-b89b-2db8912c9fd4 button.colab-df-convert');\n",
              "        buttonEl.style.display =\n",
              "          google.colab.kernel.accessAllowed ? 'block' : 'none';\n",
              "\n",
              "        async function convertToInteractive(key) {\n",
              "          const element = document.querySelector('#df-cd8f6d80-abb2-4ad4-b89b-2db8912c9fd4');\n",
              "          const dataTable =\n",
              "            await google.colab.kernel.invokeFunction('convertToInteractive',\n",
              "                                                     [key], {});\n",
              "          if (!dataTable) return;\n",
              "\n",
              "          const docLinkHtml = 'Like what you see? Visit the ' +\n",
              "            '<a target=\"_blank\" href=https://colab.research.google.com/notebooks/data_table.ipynb>data table notebook</a>'\n",
              "            + ' to learn more about interactive tables.';\n",
              "          element.innerHTML = '';\n",
              "          dataTable['output_type'] = 'display_data';\n",
              "          await google.colab.output.renderOutput(dataTable, element);\n",
              "          const docLink = document.createElement('div');\n",
              "          docLink.innerHTML = docLinkHtml;\n",
              "          element.appendChild(docLink);\n",
              "        }\n",
              "      </script>\n",
              "    </div>\n",
              "  </div>\n",
              "  "
            ]
          },
          "metadata": {},
          "execution_count": 61
        }
      ]
    },
    {
      "cell_type": "code",
      "source": [
        "plot_bar(incident_Beat,\"Beat\",\"Incident_Num\",None,\"Numero de incidente por Beat\")"
      ],
      "metadata": {
        "colab": {
          "base_uri": "https://localhost:8080/",
          "height": 542
        },
        "id": "9Xde5D0R6YmO",
        "outputId": "f5e54767-170d-4e5f-a86e-ab1ee6ec2413"
      },
      "execution_count": 62,
      "outputs": [
        {
          "output_type": "display_data",
          "data": {
            "text/html": [
              "<html>\n",
              "<head><meta charset=\"utf-8\" /></head>\n",
              "<body>\n",
              "    <div>            <script src=\"https://cdnjs.cloudflare.com/ajax/libs/mathjax/2.7.5/MathJax.js?config=TeX-AMS-MML_SVG\"></script><script type=\"text/javascript\">if (window.MathJax && window.MathJax.Hub && window.MathJax.Hub.Config) {window.MathJax.Hub.Config({SVG: {font: \"STIX-Web\"}});}</script>                <script type=\"text/javascript\">window.PlotlyConfig = {MathJaxConfig: 'local'};</script>\n",
              "        <script src=\"https://cdn.plot.ly/plotly-2.18.2.min.js\"></script>                <div id=\"895bf3ad-2c50-4611-a766-effe919003b9\" class=\"plotly-graph-div\" style=\"height:525px; width:100%;\"></div>            <script type=\"text/javascript\">                                    window.PLOTLYENV=window.PLOTLYENV || {};                                    if (document.getElementById(\"895bf3ad-2c50-4611-a766-effe919003b9\")) {                    Plotly.newPlot(                        \"895bf3ad-2c50-4611-a766-effe919003b9\",                        [{\"alignmentgroup\":\"True\",\"hovertemplate\":\"Beat=%{x}<br>Incident_Num=%{y}<extra></extra>\",\"legendgroup\":\"\",\"marker\":{\"color\":\"#636efa\",\"pattern\":{\"shape\":\"\"}},\"name\":\"\",\"offsetgroup\":\"\",\"orientation\":\"v\",\"showlegend\":false,\"textposition\":\"auto\",\"x\":[\"B\",\"C\",\"D\",\"E\",\"F\",\"G\",\"J\",\"K\",\"L\",\"M\",\"N\",\"O\",\"Q\",\"R\",\"S\",\"U\",\"W\"],\"xaxis\":\"x\",\"y\":[525,425,1049,2689,471,688,441,1505,644,998,913,551,509,877,947,690,342],\"yaxis\":\"y\",\"type\":\"bar\"}],                        {\"template\":{\"data\":{\"histogram2dcontour\":[{\"type\":\"histogram2dcontour\",\"colorbar\":{\"outlinewidth\":0,\"ticks\":\"\"},\"colorscale\":[[0.0,\"#0d0887\"],[0.1111111111111111,\"#46039f\"],[0.2222222222222222,\"#7201a8\"],[0.3333333333333333,\"#9c179e\"],[0.4444444444444444,\"#bd3786\"],[0.5555555555555556,\"#d8576b\"],[0.6666666666666666,\"#ed7953\"],[0.7777777777777778,\"#fb9f3a\"],[0.8888888888888888,\"#fdca26\"],[1.0,\"#f0f921\"]]}],\"choropleth\":[{\"type\":\"choropleth\",\"colorbar\":{\"outlinewidth\":0,\"ticks\":\"\"}}],\"histogram2d\":[{\"type\":\"histogram2d\",\"colorbar\":{\"outlinewidth\":0,\"ticks\":\"\"},\"colorscale\":[[0.0,\"#0d0887\"],[0.1111111111111111,\"#46039f\"],[0.2222222222222222,\"#7201a8\"],[0.3333333333333333,\"#9c179e\"],[0.4444444444444444,\"#bd3786\"],[0.5555555555555556,\"#d8576b\"],[0.6666666666666666,\"#ed7953\"],[0.7777777777777778,\"#fb9f3a\"],[0.8888888888888888,\"#fdca26\"],[1.0,\"#f0f921\"]]}],\"heatmap\":[{\"type\":\"heatmap\",\"colorbar\":{\"outlinewidth\":0,\"ticks\":\"\"},\"colorscale\":[[0.0,\"#0d0887\"],[0.1111111111111111,\"#46039f\"],[0.2222222222222222,\"#7201a8\"],[0.3333333333333333,\"#9c179e\"],[0.4444444444444444,\"#bd3786\"],[0.5555555555555556,\"#d8576b\"],[0.6666666666666666,\"#ed7953\"],[0.7777777777777778,\"#fb9f3a\"],[0.8888888888888888,\"#fdca26\"],[1.0,\"#f0f921\"]]}],\"heatmapgl\":[{\"type\":\"heatmapgl\",\"colorbar\":{\"outlinewidth\":0,\"ticks\":\"\"},\"colorscale\":[[0.0,\"#0d0887\"],[0.1111111111111111,\"#46039f\"],[0.2222222222222222,\"#7201a8\"],[0.3333333333333333,\"#9c179e\"],[0.4444444444444444,\"#bd3786\"],[0.5555555555555556,\"#d8576b\"],[0.6666666666666666,\"#ed7953\"],[0.7777777777777778,\"#fb9f3a\"],[0.8888888888888888,\"#fdca26\"],[1.0,\"#f0f921\"]]}],\"contourcarpet\":[{\"type\":\"contourcarpet\",\"colorbar\":{\"outlinewidth\":0,\"ticks\":\"\"}}],\"contour\":[{\"type\":\"contour\",\"colorbar\":{\"outlinewidth\":0,\"ticks\":\"\"},\"colorscale\":[[0.0,\"#0d0887\"],[0.1111111111111111,\"#46039f\"],[0.2222222222222222,\"#7201a8\"],[0.3333333333333333,\"#9c179e\"],[0.4444444444444444,\"#bd3786\"],[0.5555555555555556,\"#d8576b\"],[0.6666666666666666,\"#ed7953\"],[0.7777777777777778,\"#fb9f3a\"],[0.8888888888888888,\"#fdca26\"],[1.0,\"#f0f921\"]]}],\"surface\":[{\"type\":\"surface\",\"colorbar\":{\"outlinewidth\":0,\"ticks\":\"\"},\"colorscale\":[[0.0,\"#0d0887\"],[0.1111111111111111,\"#46039f\"],[0.2222222222222222,\"#7201a8\"],[0.3333333333333333,\"#9c179e\"],[0.4444444444444444,\"#bd3786\"],[0.5555555555555556,\"#d8576b\"],[0.6666666666666666,\"#ed7953\"],[0.7777777777777778,\"#fb9f3a\"],[0.8888888888888888,\"#fdca26\"],[1.0,\"#f0f921\"]]}],\"mesh3d\":[{\"type\":\"mesh3d\",\"colorbar\":{\"outlinewidth\":0,\"ticks\":\"\"}}],\"scatter\":[{\"fillpattern\":{\"fillmode\":\"overlay\",\"size\":10,\"solidity\":0.2},\"type\":\"scatter\"}],\"parcoords\":[{\"type\":\"parcoords\",\"line\":{\"colorbar\":{\"outlinewidth\":0,\"ticks\":\"\"}}}],\"scatterpolargl\":[{\"type\":\"scatterpolargl\",\"marker\":{\"colorbar\":{\"outlinewidth\":0,\"ticks\":\"\"}}}],\"bar\":[{\"error_x\":{\"color\":\"#2a3f5f\"},\"error_y\":{\"color\":\"#2a3f5f\"},\"marker\":{\"line\":{\"color\":\"#E5ECF6\",\"width\":0.5},\"pattern\":{\"fillmode\":\"overlay\",\"size\":10,\"solidity\":0.2}},\"type\":\"bar\"}],\"scattergeo\":[{\"type\":\"scattergeo\",\"marker\":{\"colorbar\":{\"outlinewidth\":0,\"ticks\":\"\"}}}],\"scatterpolar\":[{\"type\":\"scatterpolar\",\"marker\":{\"colorbar\":{\"outlinewidth\":0,\"ticks\":\"\"}}}],\"histogram\":[{\"marker\":{\"pattern\":{\"fillmode\":\"overlay\",\"size\":10,\"solidity\":0.2}},\"type\":\"histogram\"}],\"scattergl\":[{\"type\":\"scattergl\",\"marker\":{\"colorbar\":{\"outlinewidth\":0,\"ticks\":\"\"}}}],\"scatter3d\":[{\"type\":\"scatter3d\",\"line\":{\"colorbar\":{\"outlinewidth\":0,\"ticks\":\"\"}},\"marker\":{\"colorbar\":{\"outlinewidth\":0,\"ticks\":\"\"}}}],\"scattermapbox\":[{\"type\":\"scattermapbox\",\"marker\":{\"colorbar\":{\"outlinewidth\":0,\"ticks\":\"\"}}}],\"scatterternary\":[{\"type\":\"scatterternary\",\"marker\":{\"colorbar\":{\"outlinewidth\":0,\"ticks\":\"\"}}}],\"scattercarpet\":[{\"type\":\"scattercarpet\",\"marker\":{\"colorbar\":{\"outlinewidth\":0,\"ticks\":\"\"}}}],\"carpet\":[{\"aaxis\":{\"endlinecolor\":\"#2a3f5f\",\"gridcolor\":\"white\",\"linecolor\":\"white\",\"minorgridcolor\":\"white\",\"startlinecolor\":\"#2a3f5f\"},\"baxis\":{\"endlinecolor\":\"#2a3f5f\",\"gridcolor\":\"white\",\"linecolor\":\"white\",\"minorgridcolor\":\"white\",\"startlinecolor\":\"#2a3f5f\"},\"type\":\"carpet\"}],\"table\":[{\"cells\":{\"fill\":{\"color\":\"#EBF0F8\"},\"line\":{\"color\":\"white\"}},\"header\":{\"fill\":{\"color\":\"#C8D4E3\"},\"line\":{\"color\":\"white\"}},\"type\":\"table\"}],\"barpolar\":[{\"marker\":{\"line\":{\"color\":\"#E5ECF6\",\"width\":0.5},\"pattern\":{\"fillmode\":\"overlay\",\"size\":10,\"solidity\":0.2}},\"type\":\"barpolar\"}],\"pie\":[{\"automargin\":true,\"type\":\"pie\"}]},\"layout\":{\"autotypenumbers\":\"strict\",\"colorway\":[\"#636efa\",\"#EF553B\",\"#00cc96\",\"#ab63fa\",\"#FFA15A\",\"#19d3f3\",\"#FF6692\",\"#B6E880\",\"#FF97FF\",\"#FECB52\"],\"font\":{\"color\":\"#2a3f5f\"},\"hovermode\":\"closest\",\"hoverlabel\":{\"align\":\"left\"},\"paper_bgcolor\":\"white\",\"plot_bgcolor\":\"#E5ECF6\",\"polar\":{\"bgcolor\":\"#E5ECF6\",\"angularaxis\":{\"gridcolor\":\"white\",\"linecolor\":\"white\",\"ticks\":\"\"},\"radialaxis\":{\"gridcolor\":\"white\",\"linecolor\":\"white\",\"ticks\":\"\"}},\"ternary\":{\"bgcolor\":\"#E5ECF6\",\"aaxis\":{\"gridcolor\":\"white\",\"linecolor\":\"white\",\"ticks\":\"\"},\"baxis\":{\"gridcolor\":\"white\",\"linecolor\":\"white\",\"ticks\":\"\"},\"caxis\":{\"gridcolor\":\"white\",\"linecolor\":\"white\",\"ticks\":\"\"}},\"coloraxis\":{\"colorbar\":{\"outlinewidth\":0,\"ticks\":\"\"}},\"colorscale\":{\"sequential\":[[0.0,\"#0d0887\"],[0.1111111111111111,\"#46039f\"],[0.2222222222222222,\"#7201a8\"],[0.3333333333333333,\"#9c179e\"],[0.4444444444444444,\"#bd3786\"],[0.5555555555555556,\"#d8576b\"],[0.6666666666666666,\"#ed7953\"],[0.7777777777777778,\"#fb9f3a\"],[0.8888888888888888,\"#fdca26\"],[1.0,\"#f0f921\"]],\"sequentialminus\":[[0.0,\"#0d0887\"],[0.1111111111111111,\"#46039f\"],[0.2222222222222222,\"#7201a8\"],[0.3333333333333333,\"#9c179e\"],[0.4444444444444444,\"#bd3786\"],[0.5555555555555556,\"#d8576b\"],[0.6666666666666666,\"#ed7953\"],[0.7777777777777778,\"#fb9f3a\"],[0.8888888888888888,\"#fdca26\"],[1.0,\"#f0f921\"]],\"diverging\":[[0,\"#8e0152\"],[0.1,\"#c51b7d\"],[0.2,\"#de77ae\"],[0.3,\"#f1b6da\"],[0.4,\"#fde0ef\"],[0.5,\"#f7f7f7\"],[0.6,\"#e6f5d0\"],[0.7,\"#b8e186\"],[0.8,\"#7fbc41\"],[0.9,\"#4d9221\"],[1,\"#276419\"]]},\"xaxis\":{\"gridcolor\":\"white\",\"linecolor\":\"white\",\"ticks\":\"\",\"title\":{\"standoff\":15},\"zerolinecolor\":\"white\",\"automargin\":true,\"zerolinewidth\":2},\"yaxis\":{\"gridcolor\":\"white\",\"linecolor\":\"white\",\"ticks\":\"\",\"title\":{\"standoff\":15},\"zerolinecolor\":\"white\",\"automargin\":true,\"zerolinewidth\":2},\"scene\":{\"xaxis\":{\"backgroundcolor\":\"#E5ECF6\",\"gridcolor\":\"white\",\"linecolor\":\"white\",\"showbackground\":true,\"ticks\":\"\",\"zerolinecolor\":\"white\",\"gridwidth\":2},\"yaxis\":{\"backgroundcolor\":\"#E5ECF6\",\"gridcolor\":\"white\",\"linecolor\":\"white\",\"showbackground\":true,\"ticks\":\"\",\"zerolinecolor\":\"white\",\"gridwidth\":2},\"zaxis\":{\"backgroundcolor\":\"#E5ECF6\",\"gridcolor\":\"white\",\"linecolor\":\"white\",\"showbackground\":true,\"ticks\":\"\",\"zerolinecolor\":\"white\",\"gridwidth\":2}},\"shapedefaults\":{\"line\":{\"color\":\"#2a3f5f\"}},\"annotationdefaults\":{\"arrowcolor\":\"#2a3f5f\",\"arrowhead\":0,\"arrowwidth\":1},\"geo\":{\"bgcolor\":\"white\",\"landcolor\":\"#E5ECF6\",\"subunitcolor\":\"white\",\"showland\":true,\"showlakes\":true,\"lakecolor\":\"white\"},\"title\":{\"x\":0.05},\"mapbox\":{\"style\":\"light\"}}},\"xaxis\":{\"anchor\":\"y\",\"domain\":[0.0,1.0],\"title\":{\"text\":\"Beat\"}},\"yaxis\":{\"anchor\":\"x\",\"domain\":[0.0,1.0],\"title\":{\"text\":\"Incident_Num\"}},\"legend\":{\"tracegroupgap\":0},\"margin\":{\"t\":60},\"barmode\":\"relative\",\"title\":{\"text\":\"Numero de incidente por Beat\",\"y\":0.99,\"x\":0.5,\"xanchor\":\"center\",\"yanchor\":\"top\"}},                        {\"responsive\": true}                    ).then(function(){\n",
              "                            \n",
              "var gd = document.getElementById('895bf3ad-2c50-4611-a766-effe919003b9');\n",
              "var x = new MutationObserver(function (mutations, observer) {{\n",
              "        var display = window.getComputedStyle(gd).display;\n",
              "        if (!display || display === 'none') {{\n",
              "            console.log([gd, 'removed!']);\n",
              "            Plotly.purge(gd);\n",
              "            observer.disconnect();\n",
              "        }}\n",
              "}});\n",
              "\n",
              "// Listen for the removal of the full notebook cells\n",
              "var notebookContainer = gd.closest('#notebook-container');\n",
              "if (notebookContainer) {{\n",
              "    x.observe(notebookContainer, {childList: true});\n",
              "}}\n",
              "\n",
              "// Listen for the clearing of the current output cell\n",
              "var outputEl = gd.closest('.output');\n",
              "if (outputEl) {{\n",
              "    x.observe(outputEl, {childList: true});\n",
              "}}\n",
              "\n",
              "                        })                };                            </script>        </div>\n",
              "</body>\n",
              "</html>"
            ]
          },
          "metadata": {}
        }
      ]
    },
    {
      "cell_type": "markdown",
      "source": [
        "As zonas E e K são as zonas que tem mais incidentes por beat"
      ],
      "metadata": {
        "id": "SHLpJ8hk-EhR"
      }
    },
    {
      "cell_type": "code",
      "source": [],
      "metadata": {
        "id": "yJNTQ8b485J1"
      },
      "execution_count": null,
      "outputs": []
    },
    {
      "cell_type": "code",
      "source": [
        "incident_precinct = df.groupby(df['Incident_Type'],as_index=False)[\"Precinct\"].value_counts()\n",
        "incident_precinct"
      ],
      "metadata": {
        "id": "ourRaPQJ6Yi8"
      },
      "execution_count": null,
      "outputs": []
    },
    {
      "cell_type": "code",
      "source": [
        "plot_bar(incident_precinct,\"Precinct\",\"count\",\"Incident_Type\",\"Contagem da força policial por Região\")"
      ],
      "metadata": {
        "colab": {
          "base_uri": "https://localhost:8080/",
          "height": 542
        },
        "id": "ArrAP5px9Vzh",
        "outputId": "2130db8b-1a24-4e81-aa7b-62ec89df6f09"
      },
      "execution_count": 71,
      "outputs": [
        {
          "output_type": "display_data",
          "data": {
            "text/html": [
              "<html>\n",
              "<head><meta charset=\"utf-8\" /></head>\n",
              "<body>\n",
              "    <div>            <script src=\"https://cdnjs.cloudflare.com/ajax/libs/mathjax/2.7.5/MathJax.js?config=TeX-AMS-MML_SVG\"></script><script type=\"text/javascript\">if (window.MathJax && window.MathJax.Hub && window.MathJax.Hub.Config) {window.MathJax.Hub.Config({SVG: {font: \"STIX-Web\"}});}</script>                <script type=\"text/javascript\">window.PlotlyConfig = {MathJaxConfig: 'local'};</script>\n",
              "        <script src=\"https://cdn.plot.ly/plotly-2.18.2.min.js\"></script>                <div id=\"4e1e299c-cc25-426f-b72b-65349e871054\" class=\"plotly-graph-div\" style=\"height:525px; width:100%;\"></div>            <script type=\"text/javascript\">                                    window.PLOTLYENV=window.PLOTLYENV || {};                                    if (document.getElementById(\"4e1e299c-cc25-426f-b72b-65349e871054\")) {                    Plotly.newPlot(                        \"4e1e299c-cc25-426f-b72b-65349e871054\",                        [{\"alignmentgroup\":\"True\",\"hovertemplate\":\"Incident_Type=Level 1 - Use of Force<br>Precinct=%{x}<br>count=%{y}<extra></extra>\",\"legendgroup\":\"Level 1 - Use of Force\",\"marker\":{\"color\":\"#636efa\",\"pattern\":{\"shape\":\"\"}},\"name\":\"Level 1 - Use of Force\",\"offsetgroup\":\"Level 1 - Use of Force\",\"orientation\":\"v\",\"showlegend\":true,\"textposition\":\"auto\",\"x\":[\"West\",\"North\",\"South\",\"East\",\"Southwest\",\"-\",\"X\",\"0\",\"OOJ\"],\"xaxis\":\"x\",\"y\":[2671,2543,1849,1713,658,430,298,8,3],\"yaxis\":\"y\",\"type\":\"bar\"},{\"alignmentgroup\":\"True\",\"hovertemplate\":\"Incident_Type=Level 2 - Use of Force<br>Precinct=%{x}<br>count=%{y}<extra></extra>\",\"legendgroup\":\"Level 2 - Use of Force\",\"marker\":{\"color\":\"#EF553B\",\"pattern\":{\"shape\":\"\"}},\"name\":\"Level 2 - Use of Force\",\"offsetgroup\":\"Level 2 - Use of Force\",\"orientation\":\"v\",\"showlegend\":true,\"textposition\":\"auto\",\"x\":[\"West\",\"East\",\"North\",\"South\",\"Southwest\",\"-\",\"X\",\"0\",\"OOJ\"],\"xaxis\":\"x\",\"y\":[1307,1113,616,482,147,115,71,4,1],\"yaxis\":\"y\",\"type\":\"bar\"},{\"alignmentgroup\":\"True\",\"hovertemplate\":\"Incident_Type=Level 3 - OIS<br>Precinct=%{x}<br>count=%{y}<extra></extra>\",\"legendgroup\":\"Level 3 - OIS\",\"marker\":{\"color\":\"#00cc96\",\"pattern\":{\"shape\":\"\"}},\"name\":\"Level 3 - OIS\",\"offsetgroup\":\"Level 3 - OIS\",\"orientation\":\"v\",\"showlegend\":true,\"textposition\":\"auto\",\"x\":[\"North\",\"West\",\"South\",\"-\",\"East\",\"OOJ\",\"Southwest\",\"X\"],\"xaxis\":\"x\",\"y\":[33,26,26,10,6,3,2,1],\"yaxis\":\"y\",\"type\":\"bar\"},{\"alignmentgroup\":\"True\",\"hovertemplate\":\"Incident_Type=Level 3 - Use of Force<br>Precinct=%{x}<br>count=%{y}<extra></extra>\",\"legendgroup\":\"Level 3 - Use of Force\",\"marker\":{\"color\":\"#ab63fa\",\"pattern\":{\"shape\":\"\"}},\"name\":\"Level 3 - Use of Force\",\"offsetgroup\":\"Level 3 - Use of Force\",\"orientation\":\"v\",\"showlegend\":true,\"textposition\":\"auto\",\"x\":[\"West\",\"North\",\"South\",\"East\",\"-\",\"Southwest\",\"X\"],\"xaxis\":\"x\",\"y\":[57,20,19,19,6,6,1],\"yaxis\":\"y\",\"type\":\"bar\"}],                        {\"template\":{\"data\":{\"histogram2dcontour\":[{\"type\":\"histogram2dcontour\",\"colorbar\":{\"outlinewidth\":0,\"ticks\":\"\"},\"colorscale\":[[0.0,\"#0d0887\"],[0.1111111111111111,\"#46039f\"],[0.2222222222222222,\"#7201a8\"],[0.3333333333333333,\"#9c179e\"],[0.4444444444444444,\"#bd3786\"],[0.5555555555555556,\"#d8576b\"],[0.6666666666666666,\"#ed7953\"],[0.7777777777777778,\"#fb9f3a\"],[0.8888888888888888,\"#fdca26\"],[1.0,\"#f0f921\"]]}],\"choropleth\":[{\"type\":\"choropleth\",\"colorbar\":{\"outlinewidth\":0,\"ticks\":\"\"}}],\"histogram2d\":[{\"type\":\"histogram2d\",\"colorbar\":{\"outlinewidth\":0,\"ticks\":\"\"},\"colorscale\":[[0.0,\"#0d0887\"],[0.1111111111111111,\"#46039f\"],[0.2222222222222222,\"#7201a8\"],[0.3333333333333333,\"#9c179e\"],[0.4444444444444444,\"#bd3786\"],[0.5555555555555556,\"#d8576b\"],[0.6666666666666666,\"#ed7953\"],[0.7777777777777778,\"#fb9f3a\"],[0.8888888888888888,\"#fdca26\"],[1.0,\"#f0f921\"]]}],\"heatmap\":[{\"type\":\"heatmap\",\"colorbar\":{\"outlinewidth\":0,\"ticks\":\"\"},\"colorscale\":[[0.0,\"#0d0887\"],[0.1111111111111111,\"#46039f\"],[0.2222222222222222,\"#7201a8\"],[0.3333333333333333,\"#9c179e\"],[0.4444444444444444,\"#bd3786\"],[0.5555555555555556,\"#d8576b\"],[0.6666666666666666,\"#ed7953\"],[0.7777777777777778,\"#fb9f3a\"],[0.8888888888888888,\"#fdca26\"],[1.0,\"#f0f921\"]]}],\"heatmapgl\":[{\"type\":\"heatmapgl\",\"colorbar\":{\"outlinewidth\":0,\"ticks\":\"\"},\"colorscale\":[[0.0,\"#0d0887\"],[0.1111111111111111,\"#46039f\"],[0.2222222222222222,\"#7201a8\"],[0.3333333333333333,\"#9c179e\"],[0.4444444444444444,\"#bd3786\"],[0.5555555555555556,\"#d8576b\"],[0.6666666666666666,\"#ed7953\"],[0.7777777777777778,\"#fb9f3a\"],[0.8888888888888888,\"#fdca26\"],[1.0,\"#f0f921\"]]}],\"contourcarpet\":[{\"type\":\"contourcarpet\",\"colorbar\":{\"outlinewidth\":0,\"ticks\":\"\"}}],\"contour\":[{\"type\":\"contour\",\"colorbar\":{\"outlinewidth\":0,\"ticks\":\"\"},\"colorscale\":[[0.0,\"#0d0887\"],[0.1111111111111111,\"#46039f\"],[0.2222222222222222,\"#7201a8\"],[0.3333333333333333,\"#9c179e\"],[0.4444444444444444,\"#bd3786\"],[0.5555555555555556,\"#d8576b\"],[0.6666666666666666,\"#ed7953\"],[0.7777777777777778,\"#fb9f3a\"],[0.8888888888888888,\"#fdca26\"],[1.0,\"#f0f921\"]]}],\"surface\":[{\"type\":\"surface\",\"colorbar\":{\"outlinewidth\":0,\"ticks\":\"\"},\"colorscale\":[[0.0,\"#0d0887\"],[0.1111111111111111,\"#46039f\"],[0.2222222222222222,\"#7201a8\"],[0.3333333333333333,\"#9c179e\"],[0.4444444444444444,\"#bd3786\"],[0.5555555555555556,\"#d8576b\"],[0.6666666666666666,\"#ed7953\"],[0.7777777777777778,\"#fb9f3a\"],[0.8888888888888888,\"#fdca26\"],[1.0,\"#f0f921\"]]}],\"mesh3d\":[{\"type\":\"mesh3d\",\"colorbar\":{\"outlinewidth\":0,\"ticks\":\"\"}}],\"scatter\":[{\"fillpattern\":{\"fillmode\":\"overlay\",\"size\":10,\"solidity\":0.2},\"type\":\"scatter\"}],\"parcoords\":[{\"type\":\"parcoords\",\"line\":{\"colorbar\":{\"outlinewidth\":0,\"ticks\":\"\"}}}],\"scatterpolargl\":[{\"type\":\"scatterpolargl\",\"marker\":{\"colorbar\":{\"outlinewidth\":0,\"ticks\":\"\"}}}],\"bar\":[{\"error_x\":{\"color\":\"#2a3f5f\"},\"error_y\":{\"color\":\"#2a3f5f\"},\"marker\":{\"line\":{\"color\":\"#E5ECF6\",\"width\":0.5},\"pattern\":{\"fillmode\":\"overlay\",\"size\":10,\"solidity\":0.2}},\"type\":\"bar\"}],\"scattergeo\":[{\"type\":\"scattergeo\",\"marker\":{\"colorbar\":{\"outlinewidth\":0,\"ticks\":\"\"}}}],\"scatterpolar\":[{\"type\":\"scatterpolar\",\"marker\":{\"colorbar\":{\"outlinewidth\":0,\"ticks\":\"\"}}}],\"histogram\":[{\"marker\":{\"pattern\":{\"fillmode\":\"overlay\",\"size\":10,\"solidity\":0.2}},\"type\":\"histogram\"}],\"scattergl\":[{\"type\":\"scattergl\",\"marker\":{\"colorbar\":{\"outlinewidth\":0,\"ticks\":\"\"}}}],\"scatter3d\":[{\"type\":\"scatter3d\",\"line\":{\"colorbar\":{\"outlinewidth\":0,\"ticks\":\"\"}},\"marker\":{\"colorbar\":{\"outlinewidth\":0,\"ticks\":\"\"}}}],\"scattermapbox\":[{\"type\":\"scattermapbox\",\"marker\":{\"colorbar\":{\"outlinewidth\":0,\"ticks\":\"\"}}}],\"scatterternary\":[{\"type\":\"scatterternary\",\"marker\":{\"colorbar\":{\"outlinewidth\":0,\"ticks\":\"\"}}}],\"scattercarpet\":[{\"type\":\"scattercarpet\",\"marker\":{\"colorbar\":{\"outlinewidth\":0,\"ticks\":\"\"}}}],\"carpet\":[{\"aaxis\":{\"endlinecolor\":\"#2a3f5f\",\"gridcolor\":\"white\",\"linecolor\":\"white\",\"minorgridcolor\":\"white\",\"startlinecolor\":\"#2a3f5f\"},\"baxis\":{\"endlinecolor\":\"#2a3f5f\",\"gridcolor\":\"white\",\"linecolor\":\"white\",\"minorgridcolor\":\"white\",\"startlinecolor\":\"#2a3f5f\"},\"type\":\"carpet\"}],\"table\":[{\"cells\":{\"fill\":{\"color\":\"#EBF0F8\"},\"line\":{\"color\":\"white\"}},\"header\":{\"fill\":{\"color\":\"#C8D4E3\"},\"line\":{\"color\":\"white\"}},\"type\":\"table\"}],\"barpolar\":[{\"marker\":{\"line\":{\"color\":\"#E5ECF6\",\"width\":0.5},\"pattern\":{\"fillmode\":\"overlay\",\"size\":10,\"solidity\":0.2}},\"type\":\"barpolar\"}],\"pie\":[{\"automargin\":true,\"type\":\"pie\"}]},\"layout\":{\"autotypenumbers\":\"strict\",\"colorway\":[\"#636efa\",\"#EF553B\",\"#00cc96\",\"#ab63fa\",\"#FFA15A\",\"#19d3f3\",\"#FF6692\",\"#B6E880\",\"#FF97FF\",\"#FECB52\"],\"font\":{\"color\":\"#2a3f5f\"},\"hovermode\":\"closest\",\"hoverlabel\":{\"align\":\"left\"},\"paper_bgcolor\":\"white\",\"plot_bgcolor\":\"#E5ECF6\",\"polar\":{\"bgcolor\":\"#E5ECF6\",\"angularaxis\":{\"gridcolor\":\"white\",\"linecolor\":\"white\",\"ticks\":\"\"},\"radialaxis\":{\"gridcolor\":\"white\",\"linecolor\":\"white\",\"ticks\":\"\"}},\"ternary\":{\"bgcolor\":\"#E5ECF6\",\"aaxis\":{\"gridcolor\":\"white\",\"linecolor\":\"white\",\"ticks\":\"\"},\"baxis\":{\"gridcolor\":\"white\",\"linecolor\":\"white\",\"ticks\":\"\"},\"caxis\":{\"gridcolor\":\"white\",\"linecolor\":\"white\",\"ticks\":\"\"}},\"coloraxis\":{\"colorbar\":{\"outlinewidth\":0,\"ticks\":\"\"}},\"colorscale\":{\"sequential\":[[0.0,\"#0d0887\"],[0.1111111111111111,\"#46039f\"],[0.2222222222222222,\"#7201a8\"],[0.3333333333333333,\"#9c179e\"],[0.4444444444444444,\"#bd3786\"],[0.5555555555555556,\"#d8576b\"],[0.6666666666666666,\"#ed7953\"],[0.7777777777777778,\"#fb9f3a\"],[0.8888888888888888,\"#fdca26\"],[1.0,\"#f0f921\"]],\"sequentialminus\":[[0.0,\"#0d0887\"],[0.1111111111111111,\"#46039f\"],[0.2222222222222222,\"#7201a8\"],[0.3333333333333333,\"#9c179e\"],[0.4444444444444444,\"#bd3786\"],[0.5555555555555556,\"#d8576b\"],[0.6666666666666666,\"#ed7953\"],[0.7777777777777778,\"#fb9f3a\"],[0.8888888888888888,\"#fdca26\"],[1.0,\"#f0f921\"]],\"diverging\":[[0,\"#8e0152\"],[0.1,\"#c51b7d\"],[0.2,\"#de77ae\"],[0.3,\"#f1b6da\"],[0.4,\"#fde0ef\"],[0.5,\"#f7f7f7\"],[0.6,\"#e6f5d0\"],[0.7,\"#b8e186\"],[0.8,\"#7fbc41\"],[0.9,\"#4d9221\"],[1,\"#276419\"]]},\"xaxis\":{\"gridcolor\":\"white\",\"linecolor\":\"white\",\"ticks\":\"\",\"title\":{\"standoff\":15},\"zerolinecolor\":\"white\",\"automargin\":true,\"zerolinewidth\":2},\"yaxis\":{\"gridcolor\":\"white\",\"linecolor\":\"white\",\"ticks\":\"\",\"title\":{\"standoff\":15},\"zerolinecolor\":\"white\",\"automargin\":true,\"zerolinewidth\":2},\"scene\":{\"xaxis\":{\"backgroundcolor\":\"#E5ECF6\",\"gridcolor\":\"white\",\"linecolor\":\"white\",\"showbackground\":true,\"ticks\":\"\",\"zerolinecolor\":\"white\",\"gridwidth\":2},\"yaxis\":{\"backgroundcolor\":\"#E5ECF6\",\"gridcolor\":\"white\",\"linecolor\":\"white\",\"showbackground\":true,\"ticks\":\"\",\"zerolinecolor\":\"white\",\"gridwidth\":2},\"zaxis\":{\"backgroundcolor\":\"#E5ECF6\",\"gridcolor\":\"white\",\"linecolor\":\"white\",\"showbackground\":true,\"ticks\":\"\",\"zerolinecolor\":\"white\",\"gridwidth\":2}},\"shapedefaults\":{\"line\":{\"color\":\"#2a3f5f\"}},\"annotationdefaults\":{\"arrowcolor\":\"#2a3f5f\",\"arrowhead\":0,\"arrowwidth\":1},\"geo\":{\"bgcolor\":\"white\",\"landcolor\":\"#E5ECF6\",\"subunitcolor\":\"white\",\"showland\":true,\"showlakes\":true,\"lakecolor\":\"white\"},\"title\":{\"x\":0.05},\"mapbox\":{\"style\":\"light\"}}},\"xaxis\":{\"anchor\":\"y\",\"domain\":[0.0,1.0],\"title\":{\"text\":\"Precinct\"}},\"yaxis\":{\"anchor\":\"x\",\"domain\":[0.0,1.0],\"title\":{\"text\":\"count\"}},\"legend\":{\"title\":{\"text\":\"Incident_Type\"},\"tracegroupgap\":0},\"margin\":{\"t\":60},\"barmode\":\"relative\",\"title\":{\"text\":\"Contagem da for\\u00e7a policial por Regi\\u00e3o\",\"y\":0.99,\"x\":0.5,\"xanchor\":\"center\",\"yanchor\":\"top\"}},                        {\"responsive\": true}                    ).then(function(){\n",
              "                            \n",
              "var gd = document.getElementById('4e1e299c-cc25-426f-b72b-65349e871054');\n",
              "var x = new MutationObserver(function (mutations, observer) {{\n",
              "        var display = window.getComputedStyle(gd).display;\n",
              "        if (!display || display === 'none') {{\n",
              "            console.log([gd, 'removed!']);\n",
              "            Plotly.purge(gd);\n",
              "            observer.disconnect();\n",
              "        }}\n",
              "}});\n",
              "\n",
              "// Listen for the removal of the full notebook cells\n",
              "var notebookContainer = gd.closest('#notebook-container');\n",
              "if (notebookContainer) {{\n",
              "    x.observe(notebookContainer, {childList: true});\n",
              "}}\n",
              "\n",
              "// Listen for the clearing of the current output cell\n",
              "var outputEl = gd.closest('.output');\n",
              "if (outputEl) {{\n",
              "    x.observe(outputEl, {childList: true});\n",
              "}}\n",
              "\n",
              "                        })                };                            </script>        </div>\n",
              "</body>\n",
              "</html>"
            ]
          },
          "metadata": {}
        }
      ]
    },
    {
      "cell_type": "markdown",
      "source": [
        "Podemos identificar que quase não existe operações com força policial lvl 3 em \"Southwest\",\"East\""
      ],
      "metadata": {
        "id": "Z8Bp021F9vE_"
      }
    },
    {
      "cell_type": "code",
      "source": [],
      "metadata": {
        "id": "rC-1ruGH9Vw4"
      },
      "execution_count": null,
      "outputs": []
    },
    {
      "cell_type": "code",
      "source": [],
      "metadata": {
        "id": "2_HNxAsl6Yfo"
      },
      "execution_count": null,
      "outputs": []
    },
    {
      "cell_type": "code",
      "source": [],
      "metadata": {
        "id": "Q7j5D801fMlj"
      },
      "execution_count": 22,
      "outputs": []
    },
    {
      "cell_type": "markdown",
      "source": [
        "# Modelagem"
      ],
      "metadata": {
        "id": "BkKRJAvDYdAd"
      }
    },
    {
      "cell_type": "markdown",
      "source": [
        "preprocessamento"
      ],
      "metadata": {
        "id": "VhPMFUZe-d3n"
      }
    },
    {
      "cell_type": "code",
      "source": [
        "df.isna().sum()/df.shape[0]"
      ],
      "metadata": {
        "colab": {
          "base_uri": "https://localhost:8080/"
        },
        "id": "sBGZGSRO_a2e",
        "outputId": "20142cfb-f2de-48a0-81f0-4021b9c835f2"
      },
      "execution_count": 78,
      "outputs": [
        {
          "output_type": "execute_result",
          "data": {
            "text/plain": [
              "ID                   0.0\n",
              "Incident_Num         0.0\n",
              "Incident_Type        0.0\n",
              "Occured_date_time    0.0\n",
              "Precinct             0.0\n",
              "Sector               0.0\n",
              "Beat                 0.0\n",
              "Officer_ID           0.0\n",
              "Subject_ID           0.0\n",
              "Subject_Race         0.0\n",
              "Subject_Gender       0.0\n",
              "time                 0.0\n",
              "hours                0.0\n",
              "data                 0.0\n",
              "day_name             0.0\n",
              "dtype: float64"
            ]
          },
          "metadata": {},
          "execution_count": 78
        }
      ]
    },
    {
      "cell_type": "code",
      "source": [
        "df.dropna(inplace=True)"
      ],
      "metadata": {
        "id": "inxMyklA_ilL"
      },
      "execution_count": 77,
      "outputs": []
    },
    {
      "cell_type": "code",
      "source": [
        "X = df[['Precinct','Beat', 'Subject_Race', 'Subject_Gender']]\n",
        "y = df[['Incident_Type']]"
      ],
      "metadata": {
        "id": "sX_vsk1YYfH4"
      },
      "execution_count": 79,
      "outputs": []
    },
    {
      "cell_type": "markdown",
      "source": [
        "Irei agrupar os Generos Transgenero masculino,femino e não binario em um unico grupo devido ao números serem pequenos."
      ],
      "metadata": {
        "id": "mu0BvqUk-ycI"
      }
    },
    {
      "cell_type": "code",
      "source": [
        "X.Subject_Gender.replace(\"Transgender Male\",\"Transgender_Male_or_Female\",inplace=True)\n",
        "X.Subject_Gender.replace(\"Transgender Female\",\"Transgender_Male_or_Female\",inplace=True)\n",
        "X.Subject_Gender.replace(\"Non-binary\",\"Other\",inplace=True)"
      ],
      "metadata": {
        "id": "q7L10oXI_F3B"
      },
      "execution_count": 80,
      "outputs": []
    },
    {
      "cell_type": "code",
      "source": [
        "# Criando encoders\n",
        "ohe = OneHotEncoder(handle_unknown='ignore')\n",
        "le = LabelEncoder()"
      ],
      "metadata": {
        "id": "bnshFHNmciYf"
      },
      "execution_count": 82,
      "outputs": []
    },
    {
      "cell_type": "code",
      "source": [
        "X_train, X_test, y_train, y_test = train_test_split(X, y, test_size=0.2, random_state=42)"
      ],
      "metadata": {
        "id": "tqMnXzTmAGEp"
      },
      "execution_count": 83,
      "outputs": []
    },
    {
      "cell_type": "code",
      "source": [
        "print(f\"Shape dos dados de treino X_train->{X_train.shape} , y_train->{y_train.shape}\")\n",
        "print(f\"Shape dos dados de treino X_test->{X_test.shape} , y_test->{y_test.shape}\")"
      ],
      "metadata": {
        "colab": {
          "base_uri": "https://localhost:8080/"
        },
        "id": "Ad4KIbPEALQG",
        "outputId": "ca700bd8-f3c8-47e6-f237-c7c50ecb4bcd"
      },
      "execution_count": 84,
      "outputs": [
        {
          "output_type": "stream",
          "name": "stdout",
          "text": [
            "Shape dos dados de treino X_train->(10650, 4) , y_train->(10650, 1)\n",
            "Shape dos dados de treino X_test->(2663, 4) , y_test->(2663, 1)\n"
          ]
        }
      ]
    },
    {
      "cell_type": "code",
      "source": [
        "X_train = ohe.fit_transform(X_train[['Precinct', 'Beat', 'Subject_Race', 'Subject_Gender']]).toarray()"
      ],
      "metadata": {
        "id": "K8O_NIRQciVi"
      },
      "execution_count": 85,
      "outputs": []
    },
    {
      "cell_type": "code",
      "source": [
        "X_test = ohe.fit_transform(X_test[['Precinct', 'Beat', 'Subject_Race', 'Subject_Gender']]).toarray()"
      ],
      "metadata": {
        "id": "P_wfJdHeGTtD"
      },
      "execution_count": 96,
      "outputs": []
    },
    {
      "cell_type": "code",
      "source": [
        "x_train = pd.DataFrame(X_train, columns=ohe.get_feature_names_out(X.columns))"
      ],
      "metadata": {
        "id": "asg5ToPsAoc9"
      },
      "execution_count": 86,
      "outputs": []
    },
    {
      "cell_type": "code",
      "source": [
        "x_test = pd.DataFrame(X_test, columns=ohe.get_feature_names_out(X.columns))"
      ],
      "metadata": {
        "id": "4UeeCCvOGZRz"
      },
      "execution_count": 97,
      "outputs": []
    },
    {
      "cell_type": "code",
      "source": [
        "y_train = le.fit_transform(y_train.Incident_Type)"
      ],
      "metadata": {
        "id": "ixhznwM0Aoah"
      },
      "execution_count": 87,
      "outputs": []
    },
    {
      "cell_type": "code",
      "source": [
        "y_test_ = le.fit_transform(y_test.Incident_Type)"
      ],
      "metadata": {
        "id": "Uiqt0vm1Gesp"
      },
      "execution_count": 98,
      "outputs": []
    },
    {
      "cell_type": "code",
      "source": [
        "modelos = [LogisticRegression(),DecisionTreeClassifier(),RandomForestClassifier(),AdaBoostClassifier(),GradientBoostingClassifier(),GaussianNB(),SVC()]"
      ],
      "metadata": {
        "id": "c8wUvWzuAoXE"
      },
      "execution_count": 88,
      "outputs": []
    },
    {
      "cell_type": "code",
      "source": [
        "df_treino = run_models_compare(x_train,y_train,modelos=modelos)"
      ],
      "metadata": {
        "colab": {
          "base_uri": "https://localhost:8080/"
        },
        "id": "VB06UURcAoUn",
        "outputId": "04996c90-df23-4e1f-957e-5a1d0bbfdf45"
      },
      "execution_count": 89,
      "outputs": [
        {
          "output_type": "stream",
          "name": "stdout",
          "text": [
            "--------------------------------------------------\n",
            "LogisticRegression\n",
            "recall : 0.736 std : 0.004\n",
            "Intervalo :  [72.75% ~ 74.48%]\n",
            "\n",
            "precision : 0.704 std : 0.008\n",
            "Intervalo :  [68.84% ~ 72.03%]\n",
            "\n",
            "accuracy : 0.736 std : 0.004\n",
            "Intervalo :  [72.75% ~ 74.48%]\n",
            "\n",
            "\n",
            "DecisionTreeClassifier\n",
            "recall : 0.736 std : 0.003\n",
            "Intervalo :  [73.09% ~ 74.19%]\n",
            "\n",
            "precision : 0.711 std : 0.008\n",
            "Intervalo :  [69.61% ~ 72.63%]\n",
            "\n",
            "accuracy : 0.737 std : 0.003\n",
            "Intervalo :  [73.05% ~ 74.25%]\n",
            "\n",
            "\n",
            "RandomForestClassifier\n",
            "recall : 0.734 std : 0.003\n",
            "Intervalo :  [72.74% ~ 74.13%]\n",
            "\n",
            "precision : 0.708 std : 0.01\n",
            "Intervalo :  [68.88% ~ 72.80%]\n",
            "\n",
            "accuracy : 0.736 std : 0.003\n",
            "Intervalo :  [73.09% ~ 74.10%]\n",
            "\n",
            "\n",
            "AdaBoostClassifier\n",
            "recall : 0.717 std : 0.007\n",
            "Intervalo :  [70.39% ~ 73.06%]\n",
            "\n",
            "precision : 0.698 std : 0.01\n",
            "Intervalo :  [67.73% ~ 71.80%]\n",
            "\n",
            "accuracy : 0.717 std : 0.007\n",
            "Intervalo :  [70.39% ~ 73.06%]\n",
            "\n",
            "\n",
            "GradientBoostingClassifier\n",
            "recall : 0.738 std : 0.003\n",
            "Intervalo :  [73.08% ~ 74.47%]\n",
            "\n",
            "precision : 0.716 std : 0.008\n",
            "Intervalo :  [70.01% ~ 73.24%]\n",
            "\n",
            "accuracy : 0.738 std : 0.004\n",
            "Intervalo :  [73.08% ~ 74.53%]\n",
            "\n",
            "\n",
            "GaussianNB\n",
            "recall : 0.165 std : 0.014\n",
            "Intervalo :  [13.72% ~ 19.29%]\n",
            "\n",
            "precision : 0.703 std : 0.019\n",
            "Intervalo :  [66.52% ~ 74.09%]\n",
            "\n",
            "accuracy : 0.165 std : 0.014\n",
            "Intervalo :  [13.72% ~ 19.29%]\n",
            "\n",
            "\n",
            "SVC\n",
            "recall : 0.739 std : 0.005\n",
            "Intervalo :  [72.91% ~ 74.94%]\n",
            "\n",
            "precision : 0.72 std : 0.016\n",
            "Intervalo :  [68.73% ~ 75.24%]\n",
            "\n",
            "accuracy : 0.739 std : 0.005\n",
            "Intervalo :  [72.91% ~ 74.94%]\n",
            "\n",
            "\n"
          ]
        }
      ]
    },
    {
      "cell_type": "code",
      "source": [
        "df_treino.sort_values(by='precision',ascending=False)"
      ],
      "metadata": {
        "colab": {
          "base_uri": "https://localhost:8080/",
          "height": 269
        },
        "id": "BcVo5ut0AoRn",
        "outputId": "b2ea623e-cd51-45bf-fa13-11fd28acce4e"
      },
      "execution_count": 94,
      "outputs": [
        {
          "output_type": "execute_result",
          "data": {
            "text/plain": [
              "                            recall  precision    acc\n",
              "SVC                          0.739      0.720  0.739\n",
              "GradientBoostingClassifier   0.738      0.716  0.738\n",
              "DecisionTreeClassifier       0.736      0.711  0.737\n",
              "RandomForestClassifier       0.734      0.708  0.736\n",
              "LogisticRegression           0.736      0.704  0.736\n",
              "GaussianNB                   0.165      0.703  0.165\n",
              "AdaBoostClassifier           0.717      0.698  0.717"
            ],
            "text/html": [
              "\n",
              "  <div id=\"df-c0f72952-0b6f-4944-9790-f1a63ab61f08\">\n",
              "    <div class=\"colab-df-container\">\n",
              "      <div>\n",
              "<style scoped>\n",
              "    .dataframe tbody tr th:only-of-type {\n",
              "        vertical-align: middle;\n",
              "    }\n",
              "\n",
              "    .dataframe tbody tr th {\n",
              "        vertical-align: top;\n",
              "    }\n",
              "\n",
              "    .dataframe thead th {\n",
              "        text-align: right;\n",
              "    }\n",
              "</style>\n",
              "<table border=\"1\" class=\"dataframe\">\n",
              "  <thead>\n",
              "    <tr style=\"text-align: right;\">\n",
              "      <th></th>\n",
              "      <th>recall</th>\n",
              "      <th>precision</th>\n",
              "      <th>acc</th>\n",
              "    </tr>\n",
              "  </thead>\n",
              "  <tbody>\n",
              "    <tr>\n",
              "      <th>SVC</th>\n",
              "      <td>0.739</td>\n",
              "      <td>0.720</td>\n",
              "      <td>0.739</td>\n",
              "    </tr>\n",
              "    <tr>\n",
              "      <th>GradientBoostingClassifier</th>\n",
              "      <td>0.738</td>\n",
              "      <td>0.716</td>\n",
              "      <td>0.738</td>\n",
              "    </tr>\n",
              "    <tr>\n",
              "      <th>DecisionTreeClassifier</th>\n",
              "      <td>0.736</td>\n",
              "      <td>0.711</td>\n",
              "      <td>0.737</td>\n",
              "    </tr>\n",
              "    <tr>\n",
              "      <th>RandomForestClassifier</th>\n",
              "      <td>0.734</td>\n",
              "      <td>0.708</td>\n",
              "      <td>0.736</td>\n",
              "    </tr>\n",
              "    <tr>\n",
              "      <th>LogisticRegression</th>\n",
              "      <td>0.736</td>\n",
              "      <td>0.704</td>\n",
              "      <td>0.736</td>\n",
              "    </tr>\n",
              "    <tr>\n",
              "      <th>GaussianNB</th>\n",
              "      <td>0.165</td>\n",
              "      <td>0.703</td>\n",
              "      <td>0.165</td>\n",
              "    </tr>\n",
              "    <tr>\n",
              "      <th>AdaBoostClassifier</th>\n",
              "      <td>0.717</td>\n",
              "      <td>0.698</td>\n",
              "      <td>0.717</td>\n",
              "    </tr>\n",
              "  </tbody>\n",
              "</table>\n",
              "</div>\n",
              "      <button class=\"colab-df-convert\" onclick=\"convertToInteractive('df-c0f72952-0b6f-4944-9790-f1a63ab61f08')\"\n",
              "              title=\"Convert this dataframe to an interactive table.\"\n",
              "              style=\"display:none;\">\n",
              "        \n",
              "  <svg xmlns=\"http://www.w3.org/2000/svg\" height=\"24px\"viewBox=\"0 0 24 24\"\n",
              "       width=\"24px\">\n",
              "    <path d=\"M0 0h24v24H0V0z\" fill=\"none\"/>\n",
              "    <path d=\"M18.56 5.44l.94 2.06.94-2.06 2.06-.94-2.06-.94-.94-2.06-.94 2.06-2.06.94zm-11 1L8.5 8.5l.94-2.06 2.06-.94-2.06-.94L8.5 2.5l-.94 2.06-2.06.94zm10 10l.94 2.06.94-2.06 2.06-.94-2.06-.94-.94-2.06-.94 2.06-2.06.94z\"/><path d=\"M17.41 7.96l-1.37-1.37c-.4-.4-.92-.59-1.43-.59-.52 0-1.04.2-1.43.59L10.3 9.45l-7.72 7.72c-.78.78-.78 2.05 0 2.83L4 21.41c.39.39.9.59 1.41.59.51 0 1.02-.2 1.41-.59l7.78-7.78 2.81-2.81c.8-.78.8-2.07 0-2.86zM5.41 20L4 18.59l7.72-7.72 1.47 1.35L5.41 20z\"/>\n",
              "  </svg>\n",
              "      </button>\n",
              "      \n",
              "  <style>\n",
              "    .colab-df-container {\n",
              "      display:flex;\n",
              "      flex-wrap:wrap;\n",
              "      gap: 12px;\n",
              "    }\n",
              "\n",
              "    .colab-df-convert {\n",
              "      background-color: #E8F0FE;\n",
              "      border: none;\n",
              "      border-radius: 50%;\n",
              "      cursor: pointer;\n",
              "      display: none;\n",
              "      fill: #1967D2;\n",
              "      height: 32px;\n",
              "      padding: 0 0 0 0;\n",
              "      width: 32px;\n",
              "    }\n",
              "\n",
              "    .colab-df-convert:hover {\n",
              "      background-color: #E2EBFA;\n",
              "      box-shadow: 0px 1px 2px rgba(60, 64, 67, 0.3), 0px 1px 3px 1px rgba(60, 64, 67, 0.15);\n",
              "      fill: #174EA6;\n",
              "    }\n",
              "\n",
              "    [theme=dark] .colab-df-convert {\n",
              "      background-color: #3B4455;\n",
              "      fill: #D2E3FC;\n",
              "    }\n",
              "\n",
              "    [theme=dark] .colab-df-convert:hover {\n",
              "      background-color: #434B5C;\n",
              "      box-shadow: 0px 1px 3px 1px rgba(0, 0, 0, 0.15);\n",
              "      filter: drop-shadow(0px 1px 2px rgba(0, 0, 0, 0.3));\n",
              "      fill: #FFFFFF;\n",
              "    }\n",
              "  </style>\n",
              "\n",
              "      <script>\n",
              "        const buttonEl =\n",
              "          document.querySelector('#df-c0f72952-0b6f-4944-9790-f1a63ab61f08 button.colab-df-convert');\n",
              "        buttonEl.style.display =\n",
              "          google.colab.kernel.accessAllowed ? 'block' : 'none';\n",
              "\n",
              "        async function convertToInteractive(key) {\n",
              "          const element = document.querySelector('#df-c0f72952-0b6f-4944-9790-f1a63ab61f08');\n",
              "          const dataTable =\n",
              "            await google.colab.kernel.invokeFunction('convertToInteractive',\n",
              "                                                     [key], {});\n",
              "          if (!dataTable) return;\n",
              "\n",
              "          const docLinkHtml = 'Like what you see? Visit the ' +\n",
              "            '<a target=\"_blank\" href=https://colab.research.google.com/notebooks/data_table.ipynb>data table notebook</a>'\n",
              "            + ' to learn more about interactive tables.';\n",
              "          element.innerHTML = '';\n",
              "          dataTable['output_type'] = 'display_data';\n",
              "          await google.colab.output.renderOutput(dataTable, element);\n",
              "          const docLink = document.createElement('div');\n",
              "          docLink.innerHTML = docLinkHtml;\n",
              "          element.appendChild(docLink);\n",
              "        }\n",
              "      </script>\n",
              "    </div>\n",
              "  </div>\n",
              "  "
            ]
          },
          "metadata": {},
          "execution_count": 94
        }
      ]
    },
    {
      "cell_type": "markdown",
      "source": [
        "Aqui vamos pegar SVC e o GradientBoostingClassifier para tuna os parametros e realizar testes"
      ],
      "metadata": {
        "id": "hqHEb5DwF8zc"
      }
    },
    {
      "cell_type": "markdown",
      "source": [
        "SVC"
      ],
      "metadata": {
        "id": "co011-wgGGuA"
      }
    },
    {
      "cell_type": "code",
      "source": [
        "svc=SVC(probability=True)\n",
        "svc.fit(x_train,y_train)"
      ],
      "metadata": {
        "colab": {
          "base_uri": "https://localhost:8080/",
          "height": 75
        },
        "id": "uYc1d4FZGIU8",
        "outputId": "b1521c8d-995f-48cb-d4c7-32013f5b45f3"
      },
      "execution_count": 109,
      "outputs": [
        {
          "output_type": "execute_result",
          "data": {
            "text/plain": [
              "SVC(probability=True)"
            ],
            "text/html": [
              "<style>#sk-container-id-2 {color: black;background-color: white;}#sk-container-id-2 pre{padding: 0;}#sk-container-id-2 div.sk-toggleable {background-color: white;}#sk-container-id-2 label.sk-toggleable__label {cursor: pointer;display: block;width: 100%;margin-bottom: 0;padding: 0.3em;box-sizing: border-box;text-align: center;}#sk-container-id-2 label.sk-toggleable__label-arrow:before {content: \"▸\";float: left;margin-right: 0.25em;color: #696969;}#sk-container-id-2 label.sk-toggleable__label-arrow:hover:before {color: black;}#sk-container-id-2 div.sk-estimator:hover label.sk-toggleable__label-arrow:before {color: black;}#sk-container-id-2 div.sk-toggleable__content {max-height: 0;max-width: 0;overflow: hidden;text-align: left;background-color: #f0f8ff;}#sk-container-id-2 div.sk-toggleable__content pre {margin: 0.2em;color: black;border-radius: 0.25em;background-color: #f0f8ff;}#sk-container-id-2 input.sk-toggleable__control:checked~div.sk-toggleable__content {max-height: 200px;max-width: 100%;overflow: auto;}#sk-container-id-2 input.sk-toggleable__control:checked~label.sk-toggleable__label-arrow:before {content: \"▾\";}#sk-container-id-2 div.sk-estimator input.sk-toggleable__control:checked~label.sk-toggleable__label {background-color: #d4ebff;}#sk-container-id-2 div.sk-label input.sk-toggleable__control:checked~label.sk-toggleable__label {background-color: #d4ebff;}#sk-container-id-2 input.sk-hidden--visually {border: 0;clip: rect(1px 1px 1px 1px);clip: rect(1px, 1px, 1px, 1px);height: 1px;margin: -1px;overflow: hidden;padding: 0;position: absolute;width: 1px;}#sk-container-id-2 div.sk-estimator {font-family: monospace;background-color: #f0f8ff;border: 1px dotted black;border-radius: 0.25em;box-sizing: border-box;margin-bottom: 0.5em;}#sk-container-id-2 div.sk-estimator:hover {background-color: #d4ebff;}#sk-container-id-2 div.sk-parallel-item::after {content: \"\";width: 100%;border-bottom: 1px solid gray;flex-grow: 1;}#sk-container-id-2 div.sk-label:hover label.sk-toggleable__label {background-color: #d4ebff;}#sk-container-id-2 div.sk-serial::before {content: \"\";position: absolute;border-left: 1px solid gray;box-sizing: border-box;top: 0;bottom: 0;left: 50%;z-index: 0;}#sk-container-id-2 div.sk-serial {display: flex;flex-direction: column;align-items: center;background-color: white;padding-right: 0.2em;padding-left: 0.2em;position: relative;}#sk-container-id-2 div.sk-item {position: relative;z-index: 1;}#sk-container-id-2 div.sk-parallel {display: flex;align-items: stretch;justify-content: center;background-color: white;position: relative;}#sk-container-id-2 div.sk-item::before, #sk-container-id-2 div.sk-parallel-item::before {content: \"\";position: absolute;border-left: 1px solid gray;box-sizing: border-box;top: 0;bottom: 0;left: 50%;z-index: -1;}#sk-container-id-2 div.sk-parallel-item {display: flex;flex-direction: column;z-index: 1;position: relative;background-color: white;}#sk-container-id-2 div.sk-parallel-item:first-child::after {align-self: flex-end;width: 50%;}#sk-container-id-2 div.sk-parallel-item:last-child::after {align-self: flex-start;width: 50%;}#sk-container-id-2 div.sk-parallel-item:only-child::after {width: 0;}#sk-container-id-2 div.sk-dashed-wrapped {border: 1px dashed gray;margin: 0 0.4em 0.5em 0.4em;box-sizing: border-box;padding-bottom: 0.4em;background-color: white;}#sk-container-id-2 div.sk-label label {font-family: monospace;font-weight: bold;display: inline-block;line-height: 1.2em;}#sk-container-id-2 div.sk-label-container {text-align: center;}#sk-container-id-2 div.sk-container {/* jupyter's `normalize.less` sets `[hidden] { display: none; }` but bootstrap.min.css set `[hidden] { display: none !important; }` so we also need the `!important` here to be able to override the default hidden behavior on the sphinx rendered scikit-learn.org. See: https://github.com/scikit-learn/scikit-learn/issues/21755 */display: inline-block !important;position: relative;}#sk-container-id-2 div.sk-text-repr-fallback {display: none;}</style><div id=\"sk-container-id-2\" class=\"sk-top-container\"><div class=\"sk-text-repr-fallback\"><pre>SVC(probability=True)</pre><b>In a Jupyter environment, please rerun this cell to show the HTML representation or trust the notebook. <br />On GitHub, the HTML representation is unable to render, please try loading this page with nbviewer.org.</b></div><div class=\"sk-container\" hidden><div class=\"sk-item\"><div class=\"sk-estimator sk-toggleable\"><input class=\"sk-toggleable__control sk-hidden--visually\" id=\"sk-estimator-id-2\" type=\"checkbox\" checked><label for=\"sk-estimator-id-2\" class=\"sk-toggleable__label sk-toggleable__label-arrow\">SVC</label><div class=\"sk-toggleable__content\"><pre>SVC(probability=True)</pre></div></div></div></div></div>"
            ]
          },
          "metadata": {},
          "execution_count": 109
        }
      ]
    },
    {
      "cell_type": "code",
      "source": [
        "y_pred_prob = svc.predict_proba(x_test)\n",
        "y_pred = svc.predict(x_test)"
      ],
      "metadata": {
        "id": "WB4qzlOMGIR5"
      },
      "execution_count": 113,
      "outputs": []
    },
    {
      "cell_type": "code",
      "source": [],
      "metadata": {
        "colab": {
          "base_uri": "https://localhost:8080/"
        },
        "id": "OELCh0wfGIL5",
        "outputId": "651fc2b9-19b5-465b-bfa8-e00b7f8fb2de"
      },
      "execution_count": 116,
      "outputs": [
        {
          "output_type": "stream",
          "name": "stdout",
          "text": [
            "Logloss = 0.6338498355597907\n"
          ]
        }
      ]
    },
    {
      "cell_type": "code",
      "source": [
        "target = ['Level 1 - Use of Force', 'Level 2 - Use of Force', \t'Level 3 - Use of Force', \t'Level 3 - OIS']\n",
        "metricas(y_test_,y_pred, svc.__class__.__name__, target)\n",
        "print(f\"Logloss = {log_loss(y_pred=y_pred_prob,y_true=y_test_)}\")"
      ],
      "metadata": {
        "colab": {
          "base_uri": "https://localhost:8080/"
        },
        "id": "WjwHTFv4GIO9",
        "outputId": "74a43622-7c2e-4411-d153-f1cb2ec335b2"
      },
      "execution_count": 117,
      "outputs": [
        {
          "output_type": "stream",
          "name": "stdout",
          "text": [
            "model SVC\n",
            "Acuracia = 73.4885467517837 %\n",
            "Precisao = 71.6724621377444 %\n",
            "Recall = 73.4885467517837 %\n",
            "==================================================\n",
            "                        precision    recall  f1-score   support\n",
            "\n",
            "Level 1 - Use of Force       0.74      0.97      0.84      1874\n",
            "Level 2 - Use of Force       0.70      0.19      0.29       750\n",
            "Level 3 - Use of Force       0.00      0.00      0.00        16\n",
            "         Level 3 - OIS       0.00      0.00      0.00        23\n",
            "\n",
            "              accuracy                           0.73      2663\n",
            "             macro avg       0.36      0.29      0.28      2663\n",
            "          weighted avg       0.72      0.73      0.67      2663\n",
            "\n",
            "Logloss = 0.6338498355597907\n"
          ]
        }
      ]
    },
    {
      "cell_type": "markdown",
      "source": [
        "O modelo teve um desempenho relativamente bom para a classe Level 1 - Use of Force, com uma precisão de 74% e um recall de 97%. Para a classe Level 2 - Use of Force, a precisão foi de 70% e o recall foi de 19%, indicando que o modelo teve mais dificuldade em identificar corretamente as instâncias dessa classe.\n",
        "\n",
        "As classes Level 3 - Use of Force e Level 3 - OIS tiveram uma precisão e recall de 0%, indicando que o modelo não conseguiu identificar nenhuma instância dessas classes corretamente.\n",
        "\n",
        "O Log Loss foi calculado como 0.6338, o que indica a qualidade geral das probabilidades previstas pelo modelo. O valor do Log Loss varia de 0 a infinito, e quanto mais próximo de zero, melhor é a qualidade das probabilidades previstas."
      ],
      "metadata": {
        "id": "DDy2HncQJyCE"
      }
    },
    {
      "cell_type": "markdown",
      "source": [
        "GradientBoostingClassifier"
      ],
      "metadata": {
        "id": "DMSvL3DtJ0de"
      }
    },
    {
      "cell_type": "code",
      "source": [
        "gb = GradientBoostingClassifier()\n",
        "gb.fit(x_train,y_train)"
      ],
      "metadata": {
        "colab": {
          "base_uri": "https://localhost:8080/",
          "height": 75
        },
        "id": "7GH3wsrtGII2",
        "outputId": "02dba0be-b3e6-46a3-fb71-629cbf1adaec"
      },
      "execution_count": 118,
      "outputs": [
        {
          "output_type": "execute_result",
          "data": {
            "text/plain": [
              "GradientBoostingClassifier()"
            ],
            "text/html": [
              "<style>#sk-container-id-3 {color: black;background-color: white;}#sk-container-id-3 pre{padding: 0;}#sk-container-id-3 div.sk-toggleable {background-color: white;}#sk-container-id-3 label.sk-toggleable__label {cursor: pointer;display: block;width: 100%;margin-bottom: 0;padding: 0.3em;box-sizing: border-box;text-align: center;}#sk-container-id-3 label.sk-toggleable__label-arrow:before {content: \"▸\";float: left;margin-right: 0.25em;color: #696969;}#sk-container-id-3 label.sk-toggleable__label-arrow:hover:before {color: black;}#sk-container-id-3 div.sk-estimator:hover label.sk-toggleable__label-arrow:before {color: black;}#sk-container-id-3 div.sk-toggleable__content {max-height: 0;max-width: 0;overflow: hidden;text-align: left;background-color: #f0f8ff;}#sk-container-id-3 div.sk-toggleable__content pre {margin: 0.2em;color: black;border-radius: 0.25em;background-color: #f0f8ff;}#sk-container-id-3 input.sk-toggleable__control:checked~div.sk-toggleable__content {max-height: 200px;max-width: 100%;overflow: auto;}#sk-container-id-3 input.sk-toggleable__control:checked~label.sk-toggleable__label-arrow:before {content: \"▾\";}#sk-container-id-3 div.sk-estimator input.sk-toggleable__control:checked~label.sk-toggleable__label {background-color: #d4ebff;}#sk-container-id-3 div.sk-label input.sk-toggleable__control:checked~label.sk-toggleable__label {background-color: #d4ebff;}#sk-container-id-3 input.sk-hidden--visually {border: 0;clip: rect(1px 1px 1px 1px);clip: rect(1px, 1px, 1px, 1px);height: 1px;margin: -1px;overflow: hidden;padding: 0;position: absolute;width: 1px;}#sk-container-id-3 div.sk-estimator {font-family: monospace;background-color: #f0f8ff;border: 1px dotted black;border-radius: 0.25em;box-sizing: border-box;margin-bottom: 0.5em;}#sk-container-id-3 div.sk-estimator:hover {background-color: #d4ebff;}#sk-container-id-3 div.sk-parallel-item::after {content: \"\";width: 100%;border-bottom: 1px solid gray;flex-grow: 1;}#sk-container-id-3 div.sk-label:hover label.sk-toggleable__label {background-color: #d4ebff;}#sk-container-id-3 div.sk-serial::before {content: \"\";position: absolute;border-left: 1px solid gray;box-sizing: border-box;top: 0;bottom: 0;left: 50%;z-index: 0;}#sk-container-id-3 div.sk-serial {display: flex;flex-direction: column;align-items: center;background-color: white;padding-right: 0.2em;padding-left: 0.2em;position: relative;}#sk-container-id-3 div.sk-item {position: relative;z-index: 1;}#sk-container-id-3 div.sk-parallel {display: flex;align-items: stretch;justify-content: center;background-color: white;position: relative;}#sk-container-id-3 div.sk-item::before, #sk-container-id-3 div.sk-parallel-item::before {content: \"\";position: absolute;border-left: 1px solid gray;box-sizing: border-box;top: 0;bottom: 0;left: 50%;z-index: -1;}#sk-container-id-3 div.sk-parallel-item {display: flex;flex-direction: column;z-index: 1;position: relative;background-color: white;}#sk-container-id-3 div.sk-parallel-item:first-child::after {align-self: flex-end;width: 50%;}#sk-container-id-3 div.sk-parallel-item:last-child::after {align-self: flex-start;width: 50%;}#sk-container-id-3 div.sk-parallel-item:only-child::after {width: 0;}#sk-container-id-3 div.sk-dashed-wrapped {border: 1px dashed gray;margin: 0 0.4em 0.5em 0.4em;box-sizing: border-box;padding-bottom: 0.4em;background-color: white;}#sk-container-id-3 div.sk-label label {font-family: monospace;font-weight: bold;display: inline-block;line-height: 1.2em;}#sk-container-id-3 div.sk-label-container {text-align: center;}#sk-container-id-3 div.sk-container {/* jupyter's `normalize.less` sets `[hidden] { display: none; }` but bootstrap.min.css set `[hidden] { display: none !important; }` so we also need the `!important` here to be able to override the default hidden behavior on the sphinx rendered scikit-learn.org. See: https://github.com/scikit-learn/scikit-learn/issues/21755 */display: inline-block !important;position: relative;}#sk-container-id-3 div.sk-text-repr-fallback {display: none;}</style><div id=\"sk-container-id-3\" class=\"sk-top-container\"><div class=\"sk-text-repr-fallback\"><pre>GradientBoostingClassifier()</pre><b>In a Jupyter environment, please rerun this cell to show the HTML representation or trust the notebook. <br />On GitHub, the HTML representation is unable to render, please try loading this page with nbviewer.org.</b></div><div class=\"sk-container\" hidden><div class=\"sk-item\"><div class=\"sk-estimator sk-toggleable\"><input class=\"sk-toggleable__control sk-hidden--visually\" id=\"sk-estimator-id-3\" type=\"checkbox\" checked><label for=\"sk-estimator-id-3\" class=\"sk-toggleable__label sk-toggleable__label-arrow\">GradientBoostingClassifier</label><div class=\"sk-toggleable__content\"><pre>GradientBoostingClassifier()</pre></div></div></div></div></div>"
            ]
          },
          "metadata": {},
          "execution_count": 118
        }
      ]
    },
    {
      "cell_type": "code",
      "source": [
        "y_pred_prob = gb.predict_proba(x_test)\n",
        "y_pred = gb.predict(x_test)"
      ],
      "metadata": {
        "id": "sBzIOsfIGIFb"
      },
      "execution_count": 119,
      "outputs": []
    },
    {
      "cell_type": "code",
      "source": [
        "target = ['Level 1 - Use of Force', 'Level 2 - Use of Force', \t'Level 3 - Use of Force', \t'Level 3 - OIS']\n",
        "metricas(y_test_,y_pred, gb.__class__.__name__, target)\n",
        "print(f\"Logloss = {log_loss(y_pred=y_pred_prob,y_true=y_test_)}\")"
      ],
      "metadata": {
        "colab": {
          "base_uri": "https://localhost:8080/"
        },
        "id": "rtOIDmwvAoPJ",
        "outputId": "e4ec8254-51e0-4097-8e08-166bdafcd16a"
      },
      "execution_count": 120,
      "outputs": [
        {
          "output_type": "stream",
          "name": "stdout",
          "text": [
            "model GradientBoostingClassifier\n",
            "Acuracia = 73.60120165227187 %\n",
            "Precisao = 71.72602340448037 %\n",
            "Recall = 73.60120165227187 %\n",
            "==================================================\n",
            "                        precision    recall  f1-score   support\n",
            "\n",
            "Level 1 - Use of Force       0.74      0.97      0.84      1874\n",
            "Level 2 - Use of Force       0.70      0.20      0.31       750\n",
            "Level 3 - Use of Force       0.00      0.00      0.00        16\n",
            "         Level 3 - OIS       0.00      0.00      0.00        23\n",
            "\n",
            "              accuracy                           0.74      2663\n",
            "             macro avg       0.36      0.29      0.29      2663\n",
            "          weighted avg       0.72      0.74      0.68      2663\n",
            "\n",
            "Logloss = 0.6093190590216134\n"
          ]
        }
      ]
    },
    {
      "cell_type": "markdown",
      "source": [
        "O modelo teve um desempenho relativamente bom para a classe Level 1 - Use of Force, com uma precisão de 74% e um recall de 97%. Para a classe Level 2 - Use of Force, a precisão foi de 70% e o recall foi de 20%, indicando que o modelo teve mais dificuldade em identificar corretamente as instâncias dessa classe.\n",
        "\n",
        "As classes Level 3 - Use of Force e Level 3 - OIS tiveram uma precisão e recall de 0%, indicando que o modelo não conseguiu identificar nenhuma instância dessas classes corretamente.\n",
        "\n",
        "O Log Loss foi calculado como 0.6093, o que indica a qualidade geral das probabilidades previstas pelo modelo. O valor do Log Loss varia de 0 a infinito, e quanto mais próximo de zero, melhor é a qualidade das probabilidades previstas. O valor do Log Loss do modelo Gradient Boosting Classifier foi menor que o do modelo SVC, o que indica uma melhor calibração das probabilidades previstas pelo modelo."
      ],
      "metadata": {
        "id": "p_Va70noKaDX"
      }
    },
    {
      "cell_type": "code",
      "source": [
        "from scipy.stats import uniform"
      ],
      "metadata": {
        "id": "1QAe_afePiGP"
      },
      "execution_count": 136,
      "outputs": []
    },
    {
      "cell_type": "code",
      "source": [
        "params = {'C':[0.01,1,10] ,\n",
        "          'kernel': ['linear', 'poly', 'rbf', 'sigmoid'],\n",
        "          'gamma': ['scale', 'auto'] + [0.01,1,10]}\n",
        "\n",
        "\n",
        "\n",
        "# Criando o objeto de busca\n",
        "search = RandomizedSearchCV(svc, params, cv=3, n_iter=20, n_jobs=-1, verbose=1, random_state=42)\n",
        "\n",
        "# Realizando a busca pelos melhores hiperparâmetros\n",
        "search.fit(x_train, y_train)\n",
        "\n",
        "# Extraindo os melhores hiperparâmetros\n",
        "print(\"Melhores hiperparâmetros: \", search.best_params_)"
      ],
      "metadata": {
        "colab": {
          "base_uri": "https://localhost:8080/"
        },
        "id": "rErZxsVYPUha",
        "outputId": "40258e6d-d3cc-44cf-ffda-7c38463cb26b"
      },
      "execution_count": 183,
      "outputs": [
        {
          "output_type": "stream",
          "name": "stdout",
          "text": [
            "Fitting 3 folds for each of 20 candidates, totalling 60 fits\n",
            "Melhores hiperparâmetros:  {'kernel': 'poly', 'gamma': 1, 'C': 0.01}\n"
          ]
        }
      ]
    },
    {
      "cell_type": "code",
      "source": [
        "# Treinando os modelos com os melhores hiperparâmetros\n",
        "svc_best = SVC(**search.best_params_)\n",
        "svc_best.set_params(probability=True)\n",
        "svc_best.fit(X_train, y_train)"
      ],
      "metadata": {
        "colab": {
          "base_uri": "https://localhost:8080/",
          "height": 75
        },
        "id": "sQFVVRonqwyE",
        "outputId": "5ed3eb49-a045-426b-95c8-d5c62e6ecf82"
      },
      "execution_count": 187,
      "outputs": [
        {
          "output_type": "execute_result",
          "data": {
            "text/plain": [
              "SVC(C=0.01, gamma=1, kernel='poly', probability=True)"
            ],
            "text/html": [
              "<style>#sk-container-id-8 {color: black;background-color: white;}#sk-container-id-8 pre{padding: 0;}#sk-container-id-8 div.sk-toggleable {background-color: white;}#sk-container-id-8 label.sk-toggleable__label {cursor: pointer;display: block;width: 100%;margin-bottom: 0;padding: 0.3em;box-sizing: border-box;text-align: center;}#sk-container-id-8 label.sk-toggleable__label-arrow:before {content: \"▸\";float: left;margin-right: 0.25em;color: #696969;}#sk-container-id-8 label.sk-toggleable__label-arrow:hover:before {color: black;}#sk-container-id-8 div.sk-estimator:hover label.sk-toggleable__label-arrow:before {color: black;}#sk-container-id-8 div.sk-toggleable__content {max-height: 0;max-width: 0;overflow: hidden;text-align: left;background-color: #f0f8ff;}#sk-container-id-8 div.sk-toggleable__content pre {margin: 0.2em;color: black;border-radius: 0.25em;background-color: #f0f8ff;}#sk-container-id-8 input.sk-toggleable__control:checked~div.sk-toggleable__content {max-height: 200px;max-width: 100%;overflow: auto;}#sk-container-id-8 input.sk-toggleable__control:checked~label.sk-toggleable__label-arrow:before {content: \"▾\";}#sk-container-id-8 div.sk-estimator input.sk-toggleable__control:checked~label.sk-toggleable__label {background-color: #d4ebff;}#sk-container-id-8 div.sk-label input.sk-toggleable__control:checked~label.sk-toggleable__label {background-color: #d4ebff;}#sk-container-id-8 input.sk-hidden--visually {border: 0;clip: rect(1px 1px 1px 1px);clip: rect(1px, 1px, 1px, 1px);height: 1px;margin: -1px;overflow: hidden;padding: 0;position: absolute;width: 1px;}#sk-container-id-8 div.sk-estimator {font-family: monospace;background-color: #f0f8ff;border: 1px dotted black;border-radius: 0.25em;box-sizing: border-box;margin-bottom: 0.5em;}#sk-container-id-8 div.sk-estimator:hover {background-color: #d4ebff;}#sk-container-id-8 div.sk-parallel-item::after {content: \"\";width: 100%;border-bottom: 1px solid gray;flex-grow: 1;}#sk-container-id-8 div.sk-label:hover label.sk-toggleable__label {background-color: #d4ebff;}#sk-container-id-8 div.sk-serial::before {content: \"\";position: absolute;border-left: 1px solid gray;box-sizing: border-box;top: 0;bottom: 0;left: 50%;z-index: 0;}#sk-container-id-8 div.sk-serial {display: flex;flex-direction: column;align-items: center;background-color: white;padding-right: 0.2em;padding-left: 0.2em;position: relative;}#sk-container-id-8 div.sk-item {position: relative;z-index: 1;}#sk-container-id-8 div.sk-parallel {display: flex;align-items: stretch;justify-content: center;background-color: white;position: relative;}#sk-container-id-8 div.sk-item::before, #sk-container-id-8 div.sk-parallel-item::before {content: \"\";position: absolute;border-left: 1px solid gray;box-sizing: border-box;top: 0;bottom: 0;left: 50%;z-index: -1;}#sk-container-id-8 div.sk-parallel-item {display: flex;flex-direction: column;z-index: 1;position: relative;background-color: white;}#sk-container-id-8 div.sk-parallel-item:first-child::after {align-self: flex-end;width: 50%;}#sk-container-id-8 div.sk-parallel-item:last-child::after {align-self: flex-start;width: 50%;}#sk-container-id-8 div.sk-parallel-item:only-child::after {width: 0;}#sk-container-id-8 div.sk-dashed-wrapped {border: 1px dashed gray;margin: 0 0.4em 0.5em 0.4em;box-sizing: border-box;padding-bottom: 0.4em;background-color: white;}#sk-container-id-8 div.sk-label label {font-family: monospace;font-weight: bold;display: inline-block;line-height: 1.2em;}#sk-container-id-8 div.sk-label-container {text-align: center;}#sk-container-id-8 div.sk-container {/* jupyter's `normalize.less` sets `[hidden] { display: none; }` but bootstrap.min.css set `[hidden] { display: none !important; }` so we also need the `!important` here to be able to override the default hidden behavior on the sphinx rendered scikit-learn.org. See: https://github.com/scikit-learn/scikit-learn/issues/21755 */display: inline-block !important;position: relative;}#sk-container-id-8 div.sk-text-repr-fallback {display: none;}</style><div id=\"sk-container-id-8\" class=\"sk-top-container\"><div class=\"sk-text-repr-fallback\"><pre>SVC(C=0.01, gamma=1, kernel=&#x27;poly&#x27;, probability=True)</pre><b>In a Jupyter environment, please rerun this cell to show the HTML representation or trust the notebook. <br />On GitHub, the HTML representation is unable to render, please try loading this page with nbviewer.org.</b></div><div class=\"sk-container\" hidden><div class=\"sk-item\"><div class=\"sk-estimator sk-toggleable\"><input class=\"sk-toggleable__control sk-hidden--visually\" id=\"sk-estimator-id-12\" type=\"checkbox\" checked><label for=\"sk-estimator-id-12\" class=\"sk-toggleable__label sk-toggleable__label-arrow\">SVC</label><div class=\"sk-toggleable__content\"><pre>SVC(C=0.01, gamma=1, kernel=&#x27;poly&#x27;, probability=True)</pre></div></div></div></div></div>"
            ]
          },
          "metadata": {},
          "execution_count": 187
        }
      ]
    },
    {
      "cell_type": "code",
      "source": [
        "y_pred_prob = svc_best.predict_proba(x_test)\n",
        "y_pred = svc_best.predict(x_test)"
      ],
      "metadata": {
        "id": "DR02g3Y0qwYg"
      },
      "execution_count": 188,
      "outputs": []
    },
    {
      "cell_type": "code",
      "source": [
        "target = ['Level 1 - Use of Force', 'Level 2 - Use of Force', \t'Level 3 - Use of Force', \t'Level 3 - OIS']\n",
        "metricas(y_test_,y_pred, svc_best.__class__.__name__, target)\n",
        "print(f\"Logloss = {log_loss(y_pred=y_pred_prob,y_true=y_test_)}\")"
      ],
      "metadata": {
        "colab": {
          "base_uri": "https://localhost:8080/"
        },
        "id": "nYjIdTZHPUdh",
        "outputId": "a24188b4-1967-4e58-c264-d3b3feacd481"
      },
      "execution_count": 189,
      "outputs": [
        {
          "output_type": "stream",
          "name": "stdout",
          "text": [
            "model SVC\n",
            "Acuracia = 73.4885467517837 %\n",
            "Precisao = 71.6724621377444 %\n",
            "Recall = 73.4885467517837 %\n",
            "==================================================\n",
            "                        precision    recall  f1-score   support\n",
            "\n",
            "Level 1 - Use of Force       0.74      0.97      0.84      1874\n",
            "Level 2 - Use of Force       0.70      0.19      0.29       750\n",
            "Level 3 - Use of Force       0.00      0.00      0.00        16\n",
            "         Level 3 - OIS       0.00      0.00      0.00        23\n",
            "\n",
            "              accuracy                           0.73      2663\n",
            "             macro avg       0.36      0.29      0.28      2663\n",
            "          weighted avg       0.72      0.73      0.67      2663\n",
            "\n",
            "Logloss = 0.634188199550686\n"
          ]
        }
      ]
    },
    {
      "cell_type": "code",
      "source": [],
      "metadata": {
        "id": "xCmlPlGJPUUv"
      },
      "execution_count": null,
      "outputs": []
    },
    {
      "cell_type": "code",
      "source": [],
      "metadata": {
        "id": "JkyZuO2pAoMD"
      },
      "execution_count": null,
      "outputs": []
    },
    {
      "cell_type": "markdown",
      "source": [
        "Uma maneira de melhorar é balanceando os dados, vamos tentar essa abbordagem abaixo"
      ],
      "metadata": {
        "id": "dUM7eMCSKfd4"
      }
    },
    {
      "cell_type": "code",
      "source": [],
      "metadata": {
        "id": "sBJ44Tn9ciLz"
      },
      "execution_count": 22,
      "outputs": []
    },
    {
      "cell_type": "markdown",
      "source": [
        "Com Smote"
      ],
      "metadata": {
        "id": "l4iQIs20_2vF"
      }
    },
    {
      "cell_type": "code",
      "source": [
        "x_train_res , y_train_res = Smote(x_train,y_train,4)"
      ],
      "metadata": {
        "id": "Rf71fC_G_41D"
      },
      "execution_count": 121,
      "outputs": []
    },
    {
      "cell_type": "code",
      "source": [
        "print(f\"Shape dos dados de treino x_train_res->{x_train_res.shape} , y_train->{y_train_res.shape}\")\n"
      ],
      "metadata": {
        "colab": {
          "base_uri": "https://localhost:8080/"
        },
        "id": "0MKb4HSx_4yX",
        "outputId": "84f38d3f-79e0-4d3e-b00e-459783cd5623"
      },
      "execution_count": 123,
      "outputs": [
        {
          "output_type": "stream",
          "name": "stdout",
          "text": [
            "Shape dos dados de treino x_train_res->(30240, 70) , y_train->(30240,)\n"
          ]
        }
      ]
    },
    {
      "cell_type": "code",
      "source": [
        "df_treino = run_models_compare(x_train_res , y_train_res,modelos=modelos)"
      ],
      "metadata": {
        "colab": {
          "base_uri": "https://localhost:8080/"
        },
        "id": "vsnRzyHZ_4uC",
        "outputId": "eeb8b5ad-5822-4c15-8dd2-9beaafab2ad9"
      },
      "execution_count": 124,
      "outputs": [
        {
          "output_type": "stream",
          "name": "stdout",
          "text": [
            "--------------------------------------------------\n",
            "LogisticRegression\n",
            "recall : 0.568 std : 0.007\n",
            "Intervalo :  [55.28% ~ 58.23%]\n",
            "\n",
            "precision : 0.566 std : 0.006\n",
            "Intervalo :  [55.45% ~ 57.78%]\n",
            "\n",
            "accuracy : 0.568 std : 0.007\n",
            "Intervalo :  [55.28% ~ 58.23%]\n",
            "\n",
            "\n",
            "DecisionTreeClassifier\n",
            "recall : 0.782 std : 0.008\n",
            "Intervalo :  [76.56% ~ 79.75%]\n",
            "\n",
            "precision : 0.774 std : 0.008\n",
            "Intervalo :  [75.72% ~ 79.03%]\n",
            "\n",
            "accuracy : 0.782 std : 0.008\n",
            "Intervalo :  [76.54% ~ 79.81%]\n",
            "\n",
            "\n",
            "RandomForestClassifier\n",
            "recall : 0.785 std : 0.009\n",
            "Intervalo :  [76.61% ~ 80.32%]\n",
            "\n",
            "precision : 0.777 std : 0.009\n",
            "Intervalo :  [75.86% ~ 79.59%]\n",
            "\n",
            "accuracy : 0.785 std : 0.009\n",
            "Intervalo :  [76.62% ~ 80.36%]\n",
            "\n",
            "\n",
            "AdaBoostClassifier\n",
            "recall : 0.485 std : 0.006\n",
            "Intervalo :  [47.31% ~ 49.73%]\n",
            "\n",
            "precision : 0.502 std : 0.006\n",
            "Intervalo :  [49.01% ~ 51.48%]\n",
            "\n",
            "accuracy : 0.485 std : 0.006\n",
            "Intervalo :  [47.31% ~ 49.73%]\n",
            "\n",
            "\n",
            "GradientBoostingClassifier\n",
            "recall : 0.746 std : 0.01\n",
            "Intervalo :  [72.55% ~ 76.55%]\n",
            "\n",
            "precision : 0.741 std : 0.01\n",
            "Intervalo :  [72.16% ~ 76.03%]\n",
            "\n",
            "accuracy : 0.746 std : 0.01\n",
            "Intervalo :  [72.55% ~ 76.57%]\n",
            "\n",
            "\n",
            "GaussianNB\n",
            "recall : 0.439 std : 0.002\n",
            "Intervalo :  [43.60% ~ 44.23%]\n",
            "\n",
            "precision : 0.562 std : 0.002\n",
            "Intervalo :  [55.75% ~ 56.62%]\n",
            "\n",
            "accuracy : 0.439 std : 0.002\n",
            "Intervalo :  [43.60% ~ 44.23%]\n",
            "\n",
            "\n",
            "SVC\n",
            "recall : 0.745 std : 0.006\n",
            "Intervalo :  [73.27% ~ 75.66%]\n",
            "\n",
            "precision : 0.735 std : 0.007\n",
            "Intervalo :  [72.15% ~ 74.87%]\n",
            "\n",
            "accuracy : 0.745 std : 0.006\n",
            "Intervalo :  [73.27% ~ 75.66%]\n",
            "\n",
            "\n"
          ]
        }
      ]
    },
    {
      "cell_type": "code",
      "source": [
        "df_treino.sort_values(by='precision',ascending=False)"
      ],
      "metadata": {
        "colab": {
          "base_uri": "https://localhost:8080/",
          "height": 269
        },
        "id": "GoMrXx13_4qG",
        "outputId": "24e7cb0c-24e8-4ec9-cf56-47598d8d3367"
      },
      "execution_count": 125,
      "outputs": [
        {
          "output_type": "execute_result",
          "data": {
            "text/plain": [
              "                            recall  precision    acc\n",
              "RandomForestClassifier       0.785      0.777  0.785\n",
              "DecisionTreeClassifier       0.782      0.774  0.782\n",
              "GradientBoostingClassifier   0.746      0.741  0.746\n",
              "SVC                          0.745      0.735  0.745\n",
              "LogisticRegression           0.568      0.566  0.568\n",
              "GaussianNB                   0.439      0.562  0.439\n",
              "AdaBoostClassifier           0.485      0.502  0.485"
            ],
            "text/html": [
              "\n",
              "  <div id=\"df-d5bb73bb-07b9-4faa-a6d6-a2580a8c2eeb\">\n",
              "    <div class=\"colab-df-container\">\n",
              "      <div>\n",
              "<style scoped>\n",
              "    .dataframe tbody tr th:only-of-type {\n",
              "        vertical-align: middle;\n",
              "    }\n",
              "\n",
              "    .dataframe tbody tr th {\n",
              "        vertical-align: top;\n",
              "    }\n",
              "\n",
              "    .dataframe thead th {\n",
              "        text-align: right;\n",
              "    }\n",
              "</style>\n",
              "<table border=\"1\" class=\"dataframe\">\n",
              "  <thead>\n",
              "    <tr style=\"text-align: right;\">\n",
              "      <th></th>\n",
              "      <th>recall</th>\n",
              "      <th>precision</th>\n",
              "      <th>acc</th>\n",
              "    </tr>\n",
              "  </thead>\n",
              "  <tbody>\n",
              "    <tr>\n",
              "      <th>RandomForestClassifier</th>\n",
              "      <td>0.785</td>\n",
              "      <td>0.777</td>\n",
              "      <td>0.785</td>\n",
              "    </tr>\n",
              "    <tr>\n",
              "      <th>DecisionTreeClassifier</th>\n",
              "      <td>0.782</td>\n",
              "      <td>0.774</td>\n",
              "      <td>0.782</td>\n",
              "    </tr>\n",
              "    <tr>\n",
              "      <th>GradientBoostingClassifier</th>\n",
              "      <td>0.746</td>\n",
              "      <td>0.741</td>\n",
              "      <td>0.746</td>\n",
              "    </tr>\n",
              "    <tr>\n",
              "      <th>SVC</th>\n",
              "      <td>0.745</td>\n",
              "      <td>0.735</td>\n",
              "      <td>0.745</td>\n",
              "    </tr>\n",
              "    <tr>\n",
              "      <th>LogisticRegression</th>\n",
              "      <td>0.568</td>\n",
              "      <td>0.566</td>\n",
              "      <td>0.568</td>\n",
              "    </tr>\n",
              "    <tr>\n",
              "      <th>GaussianNB</th>\n",
              "      <td>0.439</td>\n",
              "      <td>0.562</td>\n",
              "      <td>0.439</td>\n",
              "    </tr>\n",
              "    <tr>\n",
              "      <th>AdaBoostClassifier</th>\n",
              "      <td>0.485</td>\n",
              "      <td>0.502</td>\n",
              "      <td>0.485</td>\n",
              "    </tr>\n",
              "  </tbody>\n",
              "</table>\n",
              "</div>\n",
              "      <button class=\"colab-df-convert\" onclick=\"convertToInteractive('df-d5bb73bb-07b9-4faa-a6d6-a2580a8c2eeb')\"\n",
              "              title=\"Convert this dataframe to an interactive table.\"\n",
              "              style=\"display:none;\">\n",
              "        \n",
              "  <svg xmlns=\"http://www.w3.org/2000/svg\" height=\"24px\"viewBox=\"0 0 24 24\"\n",
              "       width=\"24px\">\n",
              "    <path d=\"M0 0h24v24H0V0z\" fill=\"none\"/>\n",
              "    <path d=\"M18.56 5.44l.94 2.06.94-2.06 2.06-.94-2.06-.94-.94-2.06-.94 2.06-2.06.94zm-11 1L8.5 8.5l.94-2.06 2.06-.94-2.06-.94L8.5 2.5l-.94 2.06-2.06.94zm10 10l.94 2.06.94-2.06 2.06-.94-2.06-.94-.94-2.06-.94 2.06-2.06.94z\"/><path d=\"M17.41 7.96l-1.37-1.37c-.4-.4-.92-.59-1.43-.59-.52 0-1.04.2-1.43.59L10.3 9.45l-7.72 7.72c-.78.78-.78 2.05 0 2.83L4 21.41c.39.39.9.59 1.41.59.51 0 1.02-.2 1.41-.59l7.78-7.78 2.81-2.81c.8-.78.8-2.07 0-2.86zM5.41 20L4 18.59l7.72-7.72 1.47 1.35L5.41 20z\"/>\n",
              "  </svg>\n",
              "      </button>\n",
              "      \n",
              "  <style>\n",
              "    .colab-df-container {\n",
              "      display:flex;\n",
              "      flex-wrap:wrap;\n",
              "      gap: 12px;\n",
              "    }\n",
              "\n",
              "    .colab-df-convert {\n",
              "      background-color: #E8F0FE;\n",
              "      border: none;\n",
              "      border-radius: 50%;\n",
              "      cursor: pointer;\n",
              "      display: none;\n",
              "      fill: #1967D2;\n",
              "      height: 32px;\n",
              "      padding: 0 0 0 0;\n",
              "      width: 32px;\n",
              "    }\n",
              "\n",
              "    .colab-df-convert:hover {\n",
              "      background-color: #E2EBFA;\n",
              "      box-shadow: 0px 1px 2px rgba(60, 64, 67, 0.3), 0px 1px 3px 1px rgba(60, 64, 67, 0.15);\n",
              "      fill: #174EA6;\n",
              "    }\n",
              "\n",
              "    [theme=dark] .colab-df-convert {\n",
              "      background-color: #3B4455;\n",
              "      fill: #D2E3FC;\n",
              "    }\n",
              "\n",
              "    [theme=dark] .colab-df-convert:hover {\n",
              "      background-color: #434B5C;\n",
              "      box-shadow: 0px 1px 3px 1px rgba(0, 0, 0, 0.15);\n",
              "      filter: drop-shadow(0px 1px 2px rgba(0, 0, 0, 0.3));\n",
              "      fill: #FFFFFF;\n",
              "    }\n",
              "  </style>\n",
              "\n",
              "      <script>\n",
              "        const buttonEl =\n",
              "          document.querySelector('#df-d5bb73bb-07b9-4faa-a6d6-a2580a8c2eeb button.colab-df-convert');\n",
              "        buttonEl.style.display =\n",
              "          google.colab.kernel.accessAllowed ? 'block' : 'none';\n",
              "\n",
              "        async function convertToInteractive(key) {\n",
              "          const element = document.querySelector('#df-d5bb73bb-07b9-4faa-a6d6-a2580a8c2eeb');\n",
              "          const dataTable =\n",
              "            await google.colab.kernel.invokeFunction('convertToInteractive',\n",
              "                                                     [key], {});\n",
              "          if (!dataTable) return;\n",
              "\n",
              "          const docLinkHtml = 'Like what you see? Visit the ' +\n",
              "            '<a target=\"_blank\" href=https://colab.research.google.com/notebooks/data_table.ipynb>data table notebook</a>'\n",
              "            + ' to learn more about interactive tables.';\n",
              "          element.innerHTML = '';\n",
              "          dataTable['output_type'] = 'display_data';\n",
              "          await google.colab.output.renderOutput(dataTable, element);\n",
              "          const docLink = document.createElement('div');\n",
              "          docLink.innerHTML = docLinkHtml;\n",
              "          element.appendChild(docLink);\n",
              "        }\n",
              "      </script>\n",
              "    </div>\n",
              "  </div>\n",
              "  "
            ]
          },
          "metadata": {},
          "execution_count": 125
        }
      ]
    },
    {
      "cell_type": "markdown",
      "source": [
        "Aqui já tivemos resultados diferentes onde os 2 primeiros modelos foram RandomForest e DecisionTree, agora vamos chegar como nos passos anteriores"
      ],
      "metadata": {
        "id": "dBiP5D_NNyLa"
      }
    },
    {
      "cell_type": "code",
      "source": [
        "rf = RandomForestClassifier()\n",
        "dt = DecisionTreeClassifier()"
      ],
      "metadata": {
        "id": "XzU-TUmS_4mq"
      },
      "execution_count": 126,
      "outputs": []
    },
    {
      "cell_type": "markdown",
      "source": [
        "RandomForest"
      ],
      "metadata": {
        "id": "YKpOd3l7OMky"
      }
    },
    {
      "cell_type": "code",
      "source": [
        "rf.fit(x_train,y_train)\n",
        "y_pred_prob = rf.predict_proba(x_test)\n",
        "y_pred = rf.predict(x_test)"
      ],
      "metadata": {
        "id": "By73aMLe_4iK"
      },
      "execution_count": 131,
      "outputs": []
    },
    {
      "cell_type": "code",
      "source": [
        "target = ['Level 1 - Use of Force', 'Level 2 - Use of Force', \t'Level 3 - Use of Force', \t'Level 3 - OIS']\n",
        "metricas(y_test_,y_pred, rf.__class__.__name__, target)\n",
        "print(f\"Logloss = {log_loss(y_pred=y_pred_prob,y_true=y_test_)}\")"
      ],
      "metadata": {
        "colab": {
          "base_uri": "https://localhost:8080/"
        },
        "id": "zm10WULxOMUX",
        "outputId": "0f4b9787-3f6d-43c5-c35b-198152109493"
      },
      "execution_count": 132,
      "outputs": [
        {
          "output_type": "stream",
          "name": "stdout",
          "text": [
            "model RandomForestClassifier\n",
            "Acuracia = 73.37589185129552 %\n",
            "Precisao = 70.58384859334255 %\n",
            "Recall = 73.37589185129552 %\n",
            "==================================================\n",
            "                        precision    recall  f1-score   support\n",
            "\n",
            "Level 1 - Use of Force       0.74      0.95      0.83      1874\n",
            "Level 2 - Use of Force       0.65      0.23      0.34       750\n",
            "Level 3 - Use of Force       0.00      0.00      0.00        16\n",
            "         Level 3 - OIS       0.00      0.00      0.00        23\n",
            "\n",
            "              accuracy                           0.73      2663\n",
            "             macro avg       0.35      0.29      0.29      2663\n",
            "          weighted avg       0.71      0.73      0.68      2663\n",
            "\n",
            "Logloss = 0.9410954314236443\n"
          ]
        }
      ]
    },
    {
      "cell_type": "markdown",
      "source": [
        " A acurácia do modelo foi de 73,30%, o que significa que ele classificou corretamente 73,30% dos exemplos.\n",
        "\n",
        "A precisão do modelo foi de 70,40%, o que significa que de todas as classificações positivas que o modelo fez, 70,40% estavam corretas. O recall do modelo foi de 73,30%, o que significa que ele identificou corretamente 73,30% das instâncias positivas no conjunto de teste.\n",
        "\n",
        "O f1-score é uma média harmônica entre precisão e recall, e o valor para cada classe é uma média harmônica entre precisão e recall para essa classe. O modelo obteve um f1-score de 0,83 para a classe \"Level 1 - Use of Force\", 0,34 para a classe \"Level 2 - Use of Force\", e 0 para as outras duas classes.\n",
        "\n",
        "A métrica de Logloss foi de 0,9765, o que indica o quão bem o modelo é capaz de prever a probabilidade correta para cada classe. Um valor baixo de logloss indica que o modelo é capaz de prever com alta probabilidade a classe correta para cada instância, enquanto um valor alto de logloss indica que o modelo tem dificuldade em prever com alta probabilidade a classe correta.\n",
        "\n",
        "No geral, o modelo parece ter um desempenho razoável na classe \"Level 1 - Use of Force\", mas seu desempenho é bastante ruim para as outras classes, especialmente \"Level 3 - Use of Force\" e \"Level 3 - OIS\". É possível que o modelo precise de ajustes para melhorar seu desempenho nessas classes."
      ],
      "metadata": {
        "id": "KVFnhLoTOyAC"
      }
    },
    {
      "cell_type": "markdown",
      "source": [
        "**DecisionTree**"
      ],
      "metadata": {
        "id": "mhTh9cqtO0O5"
      }
    },
    {
      "cell_type": "code",
      "source": [
        "dt.fit(x_train,y_train)\n",
        "y_pred_prob = dt.predict_proba(x_test)\n",
        "y_pred = dt.predict(x_test)"
      ],
      "metadata": {
        "id": "HrO6VkYCOMQi"
      },
      "execution_count": 134,
      "outputs": []
    },
    {
      "cell_type": "code",
      "source": [
        "target = ['Level 1 - Use of Force', 'Level 2 - Use of Force', \t'Level 3 - Use of Force', \t'Level 3 - OIS']\n",
        "metricas(y_test_,y_pred, dt.__class__.__name__, target)\n",
        "print(f\"Logloss = {log_loss(y_pred=y_pred_prob,y_true=y_test_)}\")"
      ],
      "metadata": {
        "colab": {
          "base_uri": "https://localhost:8080/"
        },
        "id": "SyPv5G5hLHZ9",
        "outputId": "29808dfe-3654-4b5c-c897-2478b9809775"
      },
      "execution_count": 135,
      "outputs": [
        {
          "output_type": "stream",
          "name": "stdout",
          "text": [
            "model DecisionTreeClassifier\n",
            "Acuracia = 73.33834021779947 %\n",
            "Precisao = 70.57929132627746 %\n",
            "Recall = 73.33834021779947 %\n",
            "==================================================\n",
            "                        precision    recall  f1-score   support\n",
            "\n",
            "Level 1 - Use of Force       0.74      0.95      0.83      1874\n",
            "Level 2 - Use of Force       0.65      0.22      0.33       750\n",
            "Level 3 - Use of Force       0.00      0.00      0.00        16\n",
            "         Level 3 - OIS       0.00      0.00      0.00        23\n",
            "\n",
            "              accuracy                           0.73      2663\n",
            "             macro avg       0.35      0.29      0.29      2663\n",
            "          weighted avg       0.71      0.73      0.68      2663\n",
            "\n",
            "Logloss = 1.3120139125322614\n"
          ]
        }
      ]
    },
    {
      "cell_type": "markdown",
      "source": [
        "Apesar da Acuracia boa, nossos modelos não estão sendo precisos com as categorias lvl 3 , algo que é muito ruim"
      ],
      "metadata": {
        "id": "tsmcetPNasRV"
      }
    },
    {
      "cell_type": "code",
      "source": [],
      "metadata": {
        "id": "MWuBH0q0LHXl"
      },
      "execution_count": null,
      "outputs": []
    },
    {
      "cell_type": "code",
      "source": [],
      "metadata": {
        "id": "MJ4PSgt4LHUi"
      },
      "execution_count": null,
      "outputs": []
    },
    {
      "cell_type": "markdown",
      "source": [
        "Tunando os parametros"
      ],
      "metadata": {
        "id": "cOX9ADmLZhY4"
      }
    },
    {
      "cell_type": "code",
      "source": [
        "# Definindo os hiperparâmetros a serem ajustados\n",
        "parametros_rfc = {'n_estimators': [100, 500, 1000, 2000],\n",
        "                  'max_depth': [10, 50, 100, None],\n",
        "                  'max_features': ['auto', 'sqrt'],\n",
        "                  'min_samples_split': [2, 5, 10],\n",
        "                  'min_samples_leaf': [1, 2, 4],\n",
        "                  'class_weight':['balanced','balanced_subsample'],\n",
        "                  'bootstrap': [True, False]\n",
        "                  }\n",
        "                  \n",
        "parametros_dtc = {'criterion': ['gini', 'entropy'],\n",
        "                  'max_depth': [10, 50, 100, None],\n",
        "                  'max_features': ['auto', 'sqrt'],\n",
        "                  'min_samples_split': [2, 5, 10],\n",
        "                  'class_weight':['balanced'],\n",
        "                  'min_samples_leaf': [1, 2, 4]\n",
        "                  }"
      ],
      "metadata": {
        "id": "TiRh6d88LHRp"
      },
      "execution_count": 142,
      "outputs": []
    },
    {
      "cell_type": "code",
      "source": [
        "rfc_random = RandomizedSearchCV(estimator=rf, param_distributions=parametros_rfc, n_iter=20, cv=3, verbose=2, random_state=42, n_jobs=-1)\n",
        "rfc_random.fit(X_train, y_train)\n",
        "\n"
      ],
      "metadata": {
        "colab": {
          "base_uri": "https://localhost:8080/",
          "height": 135
        },
        "id": "NCy1HNZFZhLz",
        "outputId": "26e5e5e8-e971-4a7b-d821-32b13dfc1c55"
      },
      "execution_count": 144,
      "outputs": [
        {
          "output_type": "stream",
          "name": "stdout",
          "text": [
            "Fitting 3 folds for each of 20 candidates, totalling 60 fits\n"
          ]
        },
        {
          "output_type": "execute_result",
          "data": {
            "text/plain": [
              "RandomizedSearchCV(cv=3, estimator=RandomForestClassifier(), n_iter=20,\n",
              "                   n_jobs=-1,\n",
              "                   param_distributions={'bootstrap': [True, False],\n",
              "                                        'max_depth': [10, 50, 100, None],\n",
              "                                        'max_features': ['auto', 'sqrt'],\n",
              "                                        'min_samples_leaf': [1, 2, 4],\n",
              "                                        'min_samples_split': [2, 5, 10],\n",
              "                                        'n_estimators': [100, 500, 1000, 2000]},\n",
              "                   random_state=42, verbose=2)"
            ],
            "text/html": [
              "<style>#sk-container-id-4 {color: black;background-color: white;}#sk-container-id-4 pre{padding: 0;}#sk-container-id-4 div.sk-toggleable {background-color: white;}#sk-container-id-4 label.sk-toggleable__label {cursor: pointer;display: block;width: 100%;margin-bottom: 0;padding: 0.3em;box-sizing: border-box;text-align: center;}#sk-container-id-4 label.sk-toggleable__label-arrow:before {content: \"▸\";float: left;margin-right: 0.25em;color: #696969;}#sk-container-id-4 label.sk-toggleable__label-arrow:hover:before {color: black;}#sk-container-id-4 div.sk-estimator:hover label.sk-toggleable__label-arrow:before {color: black;}#sk-container-id-4 div.sk-toggleable__content {max-height: 0;max-width: 0;overflow: hidden;text-align: left;background-color: #f0f8ff;}#sk-container-id-4 div.sk-toggleable__content pre {margin: 0.2em;color: black;border-radius: 0.25em;background-color: #f0f8ff;}#sk-container-id-4 input.sk-toggleable__control:checked~div.sk-toggleable__content {max-height: 200px;max-width: 100%;overflow: auto;}#sk-container-id-4 input.sk-toggleable__control:checked~label.sk-toggleable__label-arrow:before {content: \"▾\";}#sk-container-id-4 div.sk-estimator input.sk-toggleable__control:checked~label.sk-toggleable__label {background-color: #d4ebff;}#sk-container-id-4 div.sk-label input.sk-toggleable__control:checked~label.sk-toggleable__label {background-color: #d4ebff;}#sk-container-id-4 input.sk-hidden--visually {border: 0;clip: rect(1px 1px 1px 1px);clip: rect(1px, 1px, 1px, 1px);height: 1px;margin: -1px;overflow: hidden;padding: 0;position: absolute;width: 1px;}#sk-container-id-4 div.sk-estimator {font-family: monospace;background-color: #f0f8ff;border: 1px dotted black;border-radius: 0.25em;box-sizing: border-box;margin-bottom: 0.5em;}#sk-container-id-4 div.sk-estimator:hover {background-color: #d4ebff;}#sk-container-id-4 div.sk-parallel-item::after {content: \"\";width: 100%;border-bottom: 1px solid gray;flex-grow: 1;}#sk-container-id-4 div.sk-label:hover label.sk-toggleable__label {background-color: #d4ebff;}#sk-container-id-4 div.sk-serial::before {content: \"\";position: absolute;border-left: 1px solid gray;box-sizing: border-box;top: 0;bottom: 0;left: 50%;z-index: 0;}#sk-container-id-4 div.sk-serial {display: flex;flex-direction: column;align-items: center;background-color: white;padding-right: 0.2em;padding-left: 0.2em;position: relative;}#sk-container-id-4 div.sk-item {position: relative;z-index: 1;}#sk-container-id-4 div.sk-parallel {display: flex;align-items: stretch;justify-content: center;background-color: white;position: relative;}#sk-container-id-4 div.sk-item::before, #sk-container-id-4 div.sk-parallel-item::before {content: \"\";position: absolute;border-left: 1px solid gray;box-sizing: border-box;top: 0;bottom: 0;left: 50%;z-index: -1;}#sk-container-id-4 div.sk-parallel-item {display: flex;flex-direction: column;z-index: 1;position: relative;background-color: white;}#sk-container-id-4 div.sk-parallel-item:first-child::after {align-self: flex-end;width: 50%;}#sk-container-id-4 div.sk-parallel-item:last-child::after {align-self: flex-start;width: 50%;}#sk-container-id-4 div.sk-parallel-item:only-child::after {width: 0;}#sk-container-id-4 div.sk-dashed-wrapped {border: 1px dashed gray;margin: 0 0.4em 0.5em 0.4em;box-sizing: border-box;padding-bottom: 0.4em;background-color: white;}#sk-container-id-4 div.sk-label label {font-family: monospace;font-weight: bold;display: inline-block;line-height: 1.2em;}#sk-container-id-4 div.sk-label-container {text-align: center;}#sk-container-id-4 div.sk-container {/* jupyter's `normalize.less` sets `[hidden] { display: none; }` but bootstrap.min.css set `[hidden] { display: none !important; }` so we also need the `!important` here to be able to override the default hidden behavior on the sphinx rendered scikit-learn.org. See: https://github.com/scikit-learn/scikit-learn/issues/21755 */display: inline-block !important;position: relative;}#sk-container-id-4 div.sk-text-repr-fallback {display: none;}</style><div id=\"sk-container-id-4\" class=\"sk-top-container\"><div class=\"sk-text-repr-fallback\"><pre>RandomizedSearchCV(cv=3, estimator=RandomForestClassifier(), n_iter=20,\n",
              "                   n_jobs=-1,\n",
              "                   param_distributions={&#x27;bootstrap&#x27;: [True, False],\n",
              "                                        &#x27;max_depth&#x27;: [10, 50, 100, None],\n",
              "                                        &#x27;max_features&#x27;: [&#x27;auto&#x27;, &#x27;sqrt&#x27;],\n",
              "                                        &#x27;min_samples_leaf&#x27;: [1, 2, 4],\n",
              "                                        &#x27;min_samples_split&#x27;: [2, 5, 10],\n",
              "                                        &#x27;n_estimators&#x27;: [100, 500, 1000, 2000]},\n",
              "                   random_state=42, verbose=2)</pre><b>In a Jupyter environment, please rerun this cell to show the HTML representation or trust the notebook. <br />On GitHub, the HTML representation is unable to render, please try loading this page with nbviewer.org.</b></div><div class=\"sk-container\" hidden><div class=\"sk-item sk-dashed-wrapped\"><div class=\"sk-label-container\"><div class=\"sk-label sk-toggleable\"><input class=\"sk-toggleable__control sk-hidden--visually\" id=\"sk-estimator-id-4\" type=\"checkbox\" ><label for=\"sk-estimator-id-4\" class=\"sk-toggleable__label sk-toggleable__label-arrow\">RandomizedSearchCV</label><div class=\"sk-toggleable__content\"><pre>RandomizedSearchCV(cv=3, estimator=RandomForestClassifier(), n_iter=20,\n",
              "                   n_jobs=-1,\n",
              "                   param_distributions={&#x27;bootstrap&#x27;: [True, False],\n",
              "                                        &#x27;max_depth&#x27;: [10, 50, 100, None],\n",
              "                                        &#x27;max_features&#x27;: [&#x27;auto&#x27;, &#x27;sqrt&#x27;],\n",
              "                                        &#x27;min_samples_leaf&#x27;: [1, 2, 4],\n",
              "                                        &#x27;min_samples_split&#x27;: [2, 5, 10],\n",
              "                                        &#x27;n_estimators&#x27;: [100, 500, 1000, 2000]},\n",
              "                   random_state=42, verbose=2)</pre></div></div></div><div class=\"sk-parallel\"><div class=\"sk-parallel-item\"><div class=\"sk-item\"><div class=\"sk-label-container\"><div class=\"sk-label sk-toggleable\"><input class=\"sk-toggleable__control sk-hidden--visually\" id=\"sk-estimator-id-5\" type=\"checkbox\" ><label for=\"sk-estimator-id-5\" class=\"sk-toggleable__label sk-toggleable__label-arrow\">estimator: RandomForestClassifier</label><div class=\"sk-toggleable__content\"><pre>RandomForestClassifier()</pre></div></div></div><div class=\"sk-serial\"><div class=\"sk-item\"><div class=\"sk-estimator sk-toggleable\"><input class=\"sk-toggleable__control sk-hidden--visually\" id=\"sk-estimator-id-6\" type=\"checkbox\" ><label for=\"sk-estimator-id-6\" class=\"sk-toggleable__label sk-toggleable__label-arrow\">RandomForestClassifier</label><div class=\"sk-toggleable__content\"><pre>RandomForestClassifier()</pre></div></div></div></div></div></div></div></div></div></div>"
            ]
          },
          "metadata": {},
          "execution_count": 144
        }
      ]
    },
    {
      "cell_type": "code",
      "source": [
        "dtc_random = RandomizedSearchCV(estimator=dt, param_distributions=parametros_dtc, n_iter=20, cv=3, verbose=2, random_state=42, n_jobs=-1)\n",
        "dtc_random.fit(X_train, y_train)"
      ],
      "metadata": {
        "colab": {
          "base_uri": "https://localhost:8080/",
          "height": 135
        },
        "id": "g-x5GOOqZhC8",
        "outputId": "204cba07-fbf7-41b1-d14a-67087bcc6555"
      },
      "execution_count": 145,
      "outputs": [
        {
          "output_type": "stream",
          "name": "stdout",
          "text": [
            "Fitting 3 folds for each of 20 candidates, totalling 60 fits\n"
          ]
        },
        {
          "output_type": "execute_result",
          "data": {
            "text/plain": [
              "RandomizedSearchCV(cv=3, estimator=DecisionTreeClassifier(), n_iter=20,\n",
              "                   n_jobs=-1,\n",
              "                   param_distributions={'criterion': ['gini', 'entropy'],\n",
              "                                        'max_depth': [10, 50, 100, None],\n",
              "                                        'max_features': ['auto', 'sqrt'],\n",
              "                                        'min_samples_leaf': [1, 2, 4],\n",
              "                                        'min_samples_split': [2, 5, 10]},\n",
              "                   random_state=42, verbose=2)"
            ],
            "text/html": [
              "<style>#sk-container-id-5 {color: black;background-color: white;}#sk-container-id-5 pre{padding: 0;}#sk-container-id-5 div.sk-toggleable {background-color: white;}#sk-container-id-5 label.sk-toggleable__label {cursor: pointer;display: block;width: 100%;margin-bottom: 0;padding: 0.3em;box-sizing: border-box;text-align: center;}#sk-container-id-5 label.sk-toggleable__label-arrow:before {content: \"▸\";float: left;margin-right: 0.25em;color: #696969;}#sk-container-id-5 label.sk-toggleable__label-arrow:hover:before {color: black;}#sk-container-id-5 div.sk-estimator:hover label.sk-toggleable__label-arrow:before {color: black;}#sk-container-id-5 div.sk-toggleable__content {max-height: 0;max-width: 0;overflow: hidden;text-align: left;background-color: #f0f8ff;}#sk-container-id-5 div.sk-toggleable__content pre {margin: 0.2em;color: black;border-radius: 0.25em;background-color: #f0f8ff;}#sk-container-id-5 input.sk-toggleable__control:checked~div.sk-toggleable__content {max-height: 200px;max-width: 100%;overflow: auto;}#sk-container-id-5 input.sk-toggleable__control:checked~label.sk-toggleable__label-arrow:before {content: \"▾\";}#sk-container-id-5 div.sk-estimator input.sk-toggleable__control:checked~label.sk-toggleable__label {background-color: #d4ebff;}#sk-container-id-5 div.sk-label input.sk-toggleable__control:checked~label.sk-toggleable__label {background-color: #d4ebff;}#sk-container-id-5 input.sk-hidden--visually {border: 0;clip: rect(1px 1px 1px 1px);clip: rect(1px, 1px, 1px, 1px);height: 1px;margin: -1px;overflow: hidden;padding: 0;position: absolute;width: 1px;}#sk-container-id-5 div.sk-estimator {font-family: monospace;background-color: #f0f8ff;border: 1px dotted black;border-radius: 0.25em;box-sizing: border-box;margin-bottom: 0.5em;}#sk-container-id-5 div.sk-estimator:hover {background-color: #d4ebff;}#sk-container-id-5 div.sk-parallel-item::after {content: \"\";width: 100%;border-bottom: 1px solid gray;flex-grow: 1;}#sk-container-id-5 div.sk-label:hover label.sk-toggleable__label {background-color: #d4ebff;}#sk-container-id-5 div.sk-serial::before {content: \"\";position: absolute;border-left: 1px solid gray;box-sizing: border-box;top: 0;bottom: 0;left: 50%;z-index: 0;}#sk-container-id-5 div.sk-serial {display: flex;flex-direction: column;align-items: center;background-color: white;padding-right: 0.2em;padding-left: 0.2em;position: relative;}#sk-container-id-5 div.sk-item {position: relative;z-index: 1;}#sk-container-id-5 div.sk-parallel {display: flex;align-items: stretch;justify-content: center;background-color: white;position: relative;}#sk-container-id-5 div.sk-item::before, #sk-container-id-5 div.sk-parallel-item::before {content: \"\";position: absolute;border-left: 1px solid gray;box-sizing: border-box;top: 0;bottom: 0;left: 50%;z-index: -1;}#sk-container-id-5 div.sk-parallel-item {display: flex;flex-direction: column;z-index: 1;position: relative;background-color: white;}#sk-container-id-5 div.sk-parallel-item:first-child::after {align-self: flex-end;width: 50%;}#sk-container-id-5 div.sk-parallel-item:last-child::after {align-self: flex-start;width: 50%;}#sk-container-id-5 div.sk-parallel-item:only-child::after {width: 0;}#sk-container-id-5 div.sk-dashed-wrapped {border: 1px dashed gray;margin: 0 0.4em 0.5em 0.4em;box-sizing: border-box;padding-bottom: 0.4em;background-color: white;}#sk-container-id-5 div.sk-label label {font-family: monospace;font-weight: bold;display: inline-block;line-height: 1.2em;}#sk-container-id-5 div.sk-label-container {text-align: center;}#sk-container-id-5 div.sk-container {/* jupyter's `normalize.less` sets `[hidden] { display: none; }` but bootstrap.min.css set `[hidden] { display: none !important; }` so we also need the `!important` here to be able to override the default hidden behavior on the sphinx rendered scikit-learn.org. See: https://github.com/scikit-learn/scikit-learn/issues/21755 */display: inline-block !important;position: relative;}#sk-container-id-5 div.sk-text-repr-fallback {display: none;}</style><div id=\"sk-container-id-5\" class=\"sk-top-container\"><div class=\"sk-text-repr-fallback\"><pre>RandomizedSearchCV(cv=3, estimator=DecisionTreeClassifier(), n_iter=20,\n",
              "                   n_jobs=-1,\n",
              "                   param_distributions={&#x27;criterion&#x27;: [&#x27;gini&#x27;, &#x27;entropy&#x27;],\n",
              "                                        &#x27;max_depth&#x27;: [10, 50, 100, None],\n",
              "                                        &#x27;max_features&#x27;: [&#x27;auto&#x27;, &#x27;sqrt&#x27;],\n",
              "                                        &#x27;min_samples_leaf&#x27;: [1, 2, 4],\n",
              "                                        &#x27;min_samples_split&#x27;: [2, 5, 10]},\n",
              "                   random_state=42, verbose=2)</pre><b>In a Jupyter environment, please rerun this cell to show the HTML representation or trust the notebook. <br />On GitHub, the HTML representation is unable to render, please try loading this page with nbviewer.org.</b></div><div class=\"sk-container\" hidden><div class=\"sk-item sk-dashed-wrapped\"><div class=\"sk-label-container\"><div class=\"sk-label sk-toggleable\"><input class=\"sk-toggleable__control sk-hidden--visually\" id=\"sk-estimator-id-7\" type=\"checkbox\" ><label for=\"sk-estimator-id-7\" class=\"sk-toggleable__label sk-toggleable__label-arrow\">RandomizedSearchCV</label><div class=\"sk-toggleable__content\"><pre>RandomizedSearchCV(cv=3, estimator=DecisionTreeClassifier(), n_iter=20,\n",
              "                   n_jobs=-1,\n",
              "                   param_distributions={&#x27;criterion&#x27;: [&#x27;gini&#x27;, &#x27;entropy&#x27;],\n",
              "                                        &#x27;max_depth&#x27;: [10, 50, 100, None],\n",
              "                                        &#x27;max_features&#x27;: [&#x27;auto&#x27;, &#x27;sqrt&#x27;],\n",
              "                                        &#x27;min_samples_leaf&#x27;: [1, 2, 4],\n",
              "                                        &#x27;min_samples_split&#x27;: [2, 5, 10]},\n",
              "                   random_state=42, verbose=2)</pre></div></div></div><div class=\"sk-parallel\"><div class=\"sk-parallel-item\"><div class=\"sk-item\"><div class=\"sk-label-container\"><div class=\"sk-label sk-toggleable\"><input class=\"sk-toggleable__control sk-hidden--visually\" id=\"sk-estimator-id-8\" type=\"checkbox\" ><label for=\"sk-estimator-id-8\" class=\"sk-toggleable__label sk-toggleable__label-arrow\">estimator: DecisionTreeClassifier</label><div class=\"sk-toggleable__content\"><pre>DecisionTreeClassifier()</pre></div></div></div><div class=\"sk-serial\"><div class=\"sk-item\"><div class=\"sk-estimator sk-toggleable\"><input class=\"sk-toggleable__control sk-hidden--visually\" id=\"sk-estimator-id-9\" type=\"checkbox\" ><label for=\"sk-estimator-id-9\" class=\"sk-toggleable__label sk-toggleable__label-arrow\">DecisionTreeClassifier</label><div class=\"sk-toggleable__content\"><pre>DecisionTreeClassifier()</pre></div></div></div></div></div></div></div></div></div></div>"
            ]
          },
          "metadata": {},
          "execution_count": 145
        }
      ]
    },
    {
      "cell_type": "code",
      "source": [
        "print(\"Melhores parâmetros para Random Forest:\", rfc_random.best_params_)\n",
        "print(\"Melhores parâmetros para Decision Tree:\", dtc_random.best_params_)"
      ],
      "metadata": {
        "colab": {
          "base_uri": "https://localhost:8080/"
        },
        "id": "7_hxpbj2aPuL",
        "outputId": "40239271-ed89-4d36-cdc3-29da90f334d5"
      },
      "execution_count": 146,
      "outputs": [
        {
          "output_type": "stream",
          "name": "stdout",
          "text": [
            "Melhores parâmetros para Random Forest: {'n_estimators': 2000, 'min_samples_split': 10, 'min_samples_leaf': 2, 'max_features': 'auto', 'max_depth': 100, 'bootstrap': True}\n",
            "Melhores parâmetros para Decision Tree: {'min_samples_split': 5, 'min_samples_leaf': 1, 'max_features': 'auto', 'max_depth': 50, 'criterion': 'gini'}\n"
          ]
        }
      ]
    },
    {
      "cell_type": "code",
      "source": [
        "# Treinando os modelos com os melhores hiperparâmetros\n",
        "rfc_best = RandomForestClassifier(**rfc_random.best_params_)\n",
        "rfc_best.fit(X_train, y_train)\n",
        "\n",
        "dtc_best = DecisionTreeClassifier(**dtc_random.best_params_)\n",
        "dtc_best.fit(X_train, y_train)"
      ],
      "metadata": {
        "colab": {
          "base_uri": "https://localhost:8080/",
          "height": 75
        },
        "id": "lliutNavaZJr",
        "outputId": "cfca9efd-737f-4431-9b63-bb970e0af20e"
      },
      "execution_count": 147,
      "outputs": [
        {
          "output_type": "execute_result",
          "data": {
            "text/plain": [
              "DecisionTreeClassifier(max_depth=50, max_features='auto', min_samples_split=5)"
            ],
            "text/html": [
              "<style>#sk-container-id-6 {color: black;background-color: white;}#sk-container-id-6 pre{padding: 0;}#sk-container-id-6 div.sk-toggleable {background-color: white;}#sk-container-id-6 label.sk-toggleable__label {cursor: pointer;display: block;width: 100%;margin-bottom: 0;padding: 0.3em;box-sizing: border-box;text-align: center;}#sk-container-id-6 label.sk-toggleable__label-arrow:before {content: \"▸\";float: left;margin-right: 0.25em;color: #696969;}#sk-container-id-6 label.sk-toggleable__label-arrow:hover:before {color: black;}#sk-container-id-6 div.sk-estimator:hover label.sk-toggleable__label-arrow:before {color: black;}#sk-container-id-6 div.sk-toggleable__content {max-height: 0;max-width: 0;overflow: hidden;text-align: left;background-color: #f0f8ff;}#sk-container-id-6 div.sk-toggleable__content pre {margin: 0.2em;color: black;border-radius: 0.25em;background-color: #f0f8ff;}#sk-container-id-6 input.sk-toggleable__control:checked~div.sk-toggleable__content {max-height: 200px;max-width: 100%;overflow: auto;}#sk-container-id-6 input.sk-toggleable__control:checked~label.sk-toggleable__label-arrow:before {content: \"▾\";}#sk-container-id-6 div.sk-estimator input.sk-toggleable__control:checked~label.sk-toggleable__label {background-color: #d4ebff;}#sk-container-id-6 div.sk-label input.sk-toggleable__control:checked~label.sk-toggleable__label {background-color: #d4ebff;}#sk-container-id-6 input.sk-hidden--visually {border: 0;clip: rect(1px 1px 1px 1px);clip: rect(1px, 1px, 1px, 1px);height: 1px;margin: -1px;overflow: hidden;padding: 0;position: absolute;width: 1px;}#sk-container-id-6 div.sk-estimator {font-family: monospace;background-color: #f0f8ff;border: 1px dotted black;border-radius: 0.25em;box-sizing: border-box;margin-bottom: 0.5em;}#sk-container-id-6 div.sk-estimator:hover {background-color: #d4ebff;}#sk-container-id-6 div.sk-parallel-item::after {content: \"\";width: 100%;border-bottom: 1px solid gray;flex-grow: 1;}#sk-container-id-6 div.sk-label:hover label.sk-toggleable__label {background-color: #d4ebff;}#sk-container-id-6 div.sk-serial::before {content: \"\";position: absolute;border-left: 1px solid gray;box-sizing: border-box;top: 0;bottom: 0;left: 50%;z-index: 0;}#sk-container-id-6 div.sk-serial {display: flex;flex-direction: column;align-items: center;background-color: white;padding-right: 0.2em;padding-left: 0.2em;position: relative;}#sk-container-id-6 div.sk-item {position: relative;z-index: 1;}#sk-container-id-6 div.sk-parallel {display: flex;align-items: stretch;justify-content: center;background-color: white;position: relative;}#sk-container-id-6 div.sk-item::before, #sk-container-id-6 div.sk-parallel-item::before {content: \"\";position: absolute;border-left: 1px solid gray;box-sizing: border-box;top: 0;bottom: 0;left: 50%;z-index: -1;}#sk-container-id-6 div.sk-parallel-item {display: flex;flex-direction: column;z-index: 1;position: relative;background-color: white;}#sk-container-id-6 div.sk-parallel-item:first-child::after {align-self: flex-end;width: 50%;}#sk-container-id-6 div.sk-parallel-item:last-child::after {align-self: flex-start;width: 50%;}#sk-container-id-6 div.sk-parallel-item:only-child::after {width: 0;}#sk-container-id-6 div.sk-dashed-wrapped {border: 1px dashed gray;margin: 0 0.4em 0.5em 0.4em;box-sizing: border-box;padding-bottom: 0.4em;background-color: white;}#sk-container-id-6 div.sk-label label {font-family: monospace;font-weight: bold;display: inline-block;line-height: 1.2em;}#sk-container-id-6 div.sk-label-container {text-align: center;}#sk-container-id-6 div.sk-container {/* jupyter's `normalize.less` sets `[hidden] { display: none; }` but bootstrap.min.css set `[hidden] { display: none !important; }` so we also need the `!important` here to be able to override the default hidden behavior on the sphinx rendered scikit-learn.org. See: https://github.com/scikit-learn/scikit-learn/issues/21755 */display: inline-block !important;position: relative;}#sk-container-id-6 div.sk-text-repr-fallback {display: none;}</style><div id=\"sk-container-id-6\" class=\"sk-top-container\"><div class=\"sk-text-repr-fallback\"><pre>DecisionTreeClassifier(max_depth=50, max_features=&#x27;auto&#x27;, min_samples_split=5)</pre><b>In a Jupyter environment, please rerun this cell to show the HTML representation or trust the notebook. <br />On GitHub, the HTML representation is unable to render, please try loading this page with nbviewer.org.</b></div><div class=\"sk-container\" hidden><div class=\"sk-item\"><div class=\"sk-estimator sk-toggleable\"><input class=\"sk-toggleable__control sk-hidden--visually\" id=\"sk-estimator-id-10\" type=\"checkbox\" checked><label for=\"sk-estimator-id-10\" class=\"sk-toggleable__label sk-toggleable__label-arrow\">DecisionTreeClassifier</label><div class=\"sk-toggleable__content\"><pre>DecisionTreeClassifier(max_depth=50, max_features=&#x27;auto&#x27;, min_samples_split=5)</pre></div></div></div></div></div>"
            ]
          },
          "metadata": {},
          "execution_count": 147
        }
      ]
    },
    {
      "cell_type": "code",
      "source": [
        "y_pred_prob = dtc_best.predict_proba(x_test)\n",
        "y_pred = dtc_best.predict(x_test)"
      ],
      "metadata": {
        "id": "UlyuuHKcacgo"
      },
      "execution_count": 148,
      "outputs": []
    },
    {
      "cell_type": "code",
      "source": [
        "target = ['Level 1 - Use of Force', 'Level 2 - Use of Force', \t'Level 3 - Use of Force', \t'Level 3 - OIS']\n",
        "metricas(y_test_,y_pred, dtc_best.__class__.__name__, target)\n",
        "print(f\"Logloss = {log_loss(y_pred=y_pred_prob,y_true=y_test_)}\")"
      ],
      "metadata": {
        "colab": {
          "base_uri": "https://localhost:8080/"
        },
        "id": "UPVzPVcgagn2",
        "outputId": "554bae24-dde3-41a7-eb37-f869f6ad9b29"
      },
      "execution_count": 150,
      "outputs": [
        {
          "output_type": "stream",
          "name": "stdout",
          "text": [
            "model DecisionTreeClassifier\n",
            "Acuracia = 73.41344348479159 %\n",
            "Precisao = 70.77115031348978 %\n",
            "Recall = 73.41344348479159 %\n",
            "==================================================\n",
            "                        precision    recall  f1-score   support\n",
            "\n",
            "Level 1 - Use of Force       0.74      0.95      0.84      1874\n",
            "Level 2 - Use of Force       0.66      0.22      0.33       750\n",
            "Level 3 - Use of Force       0.00      0.00      0.00        16\n",
            "         Level 3 - OIS       0.00      0.00      0.00        23\n",
            "\n",
            "              accuracy                           0.73      2663\n",
            "             macro avg       0.35      0.29      0.29      2663\n",
            "          weighted avg       0.71      0.73      0.68      2663\n",
            "\n",
            "Logloss = 1.2361583314705202\n"
          ]
        }
      ]
    },
    {
      "cell_type": "markdown",
      "source": [
        "Random Forest"
      ],
      "metadata": {
        "id": "UROumTdkgssZ"
      }
    },
    {
      "cell_type": "code",
      "source": [
        "\n"
      ],
      "metadata": {
        "id": "sCI66R3mgsWY"
      },
      "execution_count": null,
      "outputs": []
    },
    {
      "cell_type": "code",
      "source": [
        "y_pred_prob = rfc_best.predict_proba(x_test)\n",
        "y_pred = rfc_best.predict(x_test)\n",
        "target = ['Level 1 - Use of Force', 'Level 2 - Use of Force', \t'Level 3 - Use of Force', \t'Level 3 - OIS']\n",
        "metricas(y_test_,y_pred, rfc_best.__class__.__name__, target)\n",
        "print(f\"Logloss = {log_loss(y_pred=y_pred_prob,y_true=y_test_)}\")"
      ],
      "metadata": {
        "colab": {
          "base_uri": "https://localhost:8080/"
        },
        "id": "cDP0I7LGgsLk",
        "outputId": "1d0fdd9e-73cc-4e28-c6fd-c049b7945757"
      },
      "execution_count": 151,
      "outputs": [
        {
          "output_type": "stream",
          "name": "stdout",
          "text": [
            "model RandomForestClassifier\n",
            "Acuracia = 73.26323695080737 %\n",
            "Precisao = 70.58172635597221 %\n",
            "Recall = 73.26323695080737 %\n",
            "==================================================\n",
            "                        precision    recall  f1-score   support\n",
            "\n",
            "Level 1 - Use of Force       0.74      0.96      0.83      1874\n",
            "Level 2 - Use of Force       0.66      0.21      0.32       750\n",
            "Level 3 - Use of Force       0.00      0.00      0.00        16\n",
            "         Level 3 - OIS       0.00      0.00      0.00        23\n",
            "\n",
            "              accuracy                           0.73      2663\n",
            "             macro avg       0.35      0.29      0.29      2663\n",
            "          weighted avg       0.71      0.73      0.68      2663\n",
            "\n",
            "Logloss = 0.6162726512331244\n"
          ]
        }
      ]
    },
    {
      "cell_type": "code",
      "source": [
        "df"
      ],
      "metadata": {
        "colab": {
          "base_uri": "https://localhost:8080/",
          "height": 641
        },
        "id": "O697IbR7ok5X",
        "outputId": "29dee7ea-fa0c-4c32-f6b9-f21da3b8f5a1"
      },
      "execution_count": 169,
      "outputs": [
        {
          "output_type": "execute_result",
          "data": {
            "text/plain": [
              "                            ID  Incident_Num           Incident_Type  \\\n",
              "0        2014UOF-0001-1377-203           251  Level 1 - Use of Force   \n",
              "1        2014UOF-0002-1098-166           218  Level 1 - Use of Force   \n",
              "2        2014UOF-0003-1031-125           178  Level 1 - Use of Force   \n",
              "3         2014UOF-0004-767-126           179  Level 1 - Use of Force   \n",
              "4        2014UOF-0005-1473-172           223  Level 1 - Use of Force   \n",
              "...                        ...           ...                     ...   \n",
              "13995  2022UOF-0099-2731-27302         67015  Level 1 - Use of Force   \n",
              "13996  2022UOF-0100-2137-27123         66691  Level 2 - Use of Force   \n",
              "13998  2022UOF-0102-1006-16429         66824  Level 1 - Use of Force   \n",
              "14004   2022UOF-0108-825-27400         67083  Level 1 - Use of Force   \n",
              "14005  2022UOF-0109-1438-17411         67029  Level 1 - Use of Force   \n",
              "\n",
              "        Occured_date_time Precinct   Sector Beat  Officer_ID  Subject_ID  \\\n",
              "0     2014-06-07 00:09:00     East  CHARLIE   C2        1594         203   \n",
              "1     2014-05-30 14:06:00     East   GEORGE   G1        1673         166   \n",
              "2     2014-05-23 17:24:00     West     KING   K3        1690         125   \n",
              "3     2014-05-26 00:10:00     East   EDWARD   E2         953         126   \n",
              "4     2014-06-01 16:03:00    South   ROBERT   R1        1145         172   \n",
              "...                   ...      ...      ...  ...         ...         ...   \n",
              "13995 2022-02-25 03:00:00     West    DAVID   D1        5255       28179   \n",
              "13996 2022-01-27 17:36:00    North     NORA   N2        2140       28000   \n",
              "13998 2022-02-08 12:18:00    North      BOY   B1        1216       17317   \n",
              "14004 2022-03-03 10:30:00    South      SAM   S3         704       28277   \n",
              "14005 2022-02-28 06:30:00    South      SAM   S3        1135       18297   \n",
              "\n",
              "                    Subject_Race Subject_Gender      time  hours       data  \\\n",
              "0      Black or African American           Male  00:09:00      0 2014-06-07   \n",
              "1                          White           Male  14:06:00     14 2014-05-30   \n",
              "2                          Asian         Female  17:24:00     17 2014-05-23   \n",
              "3      Black or African American           Male  00:10:00      0 2014-05-26   \n",
              "4      Black or African American           Male  16:03:00     16 2014-06-01   \n",
              "...                          ...            ...       ...    ...        ...   \n",
              "13995  Black or African American         Female  03:00:00      3 2022-02-25   \n",
              "13996                      White         Female  17:36:00     17 2022-01-27   \n",
              "13998              Not Specified         Female  12:18:00     12 2022-02-08   \n",
              "14004              Not Specified           Male  10:30:00     10 2022-03-03   \n",
              "14005  Black or African American           Male  06:30:00      6 2022-02-28   \n",
              "\n",
              "       day_name  \n",
              "0      Saturday  \n",
              "1        Friday  \n",
              "2        Friday  \n",
              "3        Monday  \n",
              "4        Sunday  \n",
              "...         ...  \n",
              "13995    Friday  \n",
              "13996  Thursday  \n",
              "13998   Tuesday  \n",
              "14004  Thursday  \n",
              "14005    Monday  \n",
              "\n",
              "[13313 rows x 15 columns]"
            ],
            "text/html": [
              "\n",
              "  <div id=\"df-27a885d9-686c-48c1-986f-2e087f236006\">\n",
              "    <div class=\"colab-df-container\">\n",
              "      <div>\n",
              "<style scoped>\n",
              "    .dataframe tbody tr th:only-of-type {\n",
              "        vertical-align: middle;\n",
              "    }\n",
              "\n",
              "    .dataframe tbody tr th {\n",
              "        vertical-align: top;\n",
              "    }\n",
              "\n",
              "    .dataframe thead th {\n",
              "        text-align: right;\n",
              "    }\n",
              "</style>\n",
              "<table border=\"1\" class=\"dataframe\">\n",
              "  <thead>\n",
              "    <tr style=\"text-align: right;\">\n",
              "      <th></th>\n",
              "      <th>ID</th>\n",
              "      <th>Incident_Num</th>\n",
              "      <th>Incident_Type</th>\n",
              "      <th>Occured_date_time</th>\n",
              "      <th>Precinct</th>\n",
              "      <th>Sector</th>\n",
              "      <th>Beat</th>\n",
              "      <th>Officer_ID</th>\n",
              "      <th>Subject_ID</th>\n",
              "      <th>Subject_Race</th>\n",
              "      <th>Subject_Gender</th>\n",
              "      <th>time</th>\n",
              "      <th>hours</th>\n",
              "      <th>data</th>\n",
              "      <th>day_name</th>\n",
              "    </tr>\n",
              "  </thead>\n",
              "  <tbody>\n",
              "    <tr>\n",
              "      <th>0</th>\n",
              "      <td>2014UOF-0001-1377-203</td>\n",
              "      <td>251</td>\n",
              "      <td>Level 1 - Use of Force</td>\n",
              "      <td>2014-06-07 00:09:00</td>\n",
              "      <td>East</td>\n",
              "      <td>CHARLIE</td>\n",
              "      <td>C2</td>\n",
              "      <td>1594</td>\n",
              "      <td>203</td>\n",
              "      <td>Black or African American</td>\n",
              "      <td>Male</td>\n",
              "      <td>00:09:00</td>\n",
              "      <td>0</td>\n",
              "      <td>2014-06-07</td>\n",
              "      <td>Saturday</td>\n",
              "    </tr>\n",
              "    <tr>\n",
              "      <th>1</th>\n",
              "      <td>2014UOF-0002-1098-166</td>\n",
              "      <td>218</td>\n",
              "      <td>Level 1 - Use of Force</td>\n",
              "      <td>2014-05-30 14:06:00</td>\n",
              "      <td>East</td>\n",
              "      <td>GEORGE</td>\n",
              "      <td>G1</td>\n",
              "      <td>1673</td>\n",
              "      <td>166</td>\n",
              "      <td>White</td>\n",
              "      <td>Male</td>\n",
              "      <td>14:06:00</td>\n",
              "      <td>14</td>\n",
              "      <td>2014-05-30</td>\n",
              "      <td>Friday</td>\n",
              "    </tr>\n",
              "    <tr>\n",
              "      <th>2</th>\n",
              "      <td>2014UOF-0003-1031-125</td>\n",
              "      <td>178</td>\n",
              "      <td>Level 1 - Use of Force</td>\n",
              "      <td>2014-05-23 17:24:00</td>\n",
              "      <td>West</td>\n",
              "      <td>KING</td>\n",
              "      <td>K3</td>\n",
              "      <td>1690</td>\n",
              "      <td>125</td>\n",
              "      <td>Asian</td>\n",
              "      <td>Female</td>\n",
              "      <td>17:24:00</td>\n",
              "      <td>17</td>\n",
              "      <td>2014-05-23</td>\n",
              "      <td>Friday</td>\n",
              "    </tr>\n",
              "    <tr>\n",
              "      <th>3</th>\n",
              "      <td>2014UOF-0004-767-126</td>\n",
              "      <td>179</td>\n",
              "      <td>Level 1 - Use of Force</td>\n",
              "      <td>2014-05-26 00:10:00</td>\n",
              "      <td>East</td>\n",
              "      <td>EDWARD</td>\n",
              "      <td>E2</td>\n",
              "      <td>953</td>\n",
              "      <td>126</td>\n",
              "      <td>Black or African American</td>\n",
              "      <td>Male</td>\n",
              "      <td>00:10:00</td>\n",
              "      <td>0</td>\n",
              "      <td>2014-05-26</td>\n",
              "      <td>Monday</td>\n",
              "    </tr>\n",
              "    <tr>\n",
              "      <th>4</th>\n",
              "      <td>2014UOF-0005-1473-172</td>\n",
              "      <td>223</td>\n",
              "      <td>Level 1 - Use of Force</td>\n",
              "      <td>2014-06-01 16:03:00</td>\n",
              "      <td>South</td>\n",
              "      <td>ROBERT</td>\n",
              "      <td>R1</td>\n",
              "      <td>1145</td>\n",
              "      <td>172</td>\n",
              "      <td>Black or African American</td>\n",
              "      <td>Male</td>\n",
              "      <td>16:03:00</td>\n",
              "      <td>16</td>\n",
              "      <td>2014-06-01</td>\n",
              "      <td>Sunday</td>\n",
              "    </tr>\n",
              "    <tr>\n",
              "      <th>...</th>\n",
              "      <td>...</td>\n",
              "      <td>...</td>\n",
              "      <td>...</td>\n",
              "      <td>...</td>\n",
              "      <td>...</td>\n",
              "      <td>...</td>\n",
              "      <td>...</td>\n",
              "      <td>...</td>\n",
              "      <td>...</td>\n",
              "      <td>...</td>\n",
              "      <td>...</td>\n",
              "      <td>...</td>\n",
              "      <td>...</td>\n",
              "      <td>...</td>\n",
              "      <td>...</td>\n",
              "    </tr>\n",
              "    <tr>\n",
              "      <th>13995</th>\n",
              "      <td>2022UOF-0099-2731-27302</td>\n",
              "      <td>67015</td>\n",
              "      <td>Level 1 - Use of Force</td>\n",
              "      <td>2022-02-25 03:00:00</td>\n",
              "      <td>West</td>\n",
              "      <td>DAVID</td>\n",
              "      <td>D1</td>\n",
              "      <td>5255</td>\n",
              "      <td>28179</td>\n",
              "      <td>Black or African American</td>\n",
              "      <td>Female</td>\n",
              "      <td>03:00:00</td>\n",
              "      <td>3</td>\n",
              "      <td>2022-02-25</td>\n",
              "      <td>Friday</td>\n",
              "    </tr>\n",
              "    <tr>\n",
              "      <th>13996</th>\n",
              "      <td>2022UOF-0100-2137-27123</td>\n",
              "      <td>66691</td>\n",
              "      <td>Level 2 - Use of Force</td>\n",
              "      <td>2022-01-27 17:36:00</td>\n",
              "      <td>North</td>\n",
              "      <td>NORA</td>\n",
              "      <td>N2</td>\n",
              "      <td>2140</td>\n",
              "      <td>28000</td>\n",
              "      <td>White</td>\n",
              "      <td>Female</td>\n",
              "      <td>17:36:00</td>\n",
              "      <td>17</td>\n",
              "      <td>2022-01-27</td>\n",
              "      <td>Thursday</td>\n",
              "    </tr>\n",
              "    <tr>\n",
              "      <th>13998</th>\n",
              "      <td>2022UOF-0102-1006-16429</td>\n",
              "      <td>66824</td>\n",
              "      <td>Level 1 - Use of Force</td>\n",
              "      <td>2022-02-08 12:18:00</td>\n",
              "      <td>North</td>\n",
              "      <td>BOY</td>\n",
              "      <td>B1</td>\n",
              "      <td>1216</td>\n",
              "      <td>17317</td>\n",
              "      <td>Not Specified</td>\n",
              "      <td>Female</td>\n",
              "      <td>12:18:00</td>\n",
              "      <td>12</td>\n",
              "      <td>2022-02-08</td>\n",
              "      <td>Tuesday</td>\n",
              "    </tr>\n",
              "    <tr>\n",
              "      <th>14004</th>\n",
              "      <td>2022UOF-0108-825-27400</td>\n",
              "      <td>67083</td>\n",
              "      <td>Level 1 - Use of Force</td>\n",
              "      <td>2022-03-03 10:30:00</td>\n",
              "      <td>South</td>\n",
              "      <td>SAM</td>\n",
              "      <td>S3</td>\n",
              "      <td>704</td>\n",
              "      <td>28277</td>\n",
              "      <td>Not Specified</td>\n",
              "      <td>Male</td>\n",
              "      <td>10:30:00</td>\n",
              "      <td>10</td>\n",
              "      <td>2022-03-03</td>\n",
              "      <td>Thursday</td>\n",
              "    </tr>\n",
              "    <tr>\n",
              "      <th>14005</th>\n",
              "      <td>2022UOF-0109-1438-17411</td>\n",
              "      <td>67029</td>\n",
              "      <td>Level 1 - Use of Force</td>\n",
              "      <td>2022-02-28 06:30:00</td>\n",
              "      <td>South</td>\n",
              "      <td>SAM</td>\n",
              "      <td>S3</td>\n",
              "      <td>1135</td>\n",
              "      <td>18297</td>\n",
              "      <td>Black or African American</td>\n",
              "      <td>Male</td>\n",
              "      <td>06:30:00</td>\n",
              "      <td>6</td>\n",
              "      <td>2022-02-28</td>\n",
              "      <td>Monday</td>\n",
              "    </tr>\n",
              "  </tbody>\n",
              "</table>\n",
              "<p>13313 rows × 15 columns</p>\n",
              "</div>\n",
              "      <button class=\"colab-df-convert\" onclick=\"convertToInteractive('df-27a885d9-686c-48c1-986f-2e087f236006')\"\n",
              "              title=\"Convert this dataframe to an interactive table.\"\n",
              "              style=\"display:none;\">\n",
              "        \n",
              "  <svg xmlns=\"http://www.w3.org/2000/svg\" height=\"24px\"viewBox=\"0 0 24 24\"\n",
              "       width=\"24px\">\n",
              "    <path d=\"M0 0h24v24H0V0z\" fill=\"none\"/>\n",
              "    <path d=\"M18.56 5.44l.94 2.06.94-2.06 2.06-.94-2.06-.94-.94-2.06-.94 2.06-2.06.94zm-11 1L8.5 8.5l.94-2.06 2.06-.94-2.06-.94L8.5 2.5l-.94 2.06-2.06.94zm10 10l.94 2.06.94-2.06 2.06-.94-2.06-.94-.94-2.06-.94 2.06-2.06.94z\"/><path d=\"M17.41 7.96l-1.37-1.37c-.4-.4-.92-.59-1.43-.59-.52 0-1.04.2-1.43.59L10.3 9.45l-7.72 7.72c-.78.78-.78 2.05 0 2.83L4 21.41c.39.39.9.59 1.41.59.51 0 1.02-.2 1.41-.59l7.78-7.78 2.81-2.81c.8-.78.8-2.07 0-2.86zM5.41 20L4 18.59l7.72-7.72 1.47 1.35L5.41 20z\"/>\n",
              "  </svg>\n",
              "      </button>\n",
              "      \n",
              "  <style>\n",
              "    .colab-df-container {\n",
              "      display:flex;\n",
              "      flex-wrap:wrap;\n",
              "      gap: 12px;\n",
              "    }\n",
              "\n",
              "    .colab-df-convert {\n",
              "      background-color: #E8F0FE;\n",
              "      border: none;\n",
              "      border-radius: 50%;\n",
              "      cursor: pointer;\n",
              "      display: none;\n",
              "      fill: #1967D2;\n",
              "      height: 32px;\n",
              "      padding: 0 0 0 0;\n",
              "      width: 32px;\n",
              "    }\n",
              "\n",
              "    .colab-df-convert:hover {\n",
              "      background-color: #E2EBFA;\n",
              "      box-shadow: 0px 1px 2px rgba(60, 64, 67, 0.3), 0px 1px 3px 1px rgba(60, 64, 67, 0.15);\n",
              "      fill: #174EA6;\n",
              "    }\n",
              "\n",
              "    [theme=dark] .colab-df-convert {\n",
              "      background-color: #3B4455;\n",
              "      fill: #D2E3FC;\n",
              "    }\n",
              "\n",
              "    [theme=dark] .colab-df-convert:hover {\n",
              "      background-color: #434B5C;\n",
              "      box-shadow: 0px 1px 3px 1px rgba(0, 0, 0, 0.15);\n",
              "      filter: drop-shadow(0px 1px 2px rgba(0, 0, 0, 0.3));\n",
              "      fill: #FFFFFF;\n",
              "    }\n",
              "  </style>\n",
              "\n",
              "      <script>\n",
              "        const buttonEl =\n",
              "          document.querySelector('#df-27a885d9-686c-48c1-986f-2e087f236006 button.colab-df-convert');\n",
              "        buttonEl.style.display =\n",
              "          google.colab.kernel.accessAllowed ? 'block' : 'none';\n",
              "\n",
              "        async function convertToInteractive(key) {\n",
              "          const element = document.querySelector('#df-27a885d9-686c-48c1-986f-2e087f236006');\n",
              "          const dataTable =\n",
              "            await google.colab.kernel.invokeFunction('convertToInteractive',\n",
              "                                                     [key], {});\n",
              "          if (!dataTable) return;\n",
              "\n",
              "          const docLinkHtml = 'Like what you see? Visit the ' +\n",
              "            '<a target=\"_blank\" href=https://colab.research.google.com/notebooks/data_table.ipynb>data table notebook</a>'\n",
              "            + ' to learn more about interactive tables.';\n",
              "          element.innerHTML = '';\n",
              "          dataTable['output_type'] = 'display_data';\n",
              "          await google.colab.output.renderOutput(dataTable, element);\n",
              "          const docLink = document.createElement('div');\n",
              "          docLink.innerHTML = docLinkHtml;\n",
              "          element.appendChild(docLink);\n",
              "        }\n",
              "      </script>\n",
              "    </div>\n",
              "  </div>\n",
              "  "
            ]
          },
          "metadata": {},
          "execution_count": 169
        }
      ]
    },
    {
      "cell_type": "code",
      "source": [
        "lvl_3_df = df.loc[df.Incident_Type==\"Level 3 - Use of Force\",['Precinct','Beat', 'Subject_Race', 'Subject_Gender','Incident_Type']].head()"
      ],
      "metadata": {
        "id": "Eu0akgLBoYh3"
      },
      "execution_count": 176,
      "outputs": []
    },
    {
      "cell_type": "code",
      "source": [
        "lvl_3_df.drop(columns=['Incident_Type'], inplace=True)"
      ],
      "metadata": {
        "id": "5U3Ws5CZpZY4"
      },
      "execution_count": 178,
      "outputs": []
    },
    {
      "cell_type": "code",
      "source": [
        "y_exp  = lvl_3_df.Incident_Type"
      ],
      "metadata": {
        "id": "O0APv3EugsDk"
      },
      "execution_count": 177,
      "outputs": []
    },
    {
      "cell_type": "code",
      "source": [
        "y_exp_ = le.fit_transform(y_exp)"
      ],
      "metadata": {
        "id": "XnZMR5w6qGks"
      },
      "execution_count": 180,
      "outputs": []
    },
    {
      "cell_type": "code",
      "source": [
        "lvl_3_df = ohe.fit_transform(lvl_3_df[['Precinct', 'Beat', 'Subject_Race', 'Subject_Gender']]).toarray()\n",
        "lvl_3_df = pd.DataFrame(lvl_3_df, columns=ohe.get_feature_names_out(X.columns))\n",
        "lvl_3_df.head(5)"
      ],
      "metadata": {
        "colab": {
          "base_uri": "https://localhost:8080/",
          "height": 206
        },
        "id": "wU4va8t5pg-N",
        "outputId": "626192c7-9d3b-4c77-998c-66806c85a466"
      },
      "execution_count": 179,
      "outputs": [
        {
          "output_type": "execute_result",
          "data": {
            "text/plain": [
              "   Precinct_West  Beat_D1  Beat_D3  Beat_K3  \\\n",
              "0            1.0      0.0      0.0      1.0   \n",
              "1            1.0      0.0      1.0      0.0   \n",
              "2            1.0      0.0      1.0      0.0   \n",
              "3            1.0      0.0      1.0      0.0   \n",
              "4            1.0      1.0      0.0      0.0   \n",
              "\n",
              "   Subject_Race_Black or African American  Subject_Race_White  \\\n",
              "0                                     1.0                 0.0   \n",
              "1                                     1.0                 0.0   \n",
              "2                                     1.0                 0.0   \n",
              "3                                     1.0                 0.0   \n",
              "4                                     0.0                 1.0   \n",
              "\n",
              "   Subject_Gender_Male  \n",
              "0                  1.0  \n",
              "1                  1.0  \n",
              "2                  1.0  \n",
              "3                  1.0  \n",
              "4                  1.0  "
            ],
            "text/html": [
              "\n",
              "  <div id=\"df-6795d107-ee58-4f3b-8510-b88bf420f616\">\n",
              "    <div class=\"colab-df-container\">\n",
              "      <div>\n",
              "<style scoped>\n",
              "    .dataframe tbody tr th:only-of-type {\n",
              "        vertical-align: middle;\n",
              "    }\n",
              "\n",
              "    .dataframe tbody tr th {\n",
              "        vertical-align: top;\n",
              "    }\n",
              "\n",
              "    .dataframe thead th {\n",
              "        text-align: right;\n",
              "    }\n",
              "</style>\n",
              "<table border=\"1\" class=\"dataframe\">\n",
              "  <thead>\n",
              "    <tr style=\"text-align: right;\">\n",
              "      <th></th>\n",
              "      <th>Precinct_West</th>\n",
              "      <th>Beat_D1</th>\n",
              "      <th>Beat_D3</th>\n",
              "      <th>Beat_K3</th>\n",
              "      <th>Subject_Race_Black or African American</th>\n",
              "      <th>Subject_Race_White</th>\n",
              "      <th>Subject_Gender_Male</th>\n",
              "    </tr>\n",
              "  </thead>\n",
              "  <tbody>\n",
              "    <tr>\n",
              "      <th>0</th>\n",
              "      <td>1.0</td>\n",
              "      <td>0.0</td>\n",
              "      <td>0.0</td>\n",
              "      <td>1.0</td>\n",
              "      <td>1.0</td>\n",
              "      <td>0.0</td>\n",
              "      <td>1.0</td>\n",
              "    </tr>\n",
              "    <tr>\n",
              "      <th>1</th>\n",
              "      <td>1.0</td>\n",
              "      <td>0.0</td>\n",
              "      <td>1.0</td>\n",
              "      <td>0.0</td>\n",
              "      <td>1.0</td>\n",
              "      <td>0.0</td>\n",
              "      <td>1.0</td>\n",
              "    </tr>\n",
              "    <tr>\n",
              "      <th>2</th>\n",
              "      <td>1.0</td>\n",
              "      <td>0.0</td>\n",
              "      <td>1.0</td>\n",
              "      <td>0.0</td>\n",
              "      <td>1.0</td>\n",
              "      <td>0.0</td>\n",
              "      <td>1.0</td>\n",
              "    </tr>\n",
              "    <tr>\n",
              "      <th>3</th>\n",
              "      <td>1.0</td>\n",
              "      <td>0.0</td>\n",
              "      <td>1.0</td>\n",
              "      <td>0.0</td>\n",
              "      <td>1.0</td>\n",
              "      <td>0.0</td>\n",
              "      <td>1.0</td>\n",
              "    </tr>\n",
              "    <tr>\n",
              "      <th>4</th>\n",
              "      <td>1.0</td>\n",
              "      <td>1.0</td>\n",
              "      <td>0.0</td>\n",
              "      <td>0.0</td>\n",
              "      <td>0.0</td>\n",
              "      <td>1.0</td>\n",
              "      <td>1.0</td>\n",
              "    </tr>\n",
              "  </tbody>\n",
              "</table>\n",
              "</div>\n",
              "      <button class=\"colab-df-convert\" onclick=\"convertToInteractive('df-6795d107-ee58-4f3b-8510-b88bf420f616')\"\n",
              "              title=\"Convert this dataframe to an interactive table.\"\n",
              "              style=\"display:none;\">\n",
              "        \n",
              "  <svg xmlns=\"http://www.w3.org/2000/svg\" height=\"24px\"viewBox=\"0 0 24 24\"\n",
              "       width=\"24px\">\n",
              "    <path d=\"M0 0h24v24H0V0z\" fill=\"none\"/>\n",
              "    <path d=\"M18.56 5.44l.94 2.06.94-2.06 2.06-.94-2.06-.94-.94-2.06-.94 2.06-2.06.94zm-11 1L8.5 8.5l.94-2.06 2.06-.94-2.06-.94L8.5 2.5l-.94 2.06-2.06.94zm10 10l.94 2.06.94-2.06 2.06-.94-2.06-.94-.94-2.06-.94 2.06-2.06.94z\"/><path d=\"M17.41 7.96l-1.37-1.37c-.4-.4-.92-.59-1.43-.59-.52 0-1.04.2-1.43.59L10.3 9.45l-7.72 7.72c-.78.78-.78 2.05 0 2.83L4 21.41c.39.39.9.59 1.41.59.51 0 1.02-.2 1.41-.59l7.78-7.78 2.81-2.81c.8-.78.8-2.07 0-2.86zM5.41 20L4 18.59l7.72-7.72 1.47 1.35L5.41 20z\"/>\n",
              "  </svg>\n",
              "      </button>\n",
              "      \n",
              "  <style>\n",
              "    .colab-df-container {\n",
              "      display:flex;\n",
              "      flex-wrap:wrap;\n",
              "      gap: 12px;\n",
              "    }\n",
              "\n",
              "    .colab-df-convert {\n",
              "      background-color: #E8F0FE;\n",
              "      border: none;\n",
              "      border-radius: 50%;\n",
              "      cursor: pointer;\n",
              "      display: none;\n",
              "      fill: #1967D2;\n",
              "      height: 32px;\n",
              "      padding: 0 0 0 0;\n",
              "      width: 32px;\n",
              "    }\n",
              "\n",
              "    .colab-df-convert:hover {\n",
              "      background-color: #E2EBFA;\n",
              "      box-shadow: 0px 1px 2px rgba(60, 64, 67, 0.3), 0px 1px 3px 1px rgba(60, 64, 67, 0.15);\n",
              "      fill: #174EA6;\n",
              "    }\n",
              "\n",
              "    [theme=dark] .colab-df-convert {\n",
              "      background-color: #3B4455;\n",
              "      fill: #D2E3FC;\n",
              "    }\n",
              "\n",
              "    [theme=dark] .colab-df-convert:hover {\n",
              "      background-color: #434B5C;\n",
              "      box-shadow: 0px 1px 3px 1px rgba(0, 0, 0, 0.15);\n",
              "      filter: drop-shadow(0px 1px 2px rgba(0, 0, 0, 0.3));\n",
              "      fill: #FFFFFF;\n",
              "    }\n",
              "  </style>\n",
              "\n",
              "      <script>\n",
              "        const buttonEl =\n",
              "          document.querySelector('#df-6795d107-ee58-4f3b-8510-b88bf420f616 button.colab-df-convert');\n",
              "        buttonEl.style.display =\n",
              "          google.colab.kernel.accessAllowed ? 'block' : 'none';\n",
              "\n",
              "        async function convertToInteractive(key) {\n",
              "          const element = document.querySelector('#df-6795d107-ee58-4f3b-8510-b88bf420f616');\n",
              "          const dataTable =\n",
              "            await google.colab.kernel.invokeFunction('convertToInteractive',\n",
              "                                                     [key], {});\n",
              "          if (!dataTable) return;\n",
              "\n",
              "          const docLinkHtml = 'Like what you see? Visit the ' +\n",
              "            '<a target=\"_blank\" href=https://colab.research.google.com/notebooks/data_table.ipynb>data table notebook</a>'\n",
              "            + ' to learn more about interactive tables.';\n",
              "          element.innerHTML = '';\n",
              "          dataTable['output_type'] = 'display_data';\n",
              "          await google.colab.output.renderOutput(dataTable, element);\n",
              "          const docLink = document.createElement('div');\n",
              "          docLink.innerHTML = docLinkHtml;\n",
              "          element.appendChild(docLink);\n",
              "        }\n",
              "      </script>\n",
              "    </div>\n",
              "  </div>\n",
              "  "
            ]
          },
          "metadata": {},
          "execution_count": 179
        }
      ]
    },
    {
      "cell_type": "code",
      "source": [],
      "metadata": {
        "id": "a3QJolL0pQa3"
      },
      "execution_count": null,
      "outputs": []
    },
    {
      "cell_type": "code",
      "source": [],
      "metadata": {
        "id": "UcJKF-XqpQXJ"
      },
      "execution_count": null,
      "outputs": []
    },
    {
      "cell_type": "code",
      "source": [],
      "metadata": {
        "id": "teRRo-tIpQUA"
      },
      "execution_count": null,
      "outputs": []
    },
    {
      "cell_type": "markdown",
      "source": [
        "## Rede Neural"
      ],
      "metadata": {
        "id": "WfXT2dzUcflg"
      }
    },
    {
      "cell_type": "code",
      "source": [
        "modelo = model(x_train,4)"
      ],
      "metadata": {
        "id": "sw5YBTY7co3h"
      },
      "execution_count": 152,
      "outputs": []
    },
    {
      "cell_type": "code",
      "source": [
        "opt = tf.keras.optimizers.Adam(learning_rate=0.001)\n",
        "modelo.compile(optimizer=opt,\n",
        "              loss='sparse_categorical_crossentropy',\n",
        "              metrics=['accuracy'])"
      ],
      "metadata": {
        "id": "VVY2vqrocozb"
      },
      "execution_count": 153,
      "outputs": []
    },
    {
      "cell_type": "code",
      "source": [
        "modelo.fit(x_train, y_train, epochs=200, batch_size=32, verbose=2)\n",
        "\n",
        "# Avalia o modelo no conjunto de testes\n",
        "test_loss, test_acc = modelo.evaluate(x_test, y_test_, verbose=0)\n",
        "print(f'Test accuracy: {test_acc:.3f}')\n",
        "print(f'Test loss: {test_loss:.3f}')"
      ],
      "metadata": {
        "id": "dBGDBTIScovC",
        "colab": {
          "base_uri": "https://localhost:8080/"
        },
        "outputId": "1570abde-2b82-47d0-aa86-d076baa907ad"
      },
      "execution_count": 154,
      "outputs": [
        {
          "output_type": "stream",
          "name": "stdout",
          "text": [
            "Epoch 1/200\n",
            "333/333 - 6s - loss: 1.4174 - accuracy: 0.4398 - 6s/epoch - 17ms/step\n",
            "Epoch 2/200\n",
            "333/333 - 1s - loss: 0.8016 - accuracy: 0.6754 - 1s/epoch - 4ms/step\n",
            "Epoch 3/200\n",
            "333/333 - 1s - loss: 0.6893 - accuracy: 0.7126 - 1s/epoch - 4ms/step\n",
            "Epoch 4/200\n",
            "333/333 - 1s - loss: 0.6663 - accuracy: 0.7206 - 1s/epoch - 4ms/step\n",
            "Epoch 5/200\n",
            "333/333 - 1s - loss: 0.6485 - accuracy: 0.7236 - 1s/epoch - 4ms/step\n",
            "Epoch 6/200\n",
            "333/333 - 1s - loss: 0.6489 - accuracy: 0.7254 - 1s/epoch - 4ms/step\n",
            "Epoch 7/200\n",
            "333/333 - 1s - loss: 0.6434 - accuracy: 0.7259 - 1s/epoch - 4ms/step\n",
            "Epoch 8/200\n",
            "333/333 - 3s - loss: 0.6372 - accuracy: 0.7283 - 3s/epoch - 8ms/step\n",
            "Epoch 9/200\n",
            "333/333 - 3s - loss: 0.6364 - accuracy: 0.7314 - 3s/epoch - 9ms/step\n",
            "Epoch 10/200\n",
            "333/333 - 2s - loss: 0.6327 - accuracy: 0.7321 - 2s/epoch - 6ms/step\n",
            "Epoch 11/200\n",
            "333/333 - 1s - loss: 0.6318 - accuracy: 0.7291 - 1s/epoch - 4ms/step\n",
            "Epoch 12/200\n",
            "333/333 - 1s - loss: 0.6274 - accuracy: 0.7332 - 1s/epoch - 4ms/step\n",
            "Epoch 13/200\n",
            "333/333 - 1s - loss: 0.6280 - accuracy: 0.7314 - 1s/epoch - 4ms/step\n",
            "Epoch 14/200\n",
            "333/333 - 1s - loss: 0.6214 - accuracy: 0.7334 - 1s/epoch - 4ms/step\n",
            "Epoch 15/200\n",
            "333/333 - 1s - loss: 0.6225 - accuracy: 0.7330 - 1s/epoch - 4ms/step\n",
            "Epoch 16/200\n",
            "333/333 - 2s - loss: 0.6204 - accuracy: 0.7310 - 2s/epoch - 5ms/step\n",
            "Epoch 17/200\n",
            "333/333 - 2s - loss: 0.6170 - accuracy: 0.7316 - 2s/epoch - 6ms/step\n",
            "Epoch 18/200\n",
            "333/333 - 2s - loss: 0.6154 - accuracy: 0.7340 - 2s/epoch - 5ms/step\n",
            "Epoch 19/200\n",
            "333/333 - 1s - loss: 0.6136 - accuracy: 0.7326 - 1s/epoch - 4ms/step\n",
            "Epoch 20/200\n",
            "333/333 - 1s - loss: 0.6116 - accuracy: 0.7338 - 1s/epoch - 4ms/step\n",
            "Epoch 21/200\n",
            "333/333 - 1s - loss: 0.6132 - accuracy: 0.7340 - 1s/epoch - 4ms/step\n",
            "Epoch 22/200\n",
            "333/333 - 1s - loss: 0.6115 - accuracy: 0.7326 - 1s/epoch - 4ms/step\n",
            "Epoch 23/200\n",
            "333/333 - 1s - loss: 0.6099 - accuracy: 0.7324 - 1s/epoch - 4ms/step\n",
            "Epoch 24/200\n",
            "333/333 - 1s - loss: 0.6091 - accuracy: 0.7362 - 1s/epoch - 4ms/step\n",
            "Epoch 25/200\n",
            "333/333 - 2s - loss: 0.6090 - accuracy: 0.7298 - 2s/epoch - 5ms/step\n",
            "Epoch 26/200\n",
            "333/333 - 2s - loss: 0.6033 - accuracy: 0.7379 - 2s/epoch - 6ms/step\n",
            "Epoch 27/200\n",
            "333/333 - 2s - loss: 0.6062 - accuracy: 0.7345 - 2s/epoch - 6ms/step\n",
            "Epoch 28/200\n",
            "333/333 - 1s - loss: 0.6072 - accuracy: 0.7362 - 1s/epoch - 4ms/step\n",
            "Epoch 29/200\n",
            "333/333 - 1s - loss: 0.5991 - accuracy: 0.7377 - 1s/epoch - 4ms/step\n",
            "Epoch 30/200\n",
            "333/333 - 1s - loss: 0.6037 - accuracy: 0.7354 - 1s/epoch - 4ms/step\n",
            "Epoch 31/200\n",
            "333/333 - 1s - loss: 0.6063 - accuracy: 0.7313 - 1s/epoch - 4ms/step\n",
            "Epoch 32/200\n",
            "333/333 - 1s - loss: 0.6019 - accuracy: 0.7342 - 1s/epoch - 4ms/step\n",
            "Epoch 33/200\n",
            "333/333 - 1s - loss: 0.6026 - accuracy: 0.7342 - 1s/epoch - 4ms/step\n",
            "Epoch 34/200\n",
            "333/333 - 1s - loss: 0.5986 - accuracy: 0.7393 - 1s/epoch - 4ms/step\n",
            "Epoch 35/200\n",
            "333/333 - 2s - loss: 0.5988 - accuracy: 0.7339 - 2s/epoch - 6ms/step\n",
            "Epoch 36/200\n",
            "333/333 - 2s - loss: 0.5983 - accuracy: 0.7348 - 2s/epoch - 6ms/step\n",
            "Epoch 37/200\n",
            "333/333 - 1s - loss: 0.5982 - accuracy: 0.7389 - 1s/epoch - 4ms/step\n",
            "Epoch 38/200\n",
            "333/333 - 1s - loss: 0.5950 - accuracy: 0.7377 - 1s/epoch - 4ms/step\n",
            "Epoch 39/200\n",
            "333/333 - 1s - loss: 0.5976 - accuracy: 0.7347 - 1s/epoch - 4ms/step\n",
            "Epoch 40/200\n",
            "333/333 - 1s - loss: 0.5980 - accuracy: 0.7316 - 1s/epoch - 4ms/step\n",
            "Epoch 41/200\n",
            "333/333 - 1s - loss: 0.5943 - accuracy: 0.7371 - 1s/epoch - 4ms/step\n",
            "Epoch 42/200\n",
            "333/333 - 1s - loss: 0.5930 - accuracy: 0.7390 - 1s/epoch - 4ms/step\n",
            "Epoch 43/200\n",
            "333/333 - 1s - loss: 0.5927 - accuracy: 0.7370 - 1s/epoch - 4ms/step\n",
            "Epoch 44/200\n",
            "333/333 - 2s - loss: 0.5892 - accuracy: 0.7376 - 2s/epoch - 6ms/step\n",
            "Epoch 45/200\n",
            "333/333 - 2s - loss: 0.5942 - accuracy: 0.7401 - 2s/epoch - 7ms/step\n",
            "Epoch 46/200\n",
            "333/333 - 2s - loss: 0.5905 - accuracy: 0.7348 - 2s/epoch - 5ms/step\n",
            "Epoch 47/200\n",
            "333/333 - 1s - loss: 0.5938 - accuracy: 0.7382 - 1s/epoch - 4ms/step\n",
            "Epoch 48/200\n",
            "333/333 - 1s - loss: 0.5899 - accuracy: 0.7399 - 1s/epoch - 4ms/step\n",
            "Epoch 49/200\n",
            "333/333 - 1s - loss: 0.5890 - accuracy: 0.7391 - 1s/epoch - 4ms/step\n",
            "Epoch 50/200\n",
            "333/333 - 1s - loss: 0.5881 - accuracy: 0.7392 - 1s/epoch - 4ms/step\n",
            "Epoch 51/200\n",
            "333/333 - 1s - loss: 0.5901 - accuracy: 0.7401 - 1s/epoch - 4ms/step\n",
            "Epoch 52/200\n",
            "333/333 - 1s - loss: 0.5868 - accuracy: 0.7380 - 1s/epoch - 4ms/step\n",
            "Epoch 53/200\n",
            "333/333 - 2s - loss: 0.5924 - accuracy: 0.7346 - 2s/epoch - 6ms/step\n",
            "Epoch 54/200\n",
            "333/333 - 2s - loss: 0.5885 - accuracy: 0.7362 - 2s/epoch - 7ms/step\n",
            "Epoch 55/200\n",
            "333/333 - 2s - loss: 0.5878 - accuracy: 0.7400 - 2s/epoch - 5ms/step\n",
            "Epoch 56/200\n",
            "333/333 - 1s - loss: 0.5893 - accuracy: 0.7390 - 1s/epoch - 4ms/step\n",
            "Epoch 57/200\n",
            "333/333 - 1s - loss: 0.5895 - accuracy: 0.7388 - 1s/epoch - 4ms/step\n",
            "Epoch 58/200\n",
            "333/333 - 1s - loss: 0.5854 - accuracy: 0.7413 - 1s/epoch - 4ms/step\n",
            "Epoch 59/200\n",
            "333/333 - 1s - loss: 0.5913 - accuracy: 0.7364 - 1s/epoch - 4ms/step\n",
            "Epoch 60/200\n",
            "333/333 - 1s - loss: 0.5871 - accuracy: 0.7396 - 1s/epoch - 4ms/step\n",
            "Epoch 61/200\n",
            "333/333 - 1s - loss: 0.5863 - accuracy: 0.7374 - 1s/epoch - 4ms/step\n",
            "Epoch 62/200\n",
            "333/333 - 2s - loss: 0.5883 - accuracy: 0.7373 - 2s/epoch - 5ms/step\n",
            "Epoch 63/200\n",
            "333/333 - 2s - loss: 0.5846 - accuracy: 0.7385 - 2s/epoch - 6ms/step\n",
            "Epoch 64/200\n",
            "333/333 - 2s - loss: 0.5798 - accuracy: 0.7399 - 2s/epoch - 6ms/step\n",
            "Epoch 65/200\n",
            "333/333 - 1s - loss: 0.5875 - accuracy: 0.7376 - 1s/epoch - 4ms/step\n",
            "Epoch 66/200\n",
            "333/333 - 1s - loss: 0.5842 - accuracy: 0.7405 - 1s/epoch - 4ms/step\n",
            "Epoch 67/200\n",
            "333/333 - 1s - loss: 0.5820 - accuracy: 0.7407 - 1s/epoch - 4ms/step\n",
            "Epoch 68/200\n",
            "333/333 - 1s - loss: 0.5794 - accuracy: 0.7408 - 1s/epoch - 4ms/step\n",
            "Epoch 69/200\n",
            "333/333 - 1s - loss: 0.5833 - accuracy: 0.7383 - 1s/epoch - 4ms/step\n",
            "Epoch 70/200\n",
            "333/333 - 1s - loss: 0.5818 - accuracy: 0.7402 - 1s/epoch - 4ms/step\n",
            "Epoch 71/200\n",
            "333/333 - 2s - loss: 0.5875 - accuracy: 0.7398 - 2s/epoch - 5ms/step\n",
            "Epoch 72/200\n",
            "333/333 - 2s - loss: 0.5842 - accuracy: 0.7410 - 2s/epoch - 6ms/step\n",
            "Epoch 73/200\n",
            "333/333 - 2s - loss: 0.5832 - accuracy: 0.7412 - 2s/epoch - 6ms/step\n",
            "Epoch 74/200\n",
            "333/333 - 1s - loss: 0.5795 - accuracy: 0.7435 - 1s/epoch - 4ms/step\n",
            "Epoch 75/200\n",
            "333/333 - 1s - loss: 0.5811 - accuracy: 0.7405 - 1s/epoch - 4ms/step\n",
            "Epoch 76/200\n",
            "333/333 - 1s - loss: 0.5850 - accuracy: 0.7403 - 1s/epoch - 4ms/step\n",
            "Epoch 77/200\n",
            "333/333 - 1s - loss: 0.5848 - accuracy: 0.7392 - 1s/epoch - 4ms/step\n",
            "Epoch 78/200\n",
            "333/333 - 1s - loss: 0.5812 - accuracy: 0.7399 - 1s/epoch - 4ms/step\n",
            "Epoch 79/200\n",
            "333/333 - 1s - loss: 0.5816 - accuracy: 0.7386 - 1s/epoch - 4ms/step\n",
            "Epoch 80/200\n",
            "333/333 - 1s - loss: 0.5841 - accuracy: 0.7377 - 1s/epoch - 4ms/step\n",
            "Epoch 81/200\n",
            "333/333 - 2s - loss: 0.5795 - accuracy: 0.7412 - 2s/epoch - 6ms/step\n",
            "Epoch 82/200\n",
            "333/333 - 2s - loss: 0.5795 - accuracy: 0.7438 - 2s/epoch - 6ms/step\n",
            "Epoch 83/200\n",
            "333/333 - 2s - loss: 0.5828 - accuracy: 0.7395 - 2s/epoch - 5ms/step\n",
            "Epoch 84/200\n",
            "333/333 - 1s - loss: 0.5817 - accuracy: 0.7416 - 1s/epoch - 4ms/step\n",
            "Epoch 85/200\n",
            "333/333 - 1s - loss: 0.5799 - accuracy: 0.7413 - 1s/epoch - 4ms/step\n",
            "Epoch 86/200\n",
            "333/333 - 1s - loss: 0.5846 - accuracy: 0.7404 - 1s/epoch - 4ms/step\n",
            "Epoch 87/200\n",
            "333/333 - 1s - loss: 0.5835 - accuracy: 0.7401 - 1s/epoch - 4ms/step\n",
            "Epoch 88/200\n",
            "333/333 - 1s - loss: 0.5794 - accuracy: 0.7394 - 1s/epoch - 4ms/step\n",
            "Epoch 89/200\n",
            "333/333 - 1s - loss: 0.5839 - accuracy: 0.7403 - 1s/epoch - 4ms/step\n",
            "Epoch 90/200\n",
            "333/333 - 2s - loss: 0.5811 - accuracy: 0.7401 - 2s/epoch - 5ms/step\n",
            "Epoch 91/200\n",
            "333/333 - 2s - loss: 0.5780 - accuracy: 0.7393 - 2s/epoch - 6ms/step\n",
            "Epoch 92/200\n",
            "333/333 - 2s - loss: 0.5806 - accuracy: 0.7423 - 2s/epoch - 5ms/step\n",
            "Epoch 93/200\n",
            "333/333 - 1s - loss: 0.5757 - accuracy: 0.7428 - 1s/epoch - 4ms/step\n",
            "Epoch 94/200\n",
            "333/333 - 1s - loss: 0.5829 - accuracy: 0.7401 - 1s/epoch - 4ms/step\n",
            "Epoch 95/200\n",
            "333/333 - 1s - loss: 0.5782 - accuracy: 0.7431 - 1s/epoch - 4ms/step\n",
            "Epoch 96/200\n",
            "333/333 - 1s - loss: 0.5801 - accuracy: 0.7379 - 1s/epoch - 4ms/step\n",
            "Epoch 97/200\n",
            "333/333 - 1s - loss: 0.5784 - accuracy: 0.7392 - 1s/epoch - 4ms/step\n",
            "Epoch 98/200\n",
            "333/333 - 1s - loss: 0.5771 - accuracy: 0.7417 - 1s/epoch - 4ms/step\n",
            "Epoch 99/200\n",
            "333/333 - 2s - loss: 0.5778 - accuracy: 0.7414 - 2s/epoch - 5ms/step\n",
            "Epoch 100/200\n",
            "333/333 - 2s - loss: 0.5789 - accuracy: 0.7417 - 2s/epoch - 6ms/step\n",
            "Epoch 101/200\n",
            "333/333 - 2s - loss: 0.5812 - accuracy: 0.7390 - 2s/epoch - 6ms/step\n",
            "Epoch 102/200\n",
            "333/333 - 1s - loss: 0.5788 - accuracy: 0.7371 - 1s/epoch - 4ms/step\n",
            "Epoch 103/200\n",
            "333/333 - 1s - loss: 0.5779 - accuracy: 0.7404 - 1s/epoch - 4ms/step\n",
            "Epoch 104/200\n",
            "333/333 - 1s - loss: 0.5803 - accuracy: 0.7412 - 1s/epoch - 4ms/step\n",
            "Epoch 105/200\n",
            "333/333 - 1s - loss: 0.5787 - accuracy: 0.7377 - 1s/epoch - 4ms/step\n",
            "Epoch 106/200\n",
            "333/333 - 1s - loss: 0.5781 - accuracy: 0.7409 - 1s/epoch - 4ms/step\n",
            "Epoch 107/200\n",
            "333/333 - 1s - loss: 0.5784 - accuracy: 0.7408 - 1s/epoch - 4ms/step\n",
            "Epoch 108/200\n",
            "333/333 - 1s - loss: 0.5759 - accuracy: 0.7395 - 1s/epoch - 4ms/step\n",
            "Epoch 109/200\n",
            "333/333 - 2s - loss: 0.5804 - accuracy: 0.7381 - 2s/epoch - 6ms/step\n",
            "Epoch 110/200\n",
            "333/333 - 2s - loss: 0.5787 - accuracy: 0.7425 - 2s/epoch - 6ms/step\n",
            "Epoch 111/200\n",
            "333/333 - 2s - loss: 0.5791 - accuracy: 0.7418 - 2s/epoch - 5ms/step\n",
            "Epoch 112/200\n",
            "333/333 - 1s - loss: 0.5794 - accuracy: 0.7417 - 1s/epoch - 4ms/step\n",
            "Epoch 113/200\n",
            "333/333 - 1s - loss: 0.5774 - accuracy: 0.7432 - 1s/epoch - 4ms/step\n",
            "Epoch 114/200\n",
            "333/333 - 1s - loss: 0.5746 - accuracy: 0.7427 - 1s/epoch - 4ms/step\n",
            "Epoch 115/200\n",
            "333/333 - 1s - loss: 0.5786 - accuracy: 0.7402 - 1s/epoch - 4ms/step\n",
            "Epoch 116/200\n",
            "333/333 - 1s - loss: 0.5761 - accuracy: 0.7407 - 1s/epoch - 4ms/step\n",
            "Epoch 117/200\n",
            "333/333 - 1s - loss: 0.5729 - accuracy: 0.7381 - 1s/epoch - 4ms/step\n",
            "Epoch 118/200\n",
            "333/333 - 2s - loss: 0.5763 - accuracy: 0.7431 - 2s/epoch - 6ms/step\n",
            "Epoch 119/200\n",
            "333/333 - 2s - loss: 0.5743 - accuracy: 0.7425 - 2s/epoch - 6ms/step\n",
            "Epoch 120/200\n",
            "333/333 - 2s - loss: 0.5750 - accuracy: 0.7416 - 2s/epoch - 5ms/step\n",
            "Epoch 121/200\n",
            "333/333 - 1s - loss: 0.5743 - accuracy: 0.7391 - 1s/epoch - 4ms/step\n",
            "Epoch 122/200\n",
            "333/333 - 1s - loss: 0.5751 - accuracy: 0.7431 - 1s/epoch - 4ms/step\n",
            "Epoch 123/200\n",
            "333/333 - 1s - loss: 0.5753 - accuracy: 0.7404 - 1s/epoch - 4ms/step\n",
            "Epoch 124/200\n",
            "333/333 - 1s - loss: 0.5761 - accuracy: 0.7426 - 1s/epoch - 4ms/step\n",
            "Epoch 125/200\n",
            "333/333 - 1s - loss: 0.5746 - accuracy: 0.7405 - 1s/epoch - 4ms/step\n",
            "Epoch 126/200\n",
            "333/333 - 1s - loss: 0.5774 - accuracy: 0.7418 - 1s/epoch - 4ms/step\n",
            "Epoch 127/200\n",
            "333/333 - 2s - loss: 0.5750 - accuracy: 0.7399 - 2s/epoch - 5ms/step\n",
            "Epoch 128/200\n",
            "333/333 - 2s - loss: 0.5749 - accuracy: 0.7422 - 2s/epoch - 6ms/step\n",
            "Epoch 129/200\n",
            "333/333 - 2s - loss: 0.5763 - accuracy: 0.7402 - 2s/epoch - 5ms/step\n",
            "Epoch 130/200\n",
            "333/333 - 1s - loss: 0.5781 - accuracy: 0.7430 - 1s/epoch - 4ms/step\n",
            "Epoch 131/200\n",
            "333/333 - 1s - loss: 0.5764 - accuracy: 0.7409 - 1s/epoch - 4ms/step\n",
            "Epoch 132/200\n",
            "333/333 - 1s - loss: 0.5739 - accuracy: 0.7411 - 1s/epoch - 4ms/step\n",
            "Epoch 133/200\n",
            "333/333 - 1s - loss: 0.5748 - accuracy: 0.7386 - 1s/epoch - 4ms/step\n",
            "Epoch 134/200\n",
            "333/333 - 1s - loss: 0.5736 - accuracy: 0.7418 - 1s/epoch - 4ms/step\n",
            "Epoch 135/200\n",
            "333/333 - 1s - loss: 0.5725 - accuracy: 0.7403 - 1s/epoch - 4ms/step\n",
            "Epoch 136/200\n",
            "333/333 - 1s - loss: 0.5714 - accuracy: 0.7427 - 1s/epoch - 4ms/step\n",
            "Epoch 137/200\n",
            "333/333 - 2s - loss: 0.5761 - accuracy: 0.7395 - 2s/epoch - 6ms/step\n",
            "Epoch 138/200\n",
            "333/333 - 2s - loss: 0.5783 - accuracy: 0.7412 - 2s/epoch - 6ms/step\n",
            "Epoch 139/200\n",
            "333/333 - 1s - loss: 0.5710 - accuracy: 0.7447 - 1s/epoch - 4ms/step\n",
            "Epoch 140/200\n",
            "333/333 - 1s - loss: 0.5752 - accuracy: 0.7385 - 1s/epoch - 4ms/step\n",
            "Epoch 141/200\n",
            "333/333 - 1s - loss: 0.5750 - accuracy: 0.7419 - 1s/epoch - 4ms/step\n",
            "Epoch 142/200\n",
            "333/333 - 1s - loss: 0.5727 - accuracy: 0.7446 - 1s/epoch - 4ms/step\n",
            "Epoch 143/200\n",
            "333/333 - 1s - loss: 0.5682 - accuracy: 0.7423 - 1s/epoch - 4ms/step\n",
            "Epoch 144/200\n",
            "333/333 - 1s - loss: 0.5715 - accuracy: 0.7410 - 1s/epoch - 4ms/step\n",
            "Epoch 145/200\n",
            "333/333 - 1s - loss: 0.5721 - accuracy: 0.7411 - 1s/epoch - 4ms/step\n",
            "Epoch 146/200\n",
            "333/333 - 2s - loss: 0.5738 - accuracy: 0.7442 - 2s/epoch - 6ms/step\n",
            "Epoch 147/200\n",
            "333/333 - 2s - loss: 0.5731 - accuracy: 0.7460 - 2s/epoch - 6ms/step\n",
            "Epoch 148/200\n",
            "333/333 - 2s - loss: 0.5734 - accuracy: 0.7412 - 2s/epoch - 5ms/step\n",
            "Epoch 149/200\n",
            "333/333 - 1s - loss: 0.5770 - accuracy: 0.7408 - 1s/epoch - 4ms/step\n",
            "Epoch 150/200\n",
            "333/333 - 1s - loss: 0.5729 - accuracy: 0.7418 - 1s/epoch - 4ms/step\n",
            "Epoch 151/200\n",
            "333/333 - 1s - loss: 0.5727 - accuracy: 0.7427 - 1s/epoch - 4ms/step\n",
            "Epoch 152/200\n",
            "333/333 - 1s - loss: 0.5702 - accuracy: 0.7431 - 1s/epoch - 4ms/step\n",
            "Epoch 153/200\n",
            "333/333 - 1s - loss: 0.5739 - accuracy: 0.7380 - 1s/epoch - 4ms/step\n",
            "Epoch 154/200\n",
            "333/333 - 1s - loss: 0.5719 - accuracy: 0.7411 - 1s/epoch - 4ms/step\n",
            "Epoch 155/200\n",
            "333/333 - 2s - loss: 0.5714 - accuracy: 0.7426 - 2s/epoch - 5ms/step\n",
            "Epoch 156/200\n",
            "333/333 - 2s - loss: 0.5700 - accuracy: 0.7428 - 2s/epoch - 6ms/step\n",
            "Epoch 157/200\n",
            "333/333 - 2s - loss: 0.5737 - accuracy: 0.7425 - 2s/epoch - 6ms/step\n",
            "Epoch 158/200\n",
            "333/333 - 1s - loss: 0.5708 - accuracy: 0.7398 - 1s/epoch - 4ms/step\n",
            "Epoch 159/200\n",
            "333/333 - 1s - loss: 0.5734 - accuracy: 0.7394 - 1s/epoch - 4ms/step\n",
            "Epoch 160/200\n",
            "333/333 - 1s - loss: 0.5730 - accuracy: 0.7417 - 1s/epoch - 4ms/step\n",
            "Epoch 161/200\n",
            "333/333 - 1s - loss: 0.5727 - accuracy: 0.7423 - 1s/epoch - 4ms/step\n",
            "Epoch 162/200\n",
            "333/333 - 1s - loss: 0.5708 - accuracy: 0.7420 - 1s/epoch - 4ms/step\n",
            "Epoch 163/200\n",
            "333/333 - 1s - loss: 0.5709 - accuracy: 0.7425 - 1s/epoch - 4ms/step\n",
            "Epoch 164/200\n",
            "333/333 - 1s - loss: 0.5726 - accuracy: 0.7401 - 1s/epoch - 4ms/step\n",
            "Epoch 165/200\n",
            "333/333 - 2s - loss: 0.5730 - accuracy: 0.7462 - 2s/epoch - 6ms/step\n",
            "Epoch 166/200\n",
            "333/333 - 2s - loss: 0.5739 - accuracy: 0.7446 - 2s/epoch - 6ms/step\n",
            "Epoch 167/200\n",
            "333/333 - 2s - loss: 0.5720 - accuracy: 0.7417 - 2s/epoch - 5ms/step\n",
            "Epoch 168/200\n",
            "333/333 - 1s - loss: 0.5701 - accuracy: 0.7408 - 1s/epoch - 4ms/step\n",
            "Epoch 169/200\n",
            "333/333 - 1s - loss: 0.5738 - accuracy: 0.7409 - 1s/epoch - 4ms/step\n",
            "Epoch 170/200\n",
            "333/333 - 1s - loss: 0.5686 - accuracy: 0.7454 - 1s/epoch - 4ms/step\n",
            "Epoch 171/200\n",
            "333/333 - 1s - loss: 0.5705 - accuracy: 0.7413 - 1s/epoch - 4ms/step\n",
            "Epoch 172/200\n",
            "333/333 - 1s - loss: 0.5730 - accuracy: 0.7419 - 1s/epoch - 4ms/step\n",
            "Epoch 173/200\n",
            "333/333 - 1s - loss: 0.5720 - accuracy: 0.7431 - 1s/epoch - 4ms/step\n",
            "Epoch 174/200\n",
            "333/333 - 2s - loss: 0.5663 - accuracy: 0.7474 - 2s/epoch - 5ms/step\n",
            "Epoch 175/200\n",
            "333/333 - 2s - loss: 0.5641 - accuracy: 0.7469 - 2s/epoch - 6ms/step\n",
            "Epoch 176/200\n",
            "333/333 - 2s - loss: 0.5707 - accuracy: 0.7391 - 2s/epoch - 5ms/step\n",
            "Epoch 177/200\n",
            "333/333 - 1s - loss: 0.5683 - accuracy: 0.7457 - 1s/epoch - 4ms/step\n",
            "Epoch 178/200\n",
            "333/333 - 1s - loss: 0.5760 - accuracy: 0.7401 - 1s/epoch - 4ms/step\n",
            "Epoch 179/200\n",
            "333/333 - 1s - loss: 0.5725 - accuracy: 0.7411 - 1s/epoch - 4ms/step\n",
            "Epoch 180/200\n",
            "333/333 - 1s - loss: 0.5706 - accuracy: 0.7437 - 1s/epoch - 4ms/step\n",
            "Epoch 181/200\n",
            "333/333 - 1s - loss: 0.5693 - accuracy: 0.7441 - 1s/epoch - 4ms/step\n",
            "Epoch 182/200\n",
            "333/333 - 1s - loss: 0.5692 - accuracy: 0.7435 - 1s/epoch - 4ms/step\n",
            "Epoch 183/200\n",
            "333/333 - 2s - loss: 0.5690 - accuracy: 0.7428 - 2s/epoch - 5ms/step\n",
            "Epoch 184/200\n",
            "333/333 - 2s - loss: 0.5691 - accuracy: 0.7445 - 2s/epoch - 6ms/step\n",
            "Epoch 185/200\n",
            "333/333 - 2s - loss: 0.5751 - accuracy: 0.7411 - 2s/epoch - 6ms/step\n",
            "Epoch 186/200\n",
            "333/333 - 1s - loss: 0.5668 - accuracy: 0.7423 - 1s/epoch - 4ms/step\n",
            "Epoch 187/200\n",
            "333/333 - 1s - loss: 0.5722 - accuracy: 0.7435 - 1s/epoch - 4ms/step\n",
            "Epoch 188/200\n",
            "333/333 - 1s - loss: 0.5695 - accuracy: 0.7441 - 1s/epoch - 4ms/step\n",
            "Epoch 189/200\n",
            "333/333 - 1s - loss: 0.5729 - accuracy: 0.7398 - 1s/epoch - 4ms/step\n",
            "Epoch 190/200\n",
            "333/333 - 1s - loss: 0.5682 - accuracy: 0.7423 - 1s/epoch - 4ms/step\n",
            "Epoch 191/200\n",
            "333/333 - 1s - loss: 0.5715 - accuracy: 0.7423 - 1s/epoch - 4ms/step\n",
            "Epoch 192/200\n",
            "333/333 - 2s - loss: 0.5716 - accuracy: 0.7431 - 2s/epoch - 5ms/step\n",
            "Epoch 193/200\n",
            "333/333 - 2s - loss: 0.5695 - accuracy: 0.7423 - 2s/epoch - 6ms/step\n",
            "Epoch 194/200\n",
            "333/333 - 2s - loss: 0.5713 - accuracy: 0.7424 - 2s/epoch - 6ms/step\n",
            "Epoch 195/200\n",
            "333/333 - 1s - loss: 0.5677 - accuracy: 0.7456 - 1s/epoch - 4ms/step\n",
            "Epoch 196/200\n",
            "333/333 - 1s - loss: 0.5701 - accuracy: 0.7413 - 1s/epoch - 4ms/step\n",
            "Epoch 197/200\n",
            "333/333 - 1s - loss: 0.5694 - accuracy: 0.7401 - 1s/epoch - 4ms/step\n",
            "Epoch 198/200\n",
            "333/333 - 1s - loss: 0.5721 - accuracy: 0.7422 - 1s/epoch - 4ms/step\n",
            "Epoch 199/200\n",
            "333/333 - 1s - loss: 0.5678 - accuracy: 0.7425 - 1s/epoch - 4ms/step\n",
            "Epoch 200/200\n",
            "333/333 - 1s - loss: 0.5705 - accuracy: 0.7426 - 1s/epoch - 4ms/step\n",
            "Test accuracy: 0.734\n",
            "Test loss: 0.630\n"
          ]
        }
      ]
    },
    {
      "cell_type": "code",
      "source": [
        "y_pred_prob = modelo.predict(x_test)\n",
        "y_pred = modelo.predict(x_test)"
      ],
      "metadata": {
        "colab": {
          "base_uri": "https://localhost:8080/"
        },
        "id": "FADTdR2CmWqQ",
        "outputId": "b947d634-3921-4897-94bd-990b924b8268"
      },
      "execution_count": 156,
      "outputs": [
        {
          "output_type": "stream",
          "name": "stdout",
          "text": [
            "84/84 [==============================] - 0s 2ms/step\n",
            "84/84 [==============================] - 0s 2ms/step\n"
          ]
        }
      ]
    },
    {
      "cell_type": "code",
      "source": [
        "y_pred_classes = y_pred.argmax(axis=-1)"
      ],
      "metadata": {
        "id": "Fb4EFIm_mYtx"
      },
      "execution_count": 159,
      "outputs": []
    },
    {
      "cell_type": "code",
      "source": [
        "\n",
        "target = ['Level 1 - Use of Force', 'Level 2 - Use of Force', \t'Level 3 - Use of Force', \t'Level 3 - OIS']\n",
        "metricas(y_test_,y_pred_classes, \"Rede Neural\",target)\n",
        "#print(f\"Logloss = {log_loss(y_pred=y_pred_prob,y_true=y_test_)}\")"
      ],
      "metadata": {
        "colab": {
          "base_uri": "https://localhost:8080/"
        },
        "id": "TvlF4GiAhH0U",
        "outputId": "6d9207d7-ae19-474e-a117-f5703d4fb30a"
      },
      "execution_count": 165,
      "outputs": [
        {
          "output_type": "stream",
          "name": "stdout",
          "text": [
            "model Rede Neural\n",
            "Acuracia = 73.37589185129552 %\n",
            "Precisao = 72.0767807773338 %\n",
            "Recall = 73.37589185129552 %\n",
            "==================================================\n",
            "                        precision    recall  f1-score   support\n",
            "\n",
            "Level 1 - Use of Force       0.73      0.97      0.84      1874\n",
            "Level 2 - Use of Force       0.72      0.17      0.28       750\n",
            "Level 3 - Use of Force       0.00      0.00      0.00        16\n",
            "         Level 3 - OIS       0.00      0.00      0.00        23\n",
            "\n",
            "              accuracy                           0.73      2663\n",
            "             macro avg       0.36      0.29      0.28      2663\n",
            "          weighted avg       0.72      0.73      0.67      2663\n",
            "\n"
          ]
        }
      ]
    },
    {
      "cell_type": "markdown",
      "source": [
        "## Avaliação"
      ],
      "metadata": {
        "id": "KPYQkxVKYfsm"
      }
    },
    {
      "cell_type": "markdown",
      "source": [
        "Aqui podemos perceber que todos os algoritmos apresentaram o mesmo problema, o qual se deve ao fato de que as classes 'Level 3 - Use of Force' e 'Level 3 - OIS' possuem poucos dados disponíveis. Como consequência, torna-se difícil para o modelo aprender os padrões dessas classes, uma vez que a categoria Level 3 apresenta menos dados, mesmo quando utilizando técnicas de balanceamento de dados, o que acaba sendo desfavorável. Uma possível solução seria a utilização de técnicas de data augmentation, porém estaríamos trabalhando com dados sintéticos, o que não é muito interessante no mundo real. Outra solução seria a junção das duas categorias, mas isso implicaria na perda de informações. A solução mais indicada seria a coleta de mais dados para suprir essa falta."
      ],
      "metadata": {
        "id": "eKa617TPngDI"
      }
    },
    {
      "cell_type": "markdown",
      "source": [
        "Ao fim podemos usar esse pipeline para o melhor modelo\n",
        "\n",
        "\n",
        "```python\n",
        "pipeline = Pipeline([\n",
        "    ('encoder', OneHotEncoder(handle_unknown='ignore')), \n",
        "    ('label_encoder', LabelEncoder()),\n",
        "    ('classifier', best_model),\n",
        "])\n",
        "```\n",
        "\n"
      ],
      "metadata": {
        "id": "PojI_LlNy1t7"
      }
    },
    {
      "cell_type": "markdown",
      "source": [
        "Outra abordagem seria usar automl, como pycaret."
      ],
      "metadata": {
        "id": "ZChmAZb7zKJt"
      }
    },
    {
      "cell_type": "code",
      "source": [],
      "metadata": {
        "id": "omU4vc36YkT_"
      },
      "execution_count": 22,
      "outputs": []
    }
  ]
}